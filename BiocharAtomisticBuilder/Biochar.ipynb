{
 "cells": [
  {
   "cell_type": "markdown",
   "id": "9d388d16",
   "metadata": {},
   "source": [
    "# Code to Generate Biochar Atomistic Models"
   ]
  },
  {
   "cell_type": "markdown",
   "id": "c219b977",
   "metadata": {},
   "source": [
    "<img src=\"biochar.png\" width=\"450\" height=\"450\">\n"
   ]
  },
  {
   "cell_type": "markdown",
   "id": "f07295ee",
   "metadata": {},
   "source": [
    "## Open Pymol "
   ]
  },
  {
   "cell_type": "code",
   "execution_count": 1,
   "id": "9c8ffdaf",
   "metadata": {},
   "outputs": [],
   "source": [
    "# Import pymol\n",
    "from ipymol import viewer as pymol"
   ]
  },
  {
   "cell_type": "code",
   "execution_count": 2,
   "id": "99ca99f7",
   "metadata": {},
   "outputs": [],
   "source": [
    "# Initiate PyMol RPC module\n",
    "import glob,os,sys,subprocess,random, math\n",
    "from pymol_rpc import pymol_jupyter_builder\n",
    "import numpy as np\n",
    "from scipy.optimize import minimize\n",
    "from sympy import symbols, Eq, solve\n",
    "\n",
    "builder = pymol_jupyter_builder()\n",
    "builder.start()"
   ]
  },
  {
   "cell_type": "code",
   "execution_count": 3,
   "id": "5d7c8100",
   "metadata": {},
   "outputs": [],
   "source": [
    "# Import cmd \n",
    "import xmlrpc.client as xmlrpclib\n",
    "cmd = xmlrpclib.ServerProxy('http://localhost:9123')\n",
    "cmd.reinitialize()"
   ]
  },
  {
   "cell_type": "markdown",
   "id": "075a91ec",
   "metadata": {},
   "source": [
    "## Input: Biochar data"
   ]
  },
  {
   "cell_type": "code",
   "execution_count": 4,
   "id": "e9de8c46",
   "metadata": {},
   "outputs": [
    {
     "name": "stdin",
     "output_type": "stream",
     "text": [
      "Enter the temperature of pyrolysis in °C:  500\n"
     ]
    }
   ],
   "source": [
    "Biochar_Temp=float(input(\"Enter the temperature of pyrolysis in °C: \"))"
   ]
  },
  {
   "cell_type": "code",
   "execution_count": 5,
   "id": "b14d78aa",
   "metadata": {},
   "outputs": [],
   "source": [
    "# Hydroxyl groups, qualitative data from FTIR\n",
    "\n",
    "if Biochar_Temp == 400:\n",
    "    v = 0.03\n",
    "elif Biochar_Temp == 500:\n",
    "    v = 0.001\n",
    "elif Biochar_Temp == 600 or Biochar_Temp == 700:\n",
    "    v = 0\n",
    "else:\n",
    "    v = 0  # You may want to specify a default value in case Biochar_Temp doesn't match any of the above conditions"
   ]
  },
  {
   "cell_type": "markdown",
   "id": "06b6e8c8",
   "metadata": {},
   "source": [
    "### Ultimate analysis"
   ]
  },
  {
   "cell_type": "code",
   "execution_count": 6,
   "id": "187562e5",
   "metadata": {},
   "outputs": [
    {
     "name": "stdin",
     "output_type": "stream",
     "text": [
      "Enter the value for Carbon:  0.8141\n",
      "Enter the value for Hydrogen:  0.0350\n",
      "Enter the value for Oxygen:  0.1498\n",
      "Enter the value for Nitrogen:  0.0011\n",
      "Enter the value for H/C molar ratio:  0.512\n",
      "Enter the value for O/C molar ratio:  0.137\n",
      "Enter the value for BridgheadCarbon:  0.488\n"
     ]
    }
   ],
   "source": [
    "Carbon = float(input(\"Enter the value for Carbon: \"))\n",
    "Hydrogen = float(input(\"Enter the value for Hydrogen: \"))\n",
    "Oxygen = float(input(\"Enter the value for Oxygen: \"))\n",
    "Nitrogen = float(input(\"Enter the value for Nitrogen: \"))\n",
    "H_C = float(input(\"Enter the value for H/C molar ratio: \"))\n",
    "O_C = float(input(\"Enter the value for O/C molar ratio: \"))\n",
    "BridgheadCarbon=float(input(\"Enter the value for BridgheadCarbon: \"))"
   ]
  },
  {
   "cell_type": "markdown",
   "id": "dde22677",
   "metadata": {},
   "source": [
    "### Multi-CP 13C NMR quantitaive data"
   ]
  },
  {
   "cell_type": "code",
   "execution_count": 7,
   "id": "518f0f48-bac5-4f3d-b960-594600512d3d",
   "metadata": {},
   "outputs": [
    {
     "name": "stdin",
     "output_type": "stream",
     "text": [
      "Enter the value for Caro:  0.6733\n",
      "Enter the value for Carbonyl:  0.0233\n",
      "Enter the value for Ester:  0.0333\n",
      "Enter the value for Ether:  0.1233\n",
      "Enter the value for Aliphatic:  0.0333\n",
      "Enter the value for Defect:  0.1133\n",
      "Enter the value C-H:  0.31\n",
      "Enter the value C-O-H:  0.47\n"
     ]
    }
   ],
   "source": [
    "Aromatic = float(input(\"Enter the value for Caro: \"))\n",
    "Carbonyl = float(input(\"Enter the value for Carbonyl: \"))\n",
    "Ester = float(input(\"Enter the value for Ester: \"))          # Carboxyl/Lactone/Ester\n",
    "Ether = float(input(\"Enter the value for Ether: \"))\n",
    "Aliphatic = float(input(\"Enter the value for Aliphatic: \"))\n",
    "Defect = float(input(\"Enter the value for Defect: \"))        # Non-hexagonal rings\n",
    "C_H_=float(input(\"Enter the value C-H: \"))                   # If you don't have these values put zero\n",
    "C_x_H_=float(input(\"Enter the value C-O-H: \"))               # If you don't have these values put zero"
   ]
  },
  {
   "cell_type": "markdown",
   "id": "95976ca4",
   "metadata": {},
   "source": [
    "### Aromatic cluster size distribution, obtained from BPCA.ipynb"
   ]
  },
  {
   "cell_type": "code",
   "execution_count": 8,
   "id": "cc9c72e4-71ee-4788-9648-d2c5815583e5",
   "metadata": {},
   "outputs": [
    {
     "name": "stdin",
     "output_type": "stream",
     "text": [
      "System size selected on BPCA.ipynb:  10000\n"
     ]
    }
   ],
   "source": [
    "system_size = float(input(\"System size selected on BPCA.ipynb: \"))"
   ]
  },
  {
   "cell_type": "code",
   "execution_count": 9,
   "id": "39986962",
   "metadata": {},
   "outputs": [
    {
     "name": "stdout",
     "output_type": "stream",
     "text": [
      "[ 0  3  0  0  0 10  0  0  0  0  0  0  2  0  0  0 11  3 62  3  0  0  7  3\n",
      "  1  2  0  0  0  0  0  2  0]\n"
     ]
    }
   ],
   "source": [
    "%store -r result\n",
    "values=np.round(result[0]).astype(int)\n",
    "print(values)"
   ]
  },
  {
   "cell_type": "markdown",
   "id": "29975c5f",
   "metadata": {},
   "source": [
    "## Step1: Include the aromatic clusters in PyMOL and create the grid"
   ]
  },
  {
   "cell_type": "markdown",
   "id": "5a2fced8",
   "metadata": {},
   "source": [
    "#### Note: All the molecules included in the BPCA_PAH should be in this folder as mol2 file "
   ]
  },
  {
   "cell_type": "code",
   "execution_count": 10,
   "id": "ebdbc5b5",
   "metadata": {},
   "outputs": [
    {
     "data": {
      "text/plain": [
       "1"
      ]
     },
     "execution_count": 10,
     "metadata": {},
     "output_type": "execute_result"
    }
   ],
   "source": [
    "cmd.load(\"fluorene.mol2\", \"fluorene\")\n",
    "cmd.load(\"phenalene.mol2\", \"phenalene\")\n",
    "cmd.load(\"phenanthrene.mol2\", \"phenanthrene\")\n",
    "cmd.load(\"anthracene.mol2\", \"anthracene\")\n",
    "cmd.load(\"tetracene.mol2\", \"tetracene\")\n",
    "cmd.load(\"pentacene.mol2\", \"pentacene\")\n",
    "cmd.load(\"pyrene.mol2\", \"pyrene\")\n",
    "cmd.load(\"chrysene.mol2\", \"chrysene\")\n",
    "cmd.load(\"benzo_a_fluorene.mol2\", \"benzo_a_fluorene\")\n",
    "cmd.load(\"benzo_b_fluoranthene.mol2\", \"benzo_b_fluoranthene\")\n",
    "cmd.load(\"benzo_b_fluorene.mol2\", \"benzo_b_fluorene\")\n",
    "cmd.load(\"coronene.mol2\", \"coronene\")\n",
    "cmd.load(\"perylene.mol2\", \"perylene\")\n",
    "cmd.load(\"benzo_a_pyrene.mol2\", \"benzo_a_pyrene\")\n",
    "cmd.load(\"benzo_g_h_i_perylene.mol2\", \"benzo_g_h_i_perylene\")\n",
    "cmd.load(\"circumpyrene.mol2\", \"circumpyrene\")\n",
    "cmd.load(\"circumcoronene.mol2\", \"circumcoronene\")\n",
    "cmd.load(\"circumovalene.mol2\", \"circumovalene\")\n",
    "cmd.load(\"pentatriacotaene.mol2\", \"pentatriacotaene\")\n",
    "cmd.load(\"circumcircumpyrene.mol2\", \"circumcircumpyrene\")\n",
    "cmd.load(\"c84.mol2\", \"c84\")\n",
    "cmd.load(\"N5.mol2\", \"m5\")\n",
    "cmd.load(\"N8.mol2\", \"N8\")\n",
    "cmd.load(\"N9.mol2\", \"N9\")\n",
    "cmd.load(\"N10.mol2\", \"N10\")\n",
    "cmd.load(\"N11.mol2\", \"N11\")\n",
    "cmd.load(\"N12.mol2\", \"N12\")\n",
    "cmd.load(\"N13.mol2\", \"N13\")\n",
    "cmd.load(\"N14.mol2\", \"N14\")\n",
    "cmd.load(\"N15.mol2\", \"N15\")\n",
    "cmd.load(\"N16.mol2\", \"N16\")\n",
    "cmd.load(\"N17.mol2\", \"N17\")\n",
    "cmd.load(\"N18.mol2\", \"N18\")"
   ]
  },
  {
   "cell_type": "code",
   "execution_count": 11,
   "id": "60db6192",
   "metadata": {},
   "outputs": [],
   "source": [
    "cmd.alias(\"colour\", \"color cyan, (name c*); color red, (name o*); color white, (name h*); color blue, (name n*); color yellow, (name s); color brown, (name si)\")"
   ]
  },
  {
   "cell_type": "code",
   "execution_count": 12,
   "id": "dc930099",
   "metadata": {},
   "outputs": [],
   "source": [
    "cmd.do('colour')\n",
    "cmd.do('orient')\n",
    "cmd.do('set sphere_scale, 0.2, (all)')\n",
    "cmd.do('set_bond stick_radius, 0.14, (all), (all)')\n",
    "cmd.do('show sticks')\n",
    "cmd.do('show spheres')\n",
    "cmd.bg_color(\"white\")\n",
    "cmd.set(\"ray_shadows\", \"off\")"
   ]
  },
  {
   "cell_type": "code",
   "execution_count": 13,
   "id": "30a2773d",
   "metadata": {},
   "outputs": [],
   "source": [
    "def generate_coordinates(num_coordinates):\n",
    "    coordinates = []\n",
    "    \n",
    "    xmin, xmax = 0, 150\n",
    "    ymin, ymax = -150, 0\n",
    "    zmin, zmax = 0, 150\n",
    "\n",
    "    num_per_dim = int(math.ceil(num_coordinates ** (1/3)))\n",
    "    \n",
    "    x_spacing = (xmax - xmin) / (num_per_dim - 1)\n",
    "    y_spacing = (ymax - ymin) / (num_per_dim - 1)\n",
    "    z_spacing = (zmax - zmin) / (num_per_dim - 1)\n",
    "    \n",
    "    count = 0\n",
    "    for x in range(num_per_dim):\n",
    "        for y in range(num_per_dim):\n",
    "            for z in range(num_per_dim):\n",
    "                if count >= num_coordinates:\n",
    "                    break\n",
    "                x_coord = xmin + x * x_spacing\n",
    "                y_coord = ymin + y * y_spacing\n",
    "                z_coord = zmin + z * z_spacing\n",
    "                rotation_angles = [random.uniform(0, 360) for _ in range(3)]\n",
    "                coordinates.append((x_coord, y_coord, z_coord, rotation_angles))\n",
    "                count += 1\n",
    "            if count >= num_coordinates:\n",
    "                break\n",
    "        if count >= num_coordinates:\n",
    "            break\n",
    "\n",
    "    return coordinates\n",
    "\n",
    "coordinates = generate_coordinates(round(system_size*0.02))"
   ]
  },
  {
   "cell_type": "code",
   "execution_count": 14,
   "id": "6eab5a0f",
   "metadata": {},
   "outputs": [
    {
     "name": "stdout",
     "output_type": "stream",
     "text": [
      "PAH types: 33\n"
     ]
    }
   ],
   "source": [
    "object_list = cmd.get_object_list()\n",
    "num_objects = len(object_list)\n",
    "print(\"PAH types:\", num_objects)"
   ]
  },
  {
   "cell_type": "markdown",
   "id": "67487ef6-0e8e-47ee-92b4-3be59386309e",
   "metadata": {},
   "source": [
    "#### Insert all the PAH in PyMol according to the BPCA distribution"
   ]
  },
  {
   "cell_type": "code",
   "execution_count": 15,
   "id": "bc5f5723-95a4-429f-a3ba-b6942cf60784",
   "metadata": {},
   "outputs": [
    {
     "name": "stdout",
     "output_type": "stream",
     "text": [
      "PAH clusters: 109\n"
     ]
    }
   ],
   "source": [
    "def copy_translate_delete(object_name, num_copies, coordinates, start_index):\n",
    "    for i in range(1, num_copies + 1):\n",
    "        cmd.copy(f\"{object_name}{i}\", object_name)\n",
    "        cmd.translate(coordinates[start_index + i - 1], f\"{object_name}{i}\")\n",
    "    cmd.delete(object_name)\n",
    "\n",
    "for idx, object_name in enumerate(object_list):\n",
    "    copy_translate_delete(object_name, values[idx], coordinates, num_objects)\n",
    "    num_objects += values[idx]\n",
    "\n",
    "cmd.reset()\n",
    "\n",
    "object_list = cmd.get_object_list()\n",
    "num_objects = len(object_list)\n",
    "print(\"PAH clusters:\", num_objects)"
   ]
  },
  {
   "cell_type": "markdown",
   "id": "c49121e4",
   "metadata": {},
   "source": [
    "### Check the number of aromatic carbons"
   ]
  },
  {
   "cell_type": "code",
   "execution_count": 16,
   "id": "afc603dd",
   "metadata": {},
   "outputs": [
    {
     "name": "stdout",
     "output_type": "stream",
     "text": [
      "Element C: 6155\n",
      "Element H: 2146\n",
      "Element N: 0\n",
      "Element O: 0\n",
      "Element S: 0\n",
      "Element Cl: 0\n",
      "Element Si: 0\n"
     ]
    }
   ],
   "source": [
    "# Count the number of atoms for each element\n",
    "atom_counts = {}\n",
    "elements = [\"C\", \"H\", \"N\", \"O\", \"S\", \"Cl\", \"Si\"]\n",
    "\n",
    "for element in elements:\n",
    "    count = cmd.select(f\"elem {element}\")\n",
    "    atom_counts[element] = count\n",
    "c_aromatic = atom_counts[\"C\"]\n",
    "h_aromatic = atom_counts[\"H\"]\n",
    "# Print the atom counts\n",
    "for element, count in atom_counts.items():\n",
    "    print(f\"Element {element}: {count}\")"
   ]
  },
  {
   "cell_type": "markdown",
   "id": "a8acbf37",
   "metadata": {},
   "source": [
    "## Step 2: Include cluster with non-hexagonal rings"
   ]
  },
  {
   "cell_type": "markdown",
   "id": "6ecf13cd",
   "metadata": {},
   "source": [
    "#### Include a frequency for the Carbon Defects, to have the complete distribution of fragments."
   ]
  },
  {
   "cell_type": "code",
   "execution_count": 17,
   "id": "fd1f3aac-e694-4403-a926-672b7504ad83",
   "metadata": {},
   "outputs": [
    {
     "name": "stdin",
     "output_type": "stream",
     "text": [
      "Do you want to include holes within the structures?:  1\n"
     ]
    }
   ],
   "source": [
    "# 1 Yes, 0 No\n",
    "holes = float(input(\"Do you want to include holes within the structures?: \"))  "
   ]
  },
  {
   "cell_type": "code",
   "execution_count": 18,
   "id": "8bdeeefa-77ef-4454-ac84-cb79329aaff9",
   "metadata": {},
   "outputs": [
    {
     "name": "stdout",
     "output_type": "stream",
     "text": [
      "Adjusted factors - w: -0.04 y: 1.25 f: 30\n"
     ]
    }
   ],
   "source": [
    "total_atoms=c_aromatic+h_aromatic\n",
    "def calculate_factors(Biochar_Temp, total_atoms):\n",
    "    if holes == 0:\n",
    "        w = 0\n",
    "        y = 1.1\n",
    "        f = round(system_size*0.002)\n",
    "    else:  \n",
    "        # Adjustments based on the biochar production temperature\n",
    "        if Biochar_Temp == 400:\n",
    "            w = -0.25\n",
    "            y = 1.5\n",
    "            f = round(system_size*0.003)\n",
    "        elif Biochar_Temp == 500:\n",
    "            w = -0.04\n",
    "            y = 1.25\n",
    "            f = round(system_size*0.003)\n",
    "        elif Biochar_Temp == 600:\n",
    "            w = 0.005 \n",
    "            y = 1.12 \n",
    "            f = round(system_size*0.003)\n",
    "        elif Biochar_Temp == 700:\n",
    "            w = -0.05\n",
    "            y = 1.1\n",
    "            f = round(system_size*0.003)\n",
    "            \n",
    "    return w, y, f\n",
    "\n",
    "w, y, f = calculate_factors(Biochar_Temp, total_atoms)\n",
    "print(\"Adjusted factors - w:\", w, \"y:\", y, \"f:\", f)"
   ]
  },
  {
   "cell_type": "code",
   "execution_count": 19,
   "id": "eea6befa-d67d-4b38-92bb-2f7c0261c219",
   "metadata": {},
   "outputs": [
    {
     "name": "stdout",
     "output_type": "stream",
     "text": [
      "Value: 3.007945083773134\n",
      "Optimized Vector: [0 4 5 0 0 0 2 0 0 0 0]\n"
     ]
    }
   ],
   "source": [
    "def_list = [61,74, 93, 42, 45, 162, 67, 183, 192, 64, 72]\n",
    "def_list_H = [23, 96, 126, 22, 32, 177, 83, 178, 175, 74, 28]\n",
    "TotalC_Aromatic = c_aromatic\n",
    "TotalH_Aromatic = h_aromatic\n",
    "\n",
    "value =[]\n",
    "\n",
    "def constraint(vector, def_list, def_list_H, TotalC_Aromatic, TotalH_Aromatic):\n",
    "    \n",
    "    # Total number of defective carbons\n",
    "    value = [(def_list[i] * vector[i]) / (TotalC_Aromatic + (def_list[i] * vector[i])) for i in range(len(def_list))]\n",
    "    constraint_value = sum(value)\n",
    "     \n",
    "    # Total H/C\n",
    "    value_H_d = [def_list_H[i] * vector[i] for i in range(len(def_list))]\n",
    "    value_C_d =  [def_list[i] * vector[i] for i in range(len(def_list))]      \n",
    "    value_HC = (sum(value_H_d) + TotalH_Aromatic) / (TotalC_Aromatic + sum(value_C_d))\n",
    "    \n",
    "    # Total % of carbons\n",
    "    value_C = (sum(value_C_d)  + TotalC_Aromatic) / (TotalC_Aromatic + TotalH_Aromatic + sum(value_H_d) + sum(value_C_d))\n",
    "    constraint_value_C = value_C\n",
    "\n",
    "    # Minimize errors\n",
    "    error_HC = np.abs(value_HC - (H_C+w))/(H_C+w) # We need more hydrogen to create cross-links    \n",
    "    error_Def = np.abs(constraint_value - Defect*y)/(Defect*y) # We need more carbon defect to create holes\n",
    "    \n",
    "    Total_error = error_Def + error_HC\n",
    "\n",
    "    return Total_error*100\n",
    "\n",
    "# Initial guess for the optimization\n",
    "initial_vector = [0, 0, 0, 0, 0, 0, 0, 0, 0, 0, 0]\n",
    "\n",
    "bounds = [(0, f) for i in range(len(def_list))]\n",
    "\n",
    "# Optimize the objective function (set to zero) subject to constraints\n",
    "result = minimize(lambda x: 0, initial_vector, method='slsqp', constraints={'type': 'eq', 'fun': constraint, 'args': (def_list, def_list_H, TotalC_Aromatic, TotalH_Aromatic)}, bounds=bounds, tol=1e-5)\n",
    "\n",
    "# Extract the optimized vector\n",
    "vector = result.x.round().astype(int)\n",
    "\n",
    "# Print the results\n",
    "print(\"Value:\", constraint(vector, def_list, def_list_H, TotalC_Aromatic, TotalH_Aromatic))\n",
    "print(\"Optimized Vector:\", vector)"
   ]
  },
  {
   "cell_type": "code",
   "execution_count": 20,
   "id": "3c966fee",
   "metadata": {},
   "outputs": [
    {
     "name": "stdout",
     "output_type": "stream",
     "text": [
      "[ 0  3  0  0  0 10  0  0  0  0  0  0  2  0  0  0 11  3 62  3  0  0  7  3\n",
      "  1  2  0  0  0  0  0  2  0  0  4  5  0  0  0  2  0  0  0  0]\n"
     ]
    }
   ],
   "source": [
    "# New vector with defective structures included\n",
    "values = np.append(values, vector).astype(int)\n",
    "print(values)"
   ]
  },
  {
   "cell_type": "code",
   "execution_count": 21,
   "id": "c3d8ed4f",
   "metadata": {},
   "outputs": [
    {
     "data": {
      "text/plain": [
       "1"
      ]
     },
     "execution_count": 21,
     "metadata": {},
     "output_type": "execute_result"
    }
   ],
   "source": [
    "# Upload defects\n",
    "cmd.load(\"defect1.mol2\", \"defect0\")\n",
    "cmd.load(\"defect2.mol2\", \"defect2\")\n",
    "cmd.load(\"defect3.mol2\", \"defect3\")\n",
    "cmd.load(\"defect4.mol2\", \"defect4\")\n",
    "cmd.load(\"defect5.mol2\", \"defect5\")\n",
    "cmd.load(\"defect6.mol2\", \"defect6\")\n",
    "cmd.load(\"defect7.mol2\", \"defect7\")\n",
    "cmd.load(\"defect8.mol2\", \"defect8\")\n",
    "cmd.load(\"defect9.mol2\", \"defect9\")\n",
    "cmd.load(\"defect10.mol2\", \"defect10\")\n",
    "cmd.load(\"defect11.mol2\", \"defect11\")"
   ]
  },
  {
   "cell_type": "code",
   "execution_count": 22,
   "id": "034ba070-53a1-462f-9b81-f362192113fb",
   "metadata": {},
   "outputs": [
    {
     "name": "stdout",
     "output_type": "stream",
     "text": [
      "Number of objects: 120\n"
     ]
    },
    {
     "data": {
      "text/plain": [
       "1"
      ]
     },
     "execution_count": 22,
     "metadata": {},
     "output_type": "execute_result"
    }
   ],
   "source": [
    "# List of defect object names and their corresponding indices in vector `values`\n",
    "defect_object_names = [\n",
    "    (\"defect0\", 33),\n",
    "    (\"defect3\", 35),\n",
    "    (\"defect2\", 34),\n",
    "    (\"defect4\", 36),\n",
    "    (\"defect5\", 37),\n",
    "    (\"defect6\", 38),\n",
    "    (\"defect7\", 39),\n",
    "    (\"defect8\", 40),\n",
    "    (\"defect9\", 41),\n",
    "    (\"defect10\", 42),\n",
    "    (\"defect11\", 43)\n",
    "]\n",
    "\n",
    "defect_offset = num_objects\n",
    "\n",
    "for object_name, value_index in defect_object_names:\n",
    "    copy_translate_delete(object_name, values[value_index], coordinates, defect_offset)\n",
    "    defect_offset += values[value_index]\n",
    "\n",
    "cmd.reset()\n",
    "object_list = cmd.get_object_list()\n",
    "num_objects = len(object_list)\n",
    "print(\"Number of objects:\", num_objects)\n",
    "cmd.reset()"
   ]
  },
  {
   "cell_type": "code",
   "execution_count": 23,
   "id": "4c18b4f8",
   "metadata": {},
   "outputs": [],
   "source": [
    "cmd.do('colour')\n",
    "cmd.do('comp')\n",
    "cmd.do('atomdata')\n",
    "cmd.do('orient')\n",
    "cmd.do('set sphere_scale, 0.2, (all)')\n",
    "cmd.do('set_bond stick_radius, 0.14, (all), (all)')\n",
    "cmd.do('show sticks')\n",
    "cmd.do('show spheres')"
   ]
  },
  {
   "cell_type": "markdown",
   "id": "3cc9f9cf",
   "metadata": {},
   "source": [
    "### Organize the structures without overlapping them; this will allow you to visualize better the changes made"
   ]
  },
  {
   "cell_type": "code",
   "execution_count": 24,
   "id": "68cf0855-fad9-4c0e-8f71-a55451e5b1c8",
   "metadata": {},
   "outputs": [
    {
     "name": "stdout",
     "output_type": "stream",
     "text": [
      "Number of objects: 120\n"
     ]
    }
   ],
   "source": [
    "min_angle = 1\n",
    "max_angle = 359.0\n",
    "\n",
    "num_objects = len(object_list)\n",
    "\n",
    "positions = []\n",
    "used_positions = set()\n",
    "angles = []\n",
    "xmin, xmax = 0, round(system_size*0.015)\n",
    "ymin, ymax = -round(system_size*0.015), 0\n",
    "zmin, zmax = 0, round(system_size*0.015)\n",
    "\n",
    "# Minimum distance between any two positions to avoid overlap\n",
    "min_distance = round(system_size*0.005)\n",
    "grid_divisions = int(math.ceil(num_objects ** (1 / 3)))\n",
    "\n",
    "grid_size_x = min_distance\n",
    "grid_size_y = min_distance\n",
    "grid_size_z = min_distance\n",
    "\n",
    "# Generate all possible grid positions\n",
    "all_positions = [\n",
    "    (xmin + i * grid_size_x, ymin + j * grid_size_y, zmin + k * grid_size_z)\n",
    "    for i in range(grid_divisions)\n",
    "    for j in range(grid_divisions)\n",
    "    for k in range(grid_divisions)\n",
    "]\n",
    "\n",
    "random.shuffle(all_positions)\n",
    "assert len(all_positions) >= num_objects, \"Not enough positions for all objects.\"\n",
    "\n",
    "# Assign positions to objects\n",
    "for idx, name in enumerate(object_list):\n",
    "    x, y, z = all_positions[idx]\n",
    "    positions.append((x, y, z))\n",
    "\n",
    "    rotation_angles = [random.uniform(min_angle, max_angle) for _ in range(3)]\n",
    "    angles.append((rotation_angles, name))\n",
    "\n",
    "    for axis, angle in zip(['x', 'y', 'z'], rotation_angles):\n",
    "        rotation_command = \"rotate {0}, {1}, {2}\".format(axis, angle, name)\n",
    "        cmd.do(rotation_command)\n",
    "\n",
    "    # Translate the object to the new position\n",
    "    cmd.translate((x, y, z), name)\n",
    "\n",
    "cmd.refresh()\n",
    "\n",
    "object_list = cmd.get_object_list()\n",
    "num_objects = len(object_list)\n",
    "print(\"Number of objects:\", num_objects)"
   ]
  },
  {
   "cell_type": "code",
   "execution_count": 25,
   "id": "a79fb895",
   "metadata": {},
   "outputs": [
    {
     "name": "stdout",
     "output_type": "stream",
     "text": [
      "Element C: 7050\n",
      "Element H: 3326\n",
      "Element N: 0\n",
      "Element O: 0\n",
      "Element S: 0\n",
      "Element Cl: 0\n",
      "Element Si: 0\n"
     ]
    }
   ],
   "source": [
    "# Count the number of atoms for each element\n",
    "atom_counts = {}\n",
    "elements = [\"C\", \"H\", \"N\", \"O\", \"S\", \"Cl\", \"Si\"]\n",
    "\n",
    "for element in elements:\n",
    "    count = cmd.select(f\"elem {element}\")\n",
    "    atom_counts[element] = count\n",
    "c_total= atom_counts[\"C\"]\n",
    "h_total= atom_counts[\"H\"]\n",
    "# Print the atom counts\n",
    "for element, count in atom_counts.items():\n",
    "    print(f\"Element {element}: {count}\")"
   ]
  },
  {
   "cell_type": "code",
   "execution_count": 26,
   "id": "3a05a7f3",
   "metadata": {},
   "outputs": [
    {
     "name": "stdout",
     "output_type": "stream",
     "text": [
      "Defect carbon: 895\n"
     ]
    }
   ],
   "source": [
    "c_defect=c_total-c_aromatic\n",
    "print(\"Defect carbon:\", c_defect)"
   ]
  },
  {
   "cell_type": "markdown",
   "id": "48f728b4",
   "metadata": {},
   "source": [
    "## Step 3: Include functional groups"
   ]
  },
  {
   "cell_type": "markdown",
   "id": "f5e31357",
   "metadata": {},
   "source": [
    "### Add additional groups as needed"
   ]
  },
  {
   "cell_type": "code",
   "execution_count": 27,
   "id": "c338ef63",
   "metadata": {},
   "outputs": [],
   "source": [
    "# Molecule type and functional groups to be included, information obtained from FTIR, CNMR, and XPS \n",
    "# The user defines these:             \n",
    "Furan=0           # Change: interior C \n",
    "Pyrrolic=0        # Change: interior C\n",
    "Fluorene=0        # Change: interior \n",
    "Thiophene=0       # Change: interior\n",
    "\n",
    "# To reduce the error of not having enough information for oxygen, \n",
    "# it is necessary to sacrifice the precision of functional groups \n",
    "# that contain oxygen, such as ether, carbonyl, ester, and carboxylic groups.\n",
    "if holes == 1:\n",
    "    if Biochar_Temp == 400:\n",
    "        z = -0.05   # A factor to fix oxygen based on ether, carbonyl, and ester groups\n",
    "        u = 0       # How much of the aliphatic is methyl\n",
    "        b = 0       # How much of the aliphatic is CH2CH3\n",
    "        p = 1       # How much of the aliphatic is (CH2)-(CH2)-CH3\n",
    "        h = 0.05    # A factor to fix oxygen based on aliphatic groups\n",
    "        q = -0.01   # A factor to fix oxygen based on defects\n",
    "    elif Biochar_Temp == 500:\n",
    "        z = 0.05\n",
    "        u = 1/3\n",
    "        b = 2/3\n",
    "        p = 0\n",
    "        h = 0\n",
    "        q = 0.05\n",
    "    elif Biochar_Temp == 600:\n",
    "        z = 0.05\n",
    "        u = 0\n",
    "        b = 0\n",
    "        p = 0\n",
    "        h = 0\n",
    "        q = 0.06\n",
    "    elif Biochar_Temp == 700:\n",
    "        z = 0.1\n",
    "        u = 0\n",
    "        b = 0\n",
    "        p = 0\n",
    "        h = 0\n",
    "        q = 0.06\n",
    "else:\n",
    "    if Biochar_Temp == 400:\n",
    "        z = -0.05   # A factor to fix oxygen based on ether, carbonyl, and ester groups\n",
    "        u = 0       # How much of the aliphatic is methyl\n",
    "        b = 0       # How much of the aliphatic is CH2CH3\n",
    "        p = 1       # How much of the aliphatic is (CH2)-(CH2)-CH3\n",
    "        h = 0.05    # A factor to fix oxygen based on aliphatic groups\n",
    "        q = 0       # A factor to fix oxygen based on defects\n",
    "    elif Biochar_Temp == 500:\n",
    "        z = 0.05\n",
    "        u = 1/3\n",
    "        b = 2/3\n",
    "        p = 0\n",
    "        h = 0\n",
    "        q = 0\n",
    "    elif Biochar_Temp == 600:\n",
    "        z = 0.05\n",
    "        u = 0\n",
    "        b = 0\n",
    "        p = 0\n",
    "        h = 0\n",
    "        q = 0\n",
    "    elif Biochar_Temp == 700:\n",
    "        z = 0.1\n",
    "        u = 0\n",
    "        b = 0\n",
    "        p = 0\n",
    "        h = 0\n",
    "        q = 0"
   ]
  },
  {
   "cell_type": "markdown",
   "id": "8b8ca417",
   "metadata": {},
   "source": [
    "### Fix carbon, nitrogen, oxygen, and hydrogen"
   ]
  },
  {
   "cell_type": "code",
   "execution_count": 28,
   "id": "ec9b895e",
   "metadata": {},
   "outputs": [
    {
     "name": "stdout",
     "output_type": "stream",
     "text": [
      "aro = 4817\n",
      "aro_ring = 5750\n",
      "carb = 151\n",
      "ester = 216\n",
      "eth = 400\n",
      "alip = 241\n",
      "defe = 859\n",
      "c_nonar = 1467\n",
      "methyl = 80\n",
      "ali_chain = 81\n",
      "ali_chain_2 = 0\n",
      "aniline = 4\n",
      "pyridin = 3\n",
      "quaternaryN = 2\n",
      "Hydroxyl = 1\n",
      "MW = 106254\n",
      "Oxygen = 984\n",
      "Nitrogen = 9\n",
      "Carbon = 7217\n",
      "Hydrogen = 3662\n"
     ]
    }
   ],
   "source": [
    "# Variables\n",
    "c, carb, ester, eth, alip, defe, c_nonar,aro_ring, methyl, ali_chain, hydro, aro, nitro_groups, aniline, pyridin, quaternaryN, MW, oxy, hydroxyl,ali_chain_2 = symbols('c carb ester eth aro_ring c_nonar alip defe methyl ali_chain hydro aro nitro_groups aniline pyridin quaternaryN MW oxy hydroxyl ali_chain_2')\n",
    "# Equations\n",
    "equations = [\n",
    "    \n",
    "    # Carbon\n",
    "    Eq(c_nonar, defe+methyl+ali_chain*2+ali_chain_2*3+carb+ester),# Non-aromatic carbons in the model\n",
    "    Eq(defe,Defect*c*(1+q)),\n",
    "    Eq(c,(c_nonar+aro_ring)),\n",
    "    Eq(aro,(aro_ring-aniline-hydroxyl-ester-carb-methyl-ali_chain-eth)), # Actual number of aromatic carbons in the model\n",
    "    Eq(aro_ring,(c_aromatic-eth-pyridin-quaternaryN)),            # Aromatic carbons removed\n",
    "    Eq(carb, Carbonyl*c*(0.95-z)),                                # Change: aromatic H\n",
    "    Eq(ester, Ester*c*(0.95-z)),                              # Change: aromatic H\n",
    "    Eq(eth,0.5*Ether*c*(0.95-z)),                                 # Change: aromatic C-H (In multi CP-NMR ether groups count two carbons per oxygen)\n",
    "    Eq(alip, Aliphatic*c*(1-h)),            \n",
    "    Eq(methyl,(alip*u)/1),                                        # Change: aromatic H\n",
    "    Eq(ali_chain,(alip*b)/2),                                     # Change: aromatic H\n",
    "    Eq(ali_chain_2,(alip*p)/3),                                   # Change: aromatic H\n",
    "    \n",
    "    # Nitrogen\n",
    "    Eq(nitro_groups,(MW*Nitrogen)/14.0067),\n",
    "    Eq(aniline,nitro_groups*2/4),                                  # Change: aromatic H\n",
    "    Eq(pyridin,nitro_groups*1/4),                                  # Change: aromatic C-H\n",
    "    Eq(quaternaryN,nitro_groups*1/4),                              # Change: interior C\n",
    "    \n",
    "    # Hydrogen\n",
    "    Eq(hydro,(h_total+methyl*2+ali_chain*4+ali_chain_2*6+nitro_groups*3/4-carb)),\n",
    "    \n",
    "    # Oxygen\n",
    "    Eq(hydroxyl,((MW*Oxygen)/15.999)*v),                           # Change: aromatic H\n",
    "    Eq(oxy,hydroxyl+ester*2+carb+eth),\n",
    "    \n",
    "    # Molecular weight\n",
    "    Eq(MW,(c*12.011+hydro*1.00784+nitro_groups*14.0067+oxy*15.999))\n",
    "     \n",
    "]\n",
    "\n",
    "# Solve the equations\n",
    "solution = solve(equations, (c, carb, ester, eth, alip, c_nonar ,defe, aro_ring,methyl, ali_chain, hydro, aro, nitro_groups, aniline,pyridin, quaternaryN, MW, oxy, hydroxyl, ali_chain_2))\n",
    "\n",
    "# Print the solutions\n",
    "print(\"aro =\", round(solution[aro]))\n",
    "print(\"aro_ring =\", round(solution[aro_ring]))\n",
    "print(\"carb =\", round(solution[carb]))\n",
    "print(\"ester =\", round(solution[ester]))\n",
    "print(\"eth =\", round(solution[eth]))\n",
    "print(\"alip =\", math.ceil(solution[alip]))\n",
    "print(\"defe =\", round(solution[defe]))\n",
    "print(\"c_nonar =\", round(solution[c_nonar]))\n",
    "print(\"methyl =\", round(solution[methyl]))\n",
    "print(\"ali_chain =\", math.ceil(solution[ali_chain]))\n",
    "print(\"ali_chain_2 =\", math.ceil(solution[ali_chain_2]))\n",
    "print(\"aniline =\", round(solution[aniline]))\n",
    "print(\"pyridin =\",  math.ceil(solution[pyridin]))\n",
    "print(\"quaternaryN =\", round(solution[quaternaryN]))\n",
    "print(\"Hydroxyl =\", round(solution[hydroxyl]))\n",
    "print(\"MW =\", round(solution[MW]))\n",
    "print(\"Oxygen =\", round(solution[carb])+round(solution[ester])*2+ round(solution[eth]) +round(solution[hydroxyl]))\n",
    "print(\"Nitrogen =\", round(solution[aniline])+math.ceil(solution[pyridin])+round(solution[quaternaryN]))\n",
    "print(\"Carbon =\", round(solution[c]))\n",
    "print(\"Hydrogen =\", round(solution[hydro]))"
   ]
  },
  {
   "cell_type": "markdown",
   "id": "20443c8d",
   "metadata": {},
   "source": [
    "### Create \"holes\" within the structure"
   ]
  },
  {
   "cell_type": "code",
   "execution_count": 29,
   "id": "dca39165",
   "metadata": {},
   "outputs": [
    {
     "name": "stdout",
     "output_type": "stream",
     "text": [
      "Carbon to remove: 36\n"
     ]
    }
   ],
   "source": [
    "if holes == 0:\n",
    "    Internal_C_to_remove=0\n",
    "else:\n",
    "    Internal_C_to_remove = round(c_defect - solution[defe])\n",
    "    print(\"Carbon to remove:\", round(Internal_C_to_remove))"
   ]
  },
  {
   "cell_type": "code",
   "execution_count": 30,
   "id": "89673a94-25b4-466e-a826-7c7a13b69126",
   "metadata": {},
   "outputs": [
    {
     "name": "stdout",
     "output_type": "stream",
     "text": [
      "Carbon to remove in aromatic structures: 36\n"
     ]
    }
   ],
   "source": [
    "# Adjust the excess carbon and create more realistic defects in the aromatic structures\n",
    "if Internal_C_to_remove >= (num_objects*0.9):\n",
    "    Internal_C_to_remove_Aro = math.ceil(Internal_C_to_remove*0.9)\n",
    "else:\n",
    "    Internal_C_to_remove_Aro=Internal_C_to_remove\n",
    "print(\"Carbon to remove in aromatic structures:\", Internal_C_to_remove_Aro)"
   ]
  },
  {
   "cell_type": "markdown",
   "id": "2133c94b",
   "metadata": {},
   "source": [
    "### Define cross-links by fixing H/C ratio"
   ]
  },
  {
   "cell_type": "code",
   "execution_count": 31,
   "id": "2c23a508",
   "metadata": {},
   "outputs": [
    {
     "name": "stdout",
     "output_type": "stream",
     "text": [
      "Hydrogen needed: 3695\n",
      "Error: 0.003\n"
     ]
    }
   ],
   "source": [
    "def calculate_Err_H_C(i):\n",
    "    mw = (round(solution[c])-Internal_C_to_remove)* 12.011 + i * 1.00784 + (round(solution[aniline]) + round(solution[pyridin]) + round(solution[quaternaryN]))* 14.0067 + (round(solution[carb])+round(solution[ester])*2+ round(solution[eth]) +round(solution[hydroxyl])) * 15.999\n",
    "    H_C_mod = i/round(solution[c])\n",
    "    Err_H_C = (abs(H_C_mod - H_C) / H_C) * 100\n",
    "    return Err_H_C\n",
    "\n",
    "# Iterate over possible values of i and find the minimum error for H/C ratio\n",
    "min_error = np.inf\n",
    "best_i = None\n",
    "for i in range(round(system_size/2)):  \n",
    "    error = calculate_Err_H_C(i)\n",
    "    if error < min_error:\n",
    "        min_error = error\n",
    "        best_i = i\n",
    "\n",
    "print(\"Hydrogen needed:\", best_i)\n",
    "print(\"Error:\", round(min_error,3))"
   ]
  },
  {
   "cell_type": "code",
   "execution_count": 32,
   "id": "3957c89e",
   "metadata": {},
   "outputs": [
    {
     "name": "stdout",
     "output_type": "stream",
     "text": [
      "Hydrogen to remove: 0\n",
      "crosslinks: 0\n"
     ]
    }
   ],
   "source": [
    "Hydrogen_to_remove=round(solution[hydro])-best_i\n",
    "if Hydrogen_to_remove < 0:\n",
    "      Hydrogen_to_remove = 0\n",
    "print(\"Hydrogen to remove:\", Hydrogen_to_remove)\n",
    "crosslinks=round(Hydrogen_to_remove/2)\n",
    "print(\"crosslinks:\", crosslinks)\n",
    "newhydro=round(solution[hydro]-Hydrogen_to_remove)\n",
    "newMW = (round(solution[c])-Internal_C_to_remove)* 12.011 + newhydro * 1.00784 + (round(solution[aniline]) + round(solution[pyridin]) + round(solution[quaternaryN]))* 14.0067 + (round(solution[carb])+round(solution[ester])*2+ round(solution[eth]) +round(solution[hydroxyl])) * 15.999"
   ]
  },
  {
   "cell_type": "markdown",
   "id": "144f8d9c",
   "metadata": {},
   "source": [
    "### See if you have an excess of oxygen\n"
   ]
  },
  {
   "cell_type": "code",
   "execution_count": 33,
   "id": "4ccaf4de",
   "metadata": {},
   "outputs": [
    {
     "name": "stdout",
     "output_type": "stream",
     "text": [
      "Oxygen needed: 992\n",
      "Error: 0.018\n"
     ]
    }
   ],
   "source": [
    "def calculate_Err_O(j):\n",
    "    mw = (solution[c]-Internal_C_to_remove)* 12.011 + newhydro * 1.00784 + ((solution[aniline] +solution[pyridin] +solution[quaternaryN])* 14.0067) + j * 15.999\n",
    "    OxygenMoles = (j * 15.999) / mw\n",
    "    Err_O = (abs(OxygenMoles - Oxygen) / Oxygen)*100\n",
    "    return Err_O\n",
    "\n",
    "# Iterate over possible values of i and find the minimum error for O/C ratio\n",
    "min_error = np.inf\n",
    "best_j = None\n",
    "for j in range(round(system_size/3)): \n",
    "    error = calculate_Err_O(j)\n",
    "    if error < min_error:\n",
    "        min_error = error\n",
    "        best_j = j\n",
    "\n",
    "print(\"Oxygen needed:\", best_j)\n",
    "print(\"Error:\", round(min_error,3))"
   ]
  },
  {
   "cell_type": "markdown",
   "id": "9aa1c9cb",
   "metadata": {},
   "source": [
    "### Before modifying check: CNMR data"
   ]
  },
  {
   "cell_type": "code",
   "execution_count": 34,
   "id": "1062c60d",
   "metadata": {},
   "outputs": [
    {
     "name": "stdout",
     "output_type": "stream",
     "text": [
      "Aromatic Carbon: 0.666\n",
      "Error: 1.116\n"
     ]
    }
   ],
   "source": [
    "# Aromatic Carbon\n",
    "Err_C=(abs(((solution[aro]-Internal_C_to_remove_Aro)/(solution[c]-Internal_C_to_remove))-Aromatic)/Aromatic)*100\n",
    "print(\"Aromatic Carbon:\",round(((solution[aro]-Internal_C_to_remove_Aro)/(solution[c]-Internal_C_to_remove)),3))\n",
    "print(\"Error:\",round(Err_C,3))"
   ]
  },
  {
   "cell_type": "code",
   "execution_count": 35,
   "id": "42a29d84",
   "metadata": {},
   "outputs": [
    {
     "name": "stdout",
     "output_type": "stream",
     "text": [
      "Carbonyl Carbon 0.021\n",
      "Error: 9.549\n"
     ]
    }
   ],
   "source": [
    "# Carbonyl Carbon\n",
    "Err_Car=(abs((solution[carb]/(solution[c]-Internal_C_to_remove))-Carbonyl)/Carbonyl)*100\n",
    "print(\"Carbonyl Carbon\",round(solution[carb]/(solution[c]-Internal_C_to_remove),3))\n",
    "print(\"Error:\",round(Err_Car,3))"
   ]
  },
  {
   "cell_type": "code",
   "execution_count": 36,
   "id": "1aa7365e",
   "metadata": {},
   "outputs": [
    {
     "name": "stdout",
     "output_type": "stream",
     "text": [
      "Ester Carbon 0.030\n",
      "Error: 9.549\n"
     ]
    }
   ],
   "source": [
    "# Carboxyl and Ester Carbon\n",
    "Err_Carb=(abs((solution[ester]/(solution[c]-Internal_C_to_remove))-Ester)/Ester)*100\n",
    "print(\"Ester Carbon\",round(solution[ester]/(solution[c]-Internal_C_to_remove),3))\n",
    "print(\"Error:\",round(Err_Carb,3))"
   ]
  },
  {
   "cell_type": "code",
   "execution_count": 37,
   "id": "2fb21e11",
   "metadata": {},
   "outputs": [
    {
     "name": "stdout",
     "output_type": "stream",
     "text": [
      "Ether Carbon 0.112\n",
      "Error: 9.549\n"
     ]
    }
   ],
   "source": [
    "# Ether Carbon\n",
    "Err_ethh=(abs(((solution[eth]*2)/(solution[c]-Internal_C_to_remove))-Ether)/Ether)*100\n",
    "print(\"Ether Carbon\",round((solution[eth]*2)/(solution[c]-Internal_C_to_remove),3))\n",
    "print(\"Error:\",round(Err_ethh,3))"
   ]
  },
  {
   "cell_type": "code",
   "execution_count": 38,
   "id": "20deef15",
   "metadata": {},
   "outputs": [
    {
     "name": "stdout",
     "output_type": "stream",
     "text": [
      "Aliphatic Carbon 0.033\n",
      "Error: 0.501\n"
     ]
    }
   ],
   "source": [
    "# Aliphatic Carbon\n",
    "Err_ali=(abs((solution[alip]/(solution[c]-Internal_C_to_remove))-Aliphatic)/Aliphatic)*100\n",
    "print(\"Aliphatic Carbon\",round(solution[alip]/(solution[c]-Internal_C_to_remove),3))\n",
    "print(\"Error:\",round(Err_ali,3))"
   ]
  },
  {
   "cell_type": "code",
   "execution_count": 39,
   "id": "85b6ec7a",
   "metadata": {},
   "outputs": [
    {
     "name": "stdout",
     "output_type": "stream",
     "text": [
      "Defect Carbon 0.120\n",
      "Error: 5.581\n"
     ]
    }
   ],
   "source": [
    "# Defect Carbon\n",
    "Err_defe=(abs((c_defect-Internal_C_to_remove)/(solution[c]-Internal_C_to_remove)-Defect))/Defect*100\n",
    "print(\"Defect Carbon\",round((c_defect-Internal_C_to_remove)/(solution[c]-Internal_C_to_remove),3))\n",
    "print(\"Error:\",round(Err_defe,3))"
   ]
  },
  {
   "cell_type": "markdown",
   "id": "cac59c13",
   "metadata": {},
   "source": [
    "### Before modifying check: Elemental composition "
   ]
  },
  {
   "cell_type": "code",
   "execution_count": 40,
   "id": "73e4fd36",
   "metadata": {},
   "outputs": [
    {
     "name": "stdout",
     "output_type": "stream",
     "text": [
      "Carbon: 0.8152\n",
      "Error: 0.140\n"
     ]
    }
   ],
   "source": [
    "# Carbon\n",
    "Elem_c=((solution[c]-Internal_C_to_remove)*12.011)/newMW\n",
    "print(\"Carbon:\",round(Elem_c,4))\n",
    "Err_elemc=(abs(Elem_c-Carbon)/Carbon)*100\n",
    "print(\"Error:\",round(Err_elemc,3))"
   ]
  },
  {
   "cell_type": "code",
   "execution_count": 41,
   "id": "8db7c8ba",
   "metadata": {},
   "outputs": [
    {
     "name": "stdout",
     "output_type": "stream",
     "text": [
      "Nitrogen: 0.0011\n",
      "Error: 0.432\n"
     ]
    }
   ],
   "source": [
    "# Nitrogen\n",
    "Elem_n=(solution[nitro_groups]*14.0067)/newMW\n",
    "print(\"Nitrogen:\",round(Elem_n,4))\n",
    "Err_elemn=(abs(Elem_n-Nitrogen)/Nitrogen)*100\n",
    "print(\"Error:\",round(Err_elemn,3))"
   ]
  },
  {
   "cell_type": "code",
   "execution_count": 42,
   "id": "026b10c9",
   "metadata": {},
   "outputs": [
    {
     "name": "stdout",
     "output_type": "stream",
     "text": [
      "Oxygen: 0.149\n",
      "Error: 0.665\n"
     ]
    }
   ],
   "source": [
    "# Oxygen\n",
    "Elem_o=((round(solution[carb])+round(solution[ester])*2+ round(solution[eth]) +round(solution[hydroxyl]))*15.999)/newMW\n",
    "print(\"Oxygen:\",round(Elem_o,3))\n",
    "Err_elemo=(abs(Elem_o-Oxygen)/Oxygen)*100\n",
    "print(\"Error:\",round(Err_elemo,3))"
   ]
  },
  {
   "cell_type": "code",
   "execution_count": 43,
   "id": "67a92ee5",
   "metadata": {},
   "outputs": [
    {
     "name": "stdout",
     "output_type": "stream",
     "text": [
      "Hydrogen: 0.035\n",
      "Error: 0.329\n"
     ]
    }
   ],
   "source": [
    "# Hydrogen\n",
    "Elem_h=(newhydro*1.00784)/newMW\n",
    "print(\"Hydrogen:\",round(Elem_h,3))\n",
    "Err_elemh=(abs(Elem_h-Hydrogen)/Hydrogen)*100\n",
    "print(\"Error:\",round(Err_elemh,3))"
   ]
  },
  {
   "cell_type": "markdown",
   "id": "1aa048e9",
   "metadata": {},
   "source": [
    "## Step 4: Modify structures and include functional groups"
   ]
  },
  {
   "cell_type": "code",
   "execution_count": 44,
   "id": "653cfec0",
   "metadata": {},
   "outputs": [],
   "source": [
    "object_masses= builder.Get_Object_Masses()\n",
    "object_names = list(object_masses.keys())\n",
    "while not object_names:\n",
    "    object_masses = builder.Get_Object_Masses()\n",
    "    object_names = list(object_masses.keys())"
   ]
  },
  {
   "cell_type": "markdown",
   "id": "d095b482",
   "metadata": {},
   "source": [
    "### Include Ether Groups"
   ]
  },
  {
   "cell_type": "code",
   "execution_count": 45,
   "id": "fb53919c",
   "metadata": {},
   "outputs": [
    {
     "name": "stdout",
     "output_type": "stream",
     "text": [
      "Element C: 7050\n",
      "Element H: 3326\n",
      "Element N: 0\n",
      "Element O: 0\n",
      "Element S: 0\n",
      "Element Cl: 0\n",
      "Element Si: 0\n"
     ]
    }
   ],
   "source": [
    "# Count the number of atoms for each element\n",
    "atom_counts = {}\n",
    "elements = [\"C\", \"H\", \"N\", \"O\", \"S\", \"Cl\", \"Si\"]\n",
    "\n",
    "for element in elements:\n",
    "    count = cmd.select(f\"elem {element}\")\n",
    "    atom_counts[element] = count\n",
    "c_totali= atom_counts[\"C\"]\n",
    "h_totali= atom_counts[\"H\"]\n",
    "# Print the atom counts\n",
    "for element, count in atom_counts.items():\n",
    "    print(f\"Element {element}: {count}\")"
   ]
  },
  {
   "cell_type": "code",
   "execution_count": 46,
   "id": "1e06920f-0bcc-4421-82a3-631c3c350324",
   "metadata": {},
   "outputs": [],
   "source": [
    "object_names = list(object_masses.keys())\n",
    "modified_ether = []\n",
    "\n",
    "if Biochar_Temp == 400:\n",
    "    k1 = 0.85\n",
    "elif Biochar_Temp == 500:\n",
    "    k1 = 0.9\n",
    "else:\n",
    "    k1 = 1\n",
    "\n",
    "num_molecules = round(solution[eth]*k1)\n",
    "\n",
    "excluded_prefixes = [\"circumovalene\",\"circumcoronene\",\"circumpyrene\",\"pentatriacotaene\", \"circumcircumpyrene\",\"C84\",\"N\"]\n",
    "filtered_object_names = [name for name in object_names if any(name.startswith(prefix) for prefix in excluded_prefixes)]\n",
    "\n",
    "if num_molecules > len(filtered_object_names):\n",
    "    molecules_to_edit = random.choices(filtered_object_names, k=num_molecules)\n",
    "else:\n",
    "    molecules_to_edit = random.sample(filtered_object_names, num_molecules)\n",
    "\n",
    "for mol_to_edit in molecules_to_edit:\n",
    "    \n",
    "    while True:\n",
    "        \n",
    "        # Get available carbon types\n",
    "        c_aro_types = builder.examine_main(mol_to_edit)\n",
    "\n",
    "        if len(c_aro_types['O_2n']) <= round(O_C*60):\n",
    "            break  # Condition met, proceed to modify the molecule\n",
    "        \n",
    "        # Select a new molecule from the list\n",
    "        mol_to_edit = random.choice(filtered_object_names)\n",
    "    \n",
    "    cmd.select(\"carbon_not_bonded_to_oxygen\", f\"({mol_to_edit} and elem C and neighbor (elem H) and not neighbor (elem O))\")\n",
    "\n",
    "    # Get the selection of carbon atoms not bonded to oxygen\n",
    "    selection_dict = cmd.get_model(\"carbon_not_bonded_to_oxygen\")\n",
    "        \n",
    "    c_choices = [atom[\"index\"] for atom in selection_dict[\"atom\"] if atom[\"name\"].startswith(\"C\")]\n",
    "    \n",
    "    while True:\n",
    "        value=random.choice(c_aro_types['C_2n'])\n",
    "        if value in c_choices:\n",
    "            break\n",
    "\n",
    "    # Attach Ether group \n",
    "    object_ether = builder.Change_Element_CtoO(mol_to_edit,value)\n",
    "    modified_ether.append(object_ether)"
   ]
  },
  {
   "cell_type": "code",
   "execution_count": 47,
   "id": "4e522df4-2ca0-4b8f-8151-bc6e0cb68ce5",
   "metadata": {},
   "outputs": [],
   "source": [
    "object_names = list(object_masses.keys())\n",
    "modified_ether = []\n",
    "\n",
    "if Biochar_Temp == 400:\n",
    "    k = 0.15\n",
    "elif Biochar_Temp == 500:\n",
    "    k = 0.1\n",
    "else:\n",
    "    k = 0\n",
    "\n",
    "num_molecules = round(solution[eth]*k)\n",
    "\n",
    "excluded_prefixes = [\"circumovalene\",\"circumcoronene\",\"circumpyrene\",\"pentatriacotaene\", \"circumcircumpyrene\",\"C84\",\"defect\"]\n",
    "filtered_object_names = [name for name in object_names if not any(name.startswith(prefix) for prefix in excluded_prefixes)]\n",
    "\n",
    "if num_molecules > len(filtered_object_names):\n",
    "    molecules_to_edit = random.choices(filtered_object_names, k=num_molecules)\n",
    "else:\n",
    "    molecules_to_edit = random.sample(filtered_object_names, num_molecules)\n",
    "\n",
    "\n",
    "for mol_to_edit in molecules_to_edit:\n",
    "    \n",
    "    while True:\n",
    "        \n",
    "        # Get available carbon types\n",
    "        c_aro_types = builder.examine_main(mol_to_edit)\n",
    "\n",
    "        if len(c_aro_types['O_2n']) <= round(O_C*20):\n",
    "            break  # Condition met, proceed to modify the molecule\n",
    "        \n",
    "        # Select a new molecule from the list\n",
    "        mol_to_edit = random.choice(filtered_object_names)\n",
    "    \n",
    "    cmd.select(\"carbon_not_bonded_to_oxygen\", f\"({mol_to_edit} and elem C and neighbor (elem H) and not neighbor (elem O))\")\n",
    "\n",
    "    # Get the selection of carbon atoms not bonded to oxygen\n",
    "    selection_dict = cmd.get_model(\"carbon_not_bonded_to_oxygen\")\n",
    "        \n",
    "    c_choices = [atom[\"index\"] for atom in selection_dict[\"atom\"] if atom[\"name\"].startswith(\"C\")]\n",
    "    \n",
    "    while True:\n",
    "        value=random.choice(c_aro_types['C_2n'])\n",
    "        if value in c_choices:\n",
    "            break\n",
    "\n",
    "    # Attach Ether group \n",
    "    object_ether = builder.Change_Element_CtoO(mol_to_edit,value)\n",
    "    modified_ether.append(object_ether)"
   ]
  },
  {
   "cell_type": "code",
   "execution_count": 48,
   "id": "b90c6ae6",
   "metadata": {},
   "outputs": [
    {
     "name": "stdout",
     "output_type": "stream",
     "text": [
      "Element C: 6650\n",
      "Element H: 2915\n",
      "Element N: 0\n",
      "Element O: 400\n",
      "Element S: 0\n",
      "Element Cl: 0\n",
      "Element Si: 0\n"
     ]
    }
   ],
   "source": [
    "atom_counts = {}\n",
    "elements = [\"C\", \"H\", \"N\", \"O\", \"S\", \"Cl\", \"Si\"]\n",
    "\n",
    "for element in elements:\n",
    "    count = cmd.select(f\"elem {element}\")\n",
    "    atom_counts[element] = count\n",
    "c_total= atom_counts[\"C\"]\n",
    "h_total= atom_counts[\"H\"]\n",
    "o_total= atom_counts[\"O\"]\n",
    "\n",
    "for element, count in atom_counts.items():\n",
    "    print(f\"Element {element}: {count}\")"
   ]
  },
  {
   "cell_type": "markdown",
   "id": "2104cc82",
   "metadata": {},
   "source": [
    "#### Check these values: Should be zero\n"
   ]
  },
  {
   "cell_type": "code",
   "execution_count": 49,
   "id": "9fc70fe6",
   "metadata": {},
   "outputs": [
    {
     "data": {
      "text/plain": [
       "0"
      ]
     },
     "execution_count": 49,
     "metadata": {},
     "output_type": "execute_result"
    }
   ],
   "source": [
    "cmd.select(\"carbon_bonded_to_oxygen\", \"elem O and neighbor elem O\")"
   ]
  },
  {
   "cell_type": "code",
   "execution_count": 50,
   "id": "af78b9e2-8305-45c0-aa61-db0db6c274d4",
   "metadata": {},
   "outputs": [
    {
     "name": "stdout",
     "output_type": "stream",
     "text": [
      "0\n",
      "0\n"
     ]
    }
   ],
   "source": [
    "check_ether_o=o_total-round(solution[eth]*k)-round(solution[eth]*k1)\n",
    "print(check_ether_o)\n",
    "check_ether_c=c_totali-c_total-round(solution[eth]*k)-round(solution[eth]*k1)\n",
    "print(check_ether_c)"
   ]
  },
  {
   "cell_type": "markdown",
   "id": "5e963289",
   "metadata": {},
   "source": [
    "###  Include Pyridinic Group "
   ]
  },
  {
   "cell_type": "code",
   "execution_count": 51,
   "id": "8a75623d-aafc-43dd-8e17-0d2944f8068c",
   "metadata": {},
   "outputs": [],
   "source": [
    "object_names = list(object_masses.keys())\n",
    "modified_pyridin = []\n",
    "\n",
    "num_molecules = math.ceil(solution[pyridin])\n",
    "\n",
    "excluded_prefixes = [\"dibenzofuran\",\"defect\",\"benzo_a_fluorene\", \"benzo_b_fluorene\",\"benzene\",\"naphthalene\",\"dibenzofuran\",\"phenalene\", \"phenanthrene\",\"anthracene\",\"pyrene\",\"benzo_g_h_i_perylene\",\"benzo_a_pyrene\",\"perylene\",\"chrysene\",\"defect\"]\n",
    "filtered_object_names = [name for name in object_names if not any(name.startswith(prefix) for prefix in excluded_prefixes)]\n",
    "\n",
    "# Select a specific number of molecules from the filtered list\n",
    "if num_molecules > len(filtered_object_names):\n",
    "    molecules_to_edit = random.choices(filtered_object_names, k=num_molecules)\n",
    "else:\n",
    "    molecules_to_edit = random.sample(filtered_object_names, num_molecules)\n",
    "\n",
    "\n",
    "# Loop over each selected molecule\n",
    "for mol_to_edit in molecules_to_edit:\n",
    "    \n",
    "    while True:\n",
    "        \n",
    "        # Get available carbon types\n",
    "        n_types = builder.examine_main(mol_to_edit)\n",
    "\n",
    "        if len(n_types['N_2n'])<1:\n",
    "            break  # Condition met, proceed to modify the molecule\n",
    "        \n",
    "        # Select a new molecule from the list\n",
    "        mol_to_edit = random.choice(filtered_object_names)\n",
    "    \n",
    "    cmd.select(\"nitrogen_not_bonded_to_nitrogen\", f\"({mol_to_edit} and elem C and neighbor (elem H) and not neighbor (elem O))\")\n",
    "\n",
    "    # Get the selection of carbon atoms not bonded to oxygen\n",
    "    selection_dict = cmd.get_model(\"nitrogen_not_bonded_to_nitrogen\")\n",
    "        \n",
    "    n_choices = [atom[\"index\"] for atom in selection_dict[\"atom\"] if atom[\"name\"].startswith(\"C\")]\n",
    "    \n",
    "    while True:\n",
    "        value_n=random.choice(n_types['C_2n'])\n",
    "        if value_n in n_choices:\n",
    "            break\n",
    "\n",
    "    # Attach Pyridinic group \n",
    "    object_pyridin = cmd.alter(f'{mol_to_edit} and index {value_n}', 'elem=\"N\"')\n",
    "    object_pyridin = cmd.alter(f'{mol_to_edit} and index {value_n}', 'text_type=\"N.2\"')\n",
    "    object_pyridin = cmd.alter(f'{mol_to_edit} and index {value_n}', 'name=\"N\"')\n",
    "\n",
    "    # Store the modified Pyridinic\n",
    "    modified_pyridin.append(object_pyridin)\n",
    "    h_types = builder.examine_h(mol_to_edit)\n",
    "    h_choice = random.choice(h_types['Aliphatic_N_inRing'])\n",
    "    object_pyridin = cmd.remove(f'{mol_to_edit} and index {h_choice}')\n",
    "\n",
    "    # Store the modified Pyridinic\n",
    "    modified_pyridin.append(object_pyridin)"
   ]
  },
  {
   "cell_type": "code",
   "execution_count": 52,
   "id": "aa8cea55",
   "metadata": {},
   "outputs": [
    {
     "name": "stdout",
     "output_type": "stream",
     "text": [
      "Element C: 6647\n",
      "Element H: 2912\n",
      "Element N: 3\n",
      "Element O: 400\n",
      "Element S: 0\n",
      "Element Cl: 0\n",
      "Element Si: 0\n"
     ]
    }
   ],
   "source": [
    "atom_counts = {}\n",
    "elements = [\"C\", \"H\", \"N\", \"O\", \"S\", \"Cl\", \"Si\"]\n",
    "\n",
    "for element in elements:\n",
    "    count = cmd.select(f\"elem {element}\")\n",
    "    atom_counts[element] = count\n",
    "n_total= atom_counts[\"N\"]\n",
    "h_totali= atom_counts[\"H\"]\n",
    "\n",
    "for element, count in atom_counts.items():\n",
    "    print(f\"Element {element}: {count}\")"
   ]
  },
  {
   "cell_type": "markdown",
   "id": "41f56d52",
   "metadata": {},
   "source": [
    "#### Check these values: Should be zero\n"
   ]
  },
  {
   "cell_type": "code",
   "execution_count": 53,
   "id": "366689e8",
   "metadata": {},
   "outputs": [
    {
     "name": "stdout",
     "output_type": "stream",
     "text": [
      "0\n"
     ]
    }
   ],
   "source": [
    "check_n=n_total-math.ceil(solution[pyridin])\n",
    "print(check_n)"
   ]
  },
  {
   "cell_type": "code",
   "execution_count": 54,
   "id": "9d8984ce",
   "metadata": {},
   "outputs": [
    {
     "data": {
      "text/plain": [
       "0"
      ]
     },
     "execution_count": 54,
     "metadata": {},
     "output_type": "execute_result"
    }
   ],
   "source": [
    "cmd.select(\"nitrogen_bonded_to_oxygen_nitrogen\", \"elem N and neighbor elem O\")"
   ]
  },
  {
   "cell_type": "code",
   "execution_count": 55,
   "id": "11a3c9e7",
   "metadata": {},
   "outputs": [
    {
     "data": {
      "text/plain": [
       "0"
      ]
     },
     "execution_count": 55,
     "metadata": {},
     "output_type": "execute_result"
    }
   ],
   "source": [
    "cmd.select(\"nitrogen_bonded_nitrogen\", \"elem N and neighbor elem N\")"
   ]
  },
  {
   "cell_type": "markdown",
   "id": "c5a29e07",
   "metadata": {},
   "source": [
    "### Include Hydroxyl Groups"
   ]
  },
  {
   "cell_type": "code",
   "execution_count": 56,
   "id": "31b10e79",
   "metadata": {},
   "outputs": [],
   "source": [
    "object_names = list(object_masses.keys())\n",
    "modified_hydroxyls = []\n",
    "\n",
    "num_molecules = round(solution[hydroxyl])\n",
    "\n",
    "excluded_prefixes = [\"defect\"]\n",
    "filtered_object_names = [name for name in object_names if not any(name.startswith(prefix) for prefix in excluded_prefixes)]\n",
    "\n",
    "if num_molecules > len(filtered_object_names):\n",
    "    molecules_to_edit = random.choices(filtered_object_names, k=num_molecules)\n",
    "else:\n",
    "    molecules_to_edit = random.sample(filtered_object_names, num_molecules)\n",
    "\n",
    "for mol_to_edit in molecules_to_edit:\n",
    "    \n",
    "    # Get available hydrogen types\n",
    "    while True:\n",
    "        \n",
    "        # Get available carbon types\n",
    "        o_types = builder.examine_main(mol_to_edit)\n",
    "\n",
    "        if len(o_types['O_2n'])<3 and len(o_types['O_1n'])< 3:\n",
    "            break  # Condition met, proceed to modify the molecule\n",
    "        \n",
    "        mol_to_edit = random.choice(filtered_object_names)\n",
    "    \n",
    "    h_types = builder.examine_h(mol_to_edit)\n",
    "    \n",
    "    # Check if the molecule has 'Aliphatic_C_inRing' oxygen type\n",
    "    if len(h_types['Aliphatic_C_inRing']) == 0:\n",
    "        h_choice = random.choice(h_types['Aliphatic_C'])\n",
    "    else: \n",
    "        h_choice = random.choice(h_types['Aliphatic_C_inRing'])\n",
    "\n",
    "        # Attach Hydroxyl group\n",
    "        object_hydroxyl = builder.Attach_OH(mol_to_edit, h_choice)\n",
    "    modified_hydroxyls.append(object_hydroxyl)"
   ]
  },
  {
   "cell_type": "code",
   "execution_count": 57,
   "id": "395aca98",
   "metadata": {},
   "outputs": [
    {
     "name": "stdout",
     "output_type": "stream",
     "text": [
      "Element C: 6647\n",
      "Element H: 2912\n",
      "Element N: 3\n",
      "Element O: 401\n",
      "Element S: 0\n",
      "Element Cl: 0\n",
      "Element Si: 0\n"
     ]
    }
   ],
   "source": [
    "atom_counts = {}\n",
    "elements = [\"C\", \"H\", \"N\", \"O\", \"S\", \"Cl\", \"Si\"]\n",
    "\n",
    "for element in elements:\n",
    "    count = cmd.select(f\"elem {element}\")\n",
    "    atom_counts[element] = count\n",
    "o_total= atom_counts[\"O\"]\n",
    "c_total= atom_counts[\"C\"]\n",
    "h_total= atom_counts[\"H\"]\n",
    "\n",
    "for element, count in atom_counts.items():\n",
    "    print(f\"Element {element}: {count}\")"
   ]
  },
  {
   "cell_type": "markdown",
   "id": "ccc503ee",
   "metadata": {},
   "source": [
    "#### Check these values: Should be zero"
   ]
  },
  {
   "cell_type": "code",
   "execution_count": 58,
   "id": "85e10259",
   "metadata": {},
   "outputs": [
    {
     "name": "stdout",
     "output_type": "stream",
     "text": [
      "0\n",
      "0\n"
     ]
    }
   ],
   "source": [
    "check_ox=o_total-round(solution[eth]*k)-round(solution[eth]*k1)-round(solution[hydroxyl])\n",
    "print(check_ox)\n",
    "check_hy=h_totali-h_total\n",
    "print(check_hy)"
   ]
  },
  {
   "cell_type": "markdown",
   "id": "eb75fa3d",
   "metadata": {},
   "source": [
    "### Include Carbonyl Groups"
   ]
  },
  {
   "cell_type": "code",
   "execution_count": 59,
   "id": "c394f62d",
   "metadata": {},
   "outputs": [],
   "source": [
    "object_names = list(object_masses.keys())\n",
    "modified_carbonyl = []\n",
    "\n",
    "num_molecules = round(solution[carb])\n",
    "\n",
    "excluded_prefixes = [\"benzo_a_fluorene\", \"benzo_b_fluorene\",\"phenalene\", \"phenanthrene\",\"anthracene\",\"pyrene\",\"benzo_a_pyrene\",\"perylene\",\"chrysene\",\"benzo_b_fluoranthene\",\"N5\"]\n",
    "filtered_object_names = [name for name in object_names if not any(name.startswith(prefix) for prefix in excluded_prefixes)]\n",
    "\n",
    "if num_molecules > len(filtered_object_names):\n",
    "    molecules_to_edit = random.choices(filtered_object_names, k=num_molecules)\n",
    "else:\n",
    "    molecules_to_edit = random.sample(filtered_object_names, num_molecules)\n",
    "\n",
    "\n",
    "for mol_to_edit in molecules_to_edit:\n",
    "    while True:\n",
    "\n",
    "        # Get available carbon types\n",
    "        o_types = builder.examine_main(mol_to_edit)\n",
    "        cmd.select(\"hydro_not_bonded_to_CO\", f\"({mol_to_edit} and elem H and neighbor (elem C) and (not neighbor (elem O)))\")\n",
    "            \n",
    "        # Get the selection of carbon atoms not bonded to oxygen\n",
    "        selection_dict = cmd.get_model(\"hydro_not_bonded_to_CO\")\n",
    "        h_choices = [atom[\"index\"] for atom in selection_dict[\"atom\"] if atom[\"name\"].startswith(\"H\")]\n",
    "        \n",
    "        if len(h_choices)>3 and len(o_types['O_2n'])<round(O_C*40) and len(o_types['O_1n'])<round(O_C*40):\n",
    "            break  # Condition met, proceed to modify the molecule\n",
    "            \n",
    "        # Select a new molecule from the list\n",
    "        mol_to_edit = random.choice(filtered_object_names)\n",
    "\n",
    "    h_types = builder.examine_h(mol_to_edit) \n",
    "\n",
    "    while True:\n",
    "        if len(h_types['Aliphatic_C_inRing'])==0:\n",
    "            h_choice = random.choice(h_types['Aliphatic_C'])\n",
    "        else:\n",
    "            h_choice = random.choice(h_types['Aliphatic_C_inRing'])\n",
    "        if h_choice in h_choices:\n",
    "            break\n",
    "\n",
    "    # Attach Carbonyl group\n",
    "    object_carbonyl = builder.Attach_Carbonyl(mol_to_edit, h_choice)\n",
    "    modified_carbonyl.append(object_carbonyl)"
   ]
  },
  {
   "cell_type": "code",
   "execution_count": 60,
   "id": "0b317e28",
   "metadata": {},
   "outputs": [
    {
     "name": "stdout",
     "output_type": "stream",
     "text": [
      "Element C: 6798\n",
      "Element H: 2912\n",
      "Element N: 3\n",
      "Element O: 552\n",
      "Element S: 0\n",
      "Element Cl: 0\n",
      "Element Si: 0\n"
     ]
    }
   ],
   "source": [
    "atom_counts = {}\n",
    "elements = [\"C\", \"H\", \"N\", \"O\", \"S\", \"Cl\", \"Si\"]\n",
    "\n",
    "for element in elements:\n",
    "    count = cmd.select(f\"elem {element}\")\n",
    "    atom_counts[element] = count\n",
    "o_total_new= atom_counts[\"O\"]\n",
    "c_total_new= atom_counts[\"C\"]\n",
    "\n",
    "for element, count in atom_counts.items():\n",
    "    print(f\"Element {element}: {count}\")"
   ]
  },
  {
   "cell_type": "markdown",
   "id": "9f614072",
   "metadata": {},
   "source": [
    "#### Check these values: Should be zero"
   ]
  },
  {
   "cell_type": "code",
   "execution_count": 61,
   "id": "74b3cb9c",
   "metadata": {},
   "outputs": [
    {
     "name": "stdout",
     "output_type": "stream",
     "text": [
      "0\n",
      "0\n"
     ]
    }
   ],
   "source": [
    "check_c=c_total_new-(c_total+round(solution[carb]))\n",
    "print(check_c)\n",
    "check_o=o_total_new-(o_total+round(solution[carb]))\n",
    "print(check_o)"
   ]
  },
  {
   "cell_type": "markdown",
   "id": "fa537269",
   "metadata": {},
   "source": [
    "### Include Ester and Carboxyl Groups"
   ]
  },
  {
   "cell_type": "code",
   "execution_count": 62,
   "id": "c2c10839",
   "metadata": {},
   "outputs": [],
   "source": [
    "object_names = list(object_masses.keys())\n",
    "modified_ester = []\n",
    "\n",
    "num_molecules = math.floor(solution[ester]*0.9) # 90% as ester groups\n",
    "\n",
    "if num_molecules > len(object_names):\n",
    "    molecules_to_edit = random.choices(object_names, k=num_molecules)\n",
    "else:\n",
    "    molecules_to_edit = random.sample(object_names, num_molecules)\n",
    "\n",
    "for mol_to_edit in molecules_to_edit:\n",
    "    while True:\n",
    "            \n",
    "        # Get available carbon types\n",
    "        o_types = builder.examine_main(mol_to_edit)\n",
    "        cmd.select(\"hydro_not_bonded_to_CO\", f\"({mol_to_edit} and elem H and neighbor (elem C) and (not neighbor (elem O)))\")\n",
    "\n",
    "        # Get the selection of carbon atoms not bonded to oxygen\n",
    "        selection_dict = cmd.get_model(\"hydro_not_bonded_to_CO\")\n",
    "        h_choices = [atom[\"index\"] for atom in selection_dict[\"atom\"] if atom[\"name\"].startswith(\"H\")]\n",
    "        \n",
    "        if Biochar_Temp==700:\n",
    "            if len(h_choices)>3 and len(o_types['O_2n'])<round(O_C*80) and len(o_types['O_1n'])<round(O_C*80):\n",
    "                break  # Condition met, proceed to modify the molecule\n",
    "        else:\n",
    "             if len(h_choices)>3 and len(o_types['O_2n'])<round(O_C*55) and len(o_types['O_1n'])<round(O_C*55):\n",
    "                break  # Condition met, proceed to modify the molecule\n",
    "        \n",
    "        # Select a new molecule from the list\n",
    "        mol_to_edit = random.choice(filtered_object_names)\n",
    "\n",
    "    h_types = builder.examine_h(mol_to_edit)\n",
    "\n",
    "    while True:\n",
    "        if len(h_types['Aliphatic_C_inRing']) == 0:\n",
    "            h_choice = random.choice(h_types['Aliphatic_C'])\n",
    "        else:\n",
    "            h_choice = random.choice(h_types['Aliphatic_C_inRing'])\n",
    "        if h_choice in h_choices:\n",
    "            break\n",
    "\n",
    "    # Attach Ester group\n",
    "    object_ester = builder.Attach_Ester(mol_to_edit, h_choice)\n",
    "    modified_ester.append(object_ester)"
   ]
  },
  {
   "cell_type": "code",
   "execution_count": 63,
   "id": "edfce29b-854c-4b95-b8a7-7d8b332dafa2",
   "metadata": {},
   "outputs": [],
   "source": [
    "object_names = list(object_masses.keys())\n",
    "modified_carbox = []\n",
    "\n",
    "num_molecules = math.ceil(solution[ester]*0.1) # 10% as carboxylic groups\n",
    "\n",
    "if num_molecules > len(object_names):\n",
    "    molecules_to_edit = random.choices(object_names, k=num_molecules)\n",
    "else:\n",
    "    molecules_to_edit = random.sample(object_names, num_molecules)\n",
    "\n",
    "for mol_to_edit in molecules_to_edit:\n",
    "    while True:\n",
    "            \n",
    "        # Get available carbon types\n",
    "        o_types = builder.examine_main(mol_to_edit)\n",
    "        cmd.select(\"hydro_not_bonded_to_CO\", f\"({mol_to_edit} and elem H and neighbor (elem C) and (not neighbor (elem O)))\")\n",
    "\n",
    "        # Get the selection of carbon atoms not bonded to oxygen\n",
    "        selection_dict = cmd.get_model(\"hydro_not_bonded_to_CO\")\n",
    "        h_choices = [atom[\"index\"] for atom in selection_dict[\"atom\"] if atom[\"name\"].startswith(\"H\")]\n",
    "        \n",
    "        if Biochar_Temp==700:\n",
    "            if len(h_choices)>3 and len(o_types['O_2n'])<round(O_C*80) and len(o_types['O_1n'])<round(O_C*80):\n",
    "                break  # Condition met, proceed to modify the molecule\n",
    "        else:\n",
    "             if len(h_choices)>3 and len(o_types['O_2n'])<round(O_C*55) and len(o_types['O_1n'])<round(O_C*55):\n",
    "                break  # Condition met, proceed to modify the molecule\n",
    "        \n",
    "        # Select a new molecule from the list\n",
    "        mol_to_edit = random.choice(filtered_object_names)\n",
    "\n",
    "    h_types = builder.examine_h(mol_to_edit)\n",
    "\n",
    "    while True:\n",
    "        if len(h_types['Aliphatic_C_inRing']) == 0:\n",
    "            h_choice = random.choice(h_types['Aliphatic_C'])\n",
    "        else:\n",
    "            h_choice = random.choice(h_types['Aliphatic_C_inRing'])\n",
    "        if h_choice in h_choices:\n",
    "            break\n",
    "\n",
    "    # Attach Carboxylic group\n",
    "    object_carbox = builder.Attach_Carbox(mol_to_edit, h_choice)\n",
    "    modified_carbox.append(object_carbox)"
   ]
  },
  {
   "cell_type": "code",
   "execution_count": 64,
   "id": "799d7c6c",
   "metadata": {},
   "outputs": [
    {
     "name": "stdout",
     "output_type": "stream",
     "text": [
      "Element C: 7014\n",
      "Element H: 2912\n",
      "Element N: 3\n",
      "Element O: 984\n",
      "Element S: 0\n",
      "Element Cl: 0\n",
      "Element Si: 0\n"
     ]
    }
   ],
   "source": [
    "atom_counts = {}\n",
    "elements = [\"C\", \"H\", \"N\", \"O\", \"S\", \"Cl\", \"Si\"]\n",
    "\n",
    "for element in elements:\n",
    "    count = cmd.select(f\"elem {element}\")\n",
    "    atom_counts[element] = count\n",
    "o_total_new2= atom_counts[\"O\"]\n",
    "c_total_new2= atom_counts[\"C\"]\n",
    "h_total_new2= atom_counts[\"H\"]\n",
    "\n",
    "for element, count in atom_counts.items():\n",
    "    print(f\"Element {element}: {count}\")"
   ]
  },
  {
   "cell_type": "markdown",
   "id": "0d52851d",
   "metadata": {},
   "source": [
    "#### Check these values: Should be zero"
   ]
  },
  {
   "cell_type": "code",
   "execution_count": 65,
   "id": "692e940e",
   "metadata": {},
   "outputs": [
    {
     "name": "stdout",
     "output_type": "stream",
     "text": [
      "0\n",
      "0\n"
     ]
    }
   ],
   "source": [
    "check_c=c_total_new2-(c_total_new+round(solution[ester]))\n",
    "print(check_c)\n",
    "check_o=o_total_new2-(o_total_new+round(solution[ester])*2)\n",
    "print(check_o)"
   ]
  },
  {
   "cell_type": "markdown",
   "id": "a6da003d",
   "metadata": {},
   "source": [
    "### Include Methyl Groups"
   ]
  },
  {
   "cell_type": "code",
   "execution_count": 66,
   "id": "a30f0c81",
   "metadata": {},
   "outputs": [],
   "source": [
    "object_names = list(object_masses.keys())\n",
    "modified_methyl = []\n",
    "\n",
    "num_molecules = round(solution[methyl])\n",
    "\n",
    "if num_molecules > len(object_names):\n",
    "    molecules_to_edit = random.choices(object_names, k=num_molecules)\n",
    "else:\n",
    "    molecules_to_edit = random.sample(object_names, num_molecules)\n",
    "\n",
    "for mol_to_edit in molecules_to_edit:\n",
    "    while True:  \n",
    "\n",
    "        # Get available hydrogen types\n",
    "        cmd.select(\"hydro_not_bonded_to_CO\", f\"({mol_to_edit} and elem H and neighbor (elem C) and (not neighbor (elem O)))\")\n",
    "\n",
    "        # Get the selection of carbon atoms not bonded to oxygen\n",
    "        selection_dict = cmd.get_model(\"hydro_not_bonded_to_CO\")\n",
    "        h_choices = [atom[\"index\"] for atom in selection_dict[\"atom\"] if atom[\"name\"].startswith(\"H\")]\n",
    "\n",
    "        if len(h_choices)>4:\n",
    "            break  # Condition met, proceed to modify the molecule\n",
    "        \n",
    "        # Select a new molecule from the list\n",
    "        mol_to_edit = random.choice(filtered_object_names)\n",
    "\n",
    "    h_types = builder.examine_h(mol_to_edit)\n",
    "\n",
    "    while True:\n",
    "        if len(h_types['Aliphatic_C_inRing'])==0:\n",
    "            h_choice = random.choice(h_types['Aliphatic_C'])\n",
    "        else:\n",
    "            h_choice = random.choice(h_types['Aliphatic_C_inRing'])\n",
    "        if h_choice in h_choices:\n",
    "            break\n",
    "            \n",
    "    # Attach Methyl group \n",
    "    object_methyl = builder.Attach_CH3(mol_to_edit, h_choice)\n",
    "    modified_methyl.append(object_methyl)"
   ]
  },
  {
   "cell_type": "code",
   "execution_count": 67,
   "id": "f5956e45",
   "metadata": {},
   "outputs": [
    {
     "name": "stdout",
     "output_type": "stream",
     "text": [
      "Element C: 7094\n",
      "Element H: 3072\n",
      "Element N: 3\n",
      "Element O: 984\n",
      "Element S: 0\n",
      "Element Cl: 0\n",
      "Element Si: 0\n"
     ]
    }
   ],
   "source": [
    "atom_counts = {}\n",
    "elements = [\"C\", \"H\", \"N\", \"O\", \"S\", \"Cl\", \"Si\"]\n",
    "\n",
    "for element in elements:\n",
    "    count = cmd.select(f\"elem {element}\")\n",
    "    atom_counts[element] = count\n",
    "c_total_new= atom_counts[\"C\"]\n",
    "h_total_new= atom_counts[\"H\"]\n",
    "\n",
    "for element, count in atom_counts.items():\n",
    "    print(f\"Element {element}: {count}\")"
   ]
  },
  {
   "cell_type": "markdown",
   "id": "6450594b",
   "metadata": {},
   "source": [
    "#### Check these values: Should be zero"
   ]
  },
  {
   "cell_type": "code",
   "execution_count": 68,
   "id": "394643a5",
   "metadata": {},
   "outputs": [
    {
     "name": "stdout",
     "output_type": "stream",
     "text": [
      "0\n",
      "0\n"
     ]
    }
   ],
   "source": [
    "check_c=c_total_new-(c_total_new2+round(solution[methyl]))\n",
    "print(check_c)\n",
    "check_hy=h_total_new-(h_total_new2+round(solution[methyl])*2)\n",
    "print(check_hy)"
   ]
  },
  {
   "cell_type": "markdown",
   "id": "da27879a",
   "metadata": {},
   "source": [
    "### Include CH2CH3 Groups"
   ]
  },
  {
   "cell_type": "code",
   "execution_count": 69,
   "id": "8bd27580",
   "metadata": {},
   "outputs": [],
   "source": [
    "object_names = list(object_masses.keys())\n",
    "modified_ali_chain = []\n",
    "\n",
    "num_molecules = round(solution[ali_chain])\n",
    "\n",
    "if num_molecules > len(object_names):\n",
    "    molecules_to_edit = random.choices(object_names, k=num_molecules)\n",
    "else:\n",
    "    molecules_to_edit = random.sample(object_names, num_molecules)\n",
    "\n",
    "for mol_to_edit in molecules_to_edit:     \n",
    "    while True:\n",
    "\n",
    "        # Get available hydrogen types\n",
    "        cmd.select(\"hydro_not_bonded_to_CO\", f\"({mol_to_edit} and elem H and neighbor (elem C) and (not neighbor (elem O)))\")\n",
    "\n",
    "        # Get the selection of carbon atoms not bonded to oxygen\n",
    "        selection_dict = cmd.get_model(\"hydro_not_bonded_to_CO\")\n",
    "        h_choices = [atom[\"index\"] for atom in selection_dict[\"atom\"] if atom[\"name\"].startswith(\"H\")]\n",
    "\n",
    "        if len(h_choices)>8:\n",
    "            break  # Condition met, proceed to modify the molecule\n",
    "        \n",
    "        # Select a new molecule from the list\n",
    "        mol_to_edit = random.choice(object_names)\n",
    "        \n",
    "    h_types = builder.examine_h(mol_to_edit)\n",
    "\n",
    "    while True:\n",
    "        if len(h_types['Aliphatic_C_inRing'])==0:\n",
    "            h_choice = random.choice(h_types['Aliphatic_C'])\n",
    "        else:\n",
    "            h_choice = random.choice(h_types['Aliphatic_C_inRing'])\n",
    "        if h_choice in h_choices:\n",
    "            break\n",
    "\n",
    "    # Attach Aliphatic group           \n",
    "    object_ali_chain = builder.Attach_CH2CH3(mol_to_edit, h_choice)\n",
    "    modified_ali_chain.append(object_ali_chain)"
   ]
  },
  {
   "cell_type": "code",
   "execution_count": 70,
   "id": "3633eea1",
   "metadata": {},
   "outputs": [
    {
     "name": "stdout",
     "output_type": "stream",
     "text": [
      "Element C: 7254\n",
      "Element H: 3392\n",
      "Element N: 3\n",
      "Element O: 984\n",
      "Element S: 0\n",
      "Element Cl: 0\n",
      "Element Si: 0\n"
     ]
    }
   ],
   "source": [
    "atom_counts = {}\n",
    "elements = [\"C\", \"H\", \"N\", \"O\", \"S\", \"Cl\", \"Si\"]\n",
    "\n",
    "for element in elements:\n",
    "    count = cmd.select(f\"elem {element}\")\n",
    "    atom_counts[element] = count\n",
    "c_total= atom_counts[\"C\"]\n",
    "h_total= atom_counts[\"H\"]\n",
    "\n",
    "for element, count in atom_counts.items():\n",
    "    print(f\"Element {element}: {count}\")"
   ]
  },
  {
   "cell_type": "markdown",
   "id": "3481f1c7",
   "metadata": {},
   "source": [
    "#### Check these values: Should be zero"
   ]
  },
  {
   "cell_type": "code",
   "execution_count": 71,
   "id": "3aca1f11",
   "metadata": {},
   "outputs": [
    {
     "name": "stdout",
     "output_type": "stream",
     "text": [
      "0\n",
      "0\n"
     ]
    }
   ],
   "source": [
    "check_c=c_total-(c_total_new+round(solution[ali_chain])*2)\n",
    "print(check_c)\n",
    "check_hy=h_total-(h_total_new+round(solution[ali_chain])*4)\n",
    "print(check_hy)"
   ]
  },
  {
   "cell_type": "markdown",
   "id": "f156de98-b69a-474b-931c-8d943bf92c05",
   "metadata": {},
   "source": [
    "### Include (CH2)2-CH3 Groups for Biochar at 400°C"
   ]
  },
  {
   "cell_type": "code",
   "execution_count": 72,
   "id": "61bda4cf-55cc-4975-a13b-cc52e6abb34d",
   "metadata": {},
   "outputs": [],
   "source": [
    "object_names = list(object_masses.keys())\n",
    "modified_ali_chain_2 = []\n",
    "\n",
    "num_molecules = math.ceil(solution[ali_chain_2]/2)\n",
    "\n",
    "if num_molecules > len(object_names):\n",
    "    molecules_to_edit = random.choices(object_names, k=num_molecules)\n",
    "else:\n",
    "    molecules_to_edit = random.sample(object_names, num_molecules)\n",
    "\n",
    "for mol_to_edit in molecules_to_edit:     \n",
    "    while True:\n",
    "\n",
    "        # Get available hydrogen types\n",
    "        cmd.select(\"hydro_not_bonded_to_CO\", f\"({mol_to_edit} and elem H and neighbor (elem C) and (not neighbor (elem O)))\")\n",
    "\n",
    "        # Get the selection of carbon atoms not bonded to oxygen\n",
    "        selection_dict = cmd.get_model(\"hydro_not_bonded_to_CO\")\n",
    "        h_choices = [atom[\"index\"] for atom in selection_dict[\"atom\"] if atom[\"name\"].startswith(\"H\")]\n",
    "\n",
    "        if len(h_choices)>10:\n",
    "            break  # Condition met, proceed to modify the molecule\n",
    "        \n",
    "        # Select a new molecule from the list\n",
    "        mol_to_edit = random.choice(filtered_object_names)\n",
    "        \n",
    "    h_types = builder.examine_h(mol_to_edit)\n",
    "\n",
    "    if len(h_types['Aliphatic_C_inRing'])==0:\n",
    "        h_choice = random.choice(h_types['Aliphatic_C'])\n",
    "    else:\n",
    "        h_choice = random.choice(h_types['Aliphatic_C_inRing'])\n",
    "     \n",
    "    # Attach Aliphatic chain group           \n",
    "    object_ali_chain2 = builder.Attach_C2H4CH3(mol_to_edit, h_choice)\n",
    "    modified_ali_chain_2.append(object_ali_chain2)"
   ]
  },
  {
   "cell_type": "code",
   "execution_count": 73,
   "id": "10a9bb36-9081-4d4c-b7eb-6bfb1df2482f",
   "metadata": {},
   "outputs": [],
   "source": [
    "object_names = list(object_masses.keys())\n",
    "modified_ali_chain_2 = []\n",
    "\n",
    "num_molecules = math.ceil(solution[ali_chain_2]/2)\n",
    "\n",
    "if num_molecules > len(object_names):\n",
    "    molecules_to_edit = random.choices(object_names, k=num_molecules)\n",
    "else:\n",
    "    molecules_to_edit = random.sample(object_names, num_molecules)\n",
    "\n",
    "for mol_to_edit in molecules_to_edit:     \n",
    "    while True:\n",
    "\n",
    "        # Get available hydrogen types\n",
    "        cmd.select(\"hydro_not_bonded_to_CO\", f\"({mol_to_edit} and elem H and neighbor (elem C) and (not neighbor (elem O)))\")\n",
    "\n",
    "        # Get the selection of carbon atoms not bonded to oxygen\n",
    "        selection_dict = cmd.get_model(\"hydro_not_bonded_to_CO\")\n",
    "        h_choices = [atom[\"index\"] for atom in selection_dict[\"atom\"] if atom[\"name\"].startswith(\"H\")]\n",
    "\n",
    "        if len(h_choices)>12:\n",
    "            break  # Condition met, proceed to modify the molecule\n",
    "        \n",
    "        # Select a new molecule from the list\n",
    "        mol_to_edit = random.choice(filtered_object_names)\n",
    "        \n",
    "    h_types = builder.examine_h(mol_to_edit)\n",
    "\n",
    "    if len(h_types['Aliphatic_C_inRing'])==0:\n",
    "        h_choice = random.choice(h_types['Aliphatic_C'])\n",
    "    else:\n",
    "        h_choice = random.choice(h_types['Aliphatic_C_inRing'])\n",
    "     \n",
    "    # Attach Aliphatic chain group           \n",
    "    object_ali_chain2 = builder.Attach_C2H4CH3(mol_to_edit, h_choice)\n",
    "    modified_ali_chain_2.append(object_ali_chain2)"
   ]
  },
  {
   "cell_type": "code",
   "execution_count": 74,
   "id": "9d677d5e-5f0a-480b-ba02-afa599c5ca88",
   "metadata": {},
   "outputs": [
    {
     "name": "stdout",
     "output_type": "stream",
     "text": [
      "Element C: 7254\n",
      "Element H: 3392\n",
      "Element N: 3\n",
      "Element O: 984\n",
      "Element S: 0\n",
      "Element Cl: 0\n",
      "Element Si: 0\n"
     ]
    }
   ],
   "source": [
    "atom_counts = {}\n",
    "elements = [\"C\", \"H\", \"N\", \"O\", \"S\", \"Cl\", \"Si\"]\n",
    "\n",
    "for element in elements:\n",
    "    count = cmd.select(f\"elem {element}\")\n",
    "    atom_counts[element] = count\n",
    "c_total_2= atom_counts[\"C\"]\n",
    "h_total_2= atom_counts[\"H\"]\n",
    "\n",
    "for element, count in atom_counts.items():\n",
    "    print(f\"Element {element}: {count}\")"
   ]
  },
  {
   "cell_type": "markdown",
   "id": "60763b1d-2ce1-40a2-972c-92216d928fe5",
   "metadata": {},
   "source": [
    "#### Check these values: Should be zero"
   ]
  },
  {
   "cell_type": "code",
   "execution_count": 75,
   "id": "6db60b41-7f7b-4714-9bc6-90065bb4a57c",
   "metadata": {},
   "outputs": [
    {
     "name": "stdout",
     "output_type": "stream",
     "text": [
      "0\n",
      "0\n"
     ]
    }
   ],
   "source": [
    "check_c=c_total_2-(c_total+math.ceil(solution[ali_chain_2])*3)\n",
    "print(check_c)\n",
    "check_hy=h_total_2-(h_total+math.ceil(solution[ali_chain_2])*6)\n",
    "print(check_hy)"
   ]
  },
  {
   "cell_type": "markdown",
   "id": "e5e4be40",
   "metadata": {},
   "source": [
    "### Include NH3 Groups"
   ]
  },
  {
   "cell_type": "code",
   "execution_count": 76,
   "id": "bc2ec6ac",
   "metadata": {},
   "outputs": [],
   "source": [
    "object_names = list(object_masses.keys())\n",
    "modified_Aniline = []\n",
    "\n",
    "num_molecules = round(solution[aniline])\n",
    "\n",
    "excluded_prefixes = [\"defect\"]\n",
    "filtered_object_names = [name for name in object_names if not any(name.startswith(prefix) for prefix in excluded_prefixes)]\n",
    "\n",
    "if num_molecules > len(filtered_object_names):\n",
    "    molecules_to_edit = random.choices(filtered_object_names, k=num_molecules)\n",
    "else:\n",
    "    molecules_to_edit = random.sample(filtered_object_names, num_molecules)\n",
    "\n",
    "for mol_to_edit in molecules_to_edit:           \n",
    "    while True:\n",
    "\n",
    "        # Get available carbon types\n",
    "        n_types = builder.examine_main(mol_to_edit)\n",
    "        cmd.select(\"hydro_not_bonded_to_CO\", f\"({mol_to_edit} and elem H and neighbor (elem C) and (not neighbor (elem O)))\")\n",
    "\n",
    "        # Get the selection of carbon atoms not bonded to oxygen\n",
    "        selection_dict = cmd.get_model(\"hydro_not_bonded_to_CO\")\n",
    "        h_choices = [atom[\"index\"] for atom in selection_dict[\"atom\"] if atom[\"name\"].startswith(\"H\")]\n",
    "\n",
    "        if len(n_types['N_2n'])==0 and len(h_choices)>7 and len(n_types['N_3n']) == 0 and len(n_types['N_1n']) == 0:\n",
    "            break  # Condition met, proceed to modify the molecule\n",
    "        \n",
    "        # Select a new molecule from the list\n",
    "        mol_to_edit = random.choice(filtered_object_names)\n",
    "\n",
    "    h_types = builder.examine_h(mol_to_edit)\n",
    "\n",
    "    while True:\n",
    "        if len(h_types['Aliphatic_C_inRing'])==0:\n",
    "            h_choice = random.choice(h_types['Aliphatic_C'])\n",
    "        else:\n",
    "            h_choice = random.choice(h_types['Aliphatic_C_inRing'])\n",
    "        if h_choice in h_choices:\n",
    "            break\n",
    "\n",
    "    # Attach Aniline group\n",
    "    object_Aniline = builder.Attach_Aniline(mol_to_edit, h_choice)\n",
    "    modified_Aniline.append(object_Aniline)"
   ]
  },
  {
   "cell_type": "code",
   "execution_count": 77,
   "id": "3b05d4b3",
   "metadata": {},
   "outputs": [
    {
     "name": "stdout",
     "output_type": "stream",
     "text": [
      "Element C: 7254\n",
      "Element H: 3396\n",
      "Element N: 7\n",
      "Element O: 984\n",
      "Element S: 0\n",
      "Element Cl: 0\n",
      "Element Si: 0\n"
     ]
    }
   ],
   "source": [
    "atom_counts = {}\n",
    "elements = [\"C\", \"H\", \"N\", \"O\", \"S\", \"Cl\", \"Si\"]\n",
    "\n",
    "for element in elements:\n",
    "    count = cmd.select(f\"elem {element}\")\n",
    "    atom_counts[element] = count\n",
    "n_total= atom_counts[\"N\"]\n",
    "h_total_new= atom_counts[\"H\"]\n",
    "\n",
    "for element, count in atom_counts.items():\n",
    "    print(f\"Element {element}: {count}\")"
   ]
  },
  {
   "cell_type": "markdown",
   "id": "685fba3f",
   "metadata": {},
   "source": [
    "#### Check these values: Should be zero"
   ]
  },
  {
   "cell_type": "code",
   "execution_count": 78,
   "id": "8c0ef82b",
   "metadata": {},
   "outputs": [
    {
     "name": "stdout",
     "output_type": "stream",
     "text": [
      "0\n",
      "0\n"
     ]
    }
   ],
   "source": [
    "check_n=n_total-(round(solution[aniline])+ math.ceil(solution[pyridin]))\n",
    "print(check_n)\n",
    "check_h=h_total_new-(h_total_2+round(solution[aniline]))\n",
    "print(check_h)"
   ]
  },
  {
   "cell_type": "markdown",
   "id": "cc9e94a4",
   "metadata": {},
   "source": [
    "### Include Quaternary Nitrogen"
   ]
  },
  {
   "cell_type": "code",
   "execution_count": 79,
   "id": "b0fda68a",
   "metadata": {},
   "outputs": [],
   "source": [
    "object_names = list(object_masses.keys())\n",
    "modified_quater = []\n",
    "\n",
    "num_molecules = round(solution[quaternaryN])\n",
    "\n",
    "excluded_prefixes = [\"circumcoronene\",\"circumpyrene\",\"pentatriacotaene\", \"circumcircumpyrene\",\"C84\"]\n",
    "filtered_object_names = [name for name in object_names if any(name.startswith(prefix) for prefix in excluded_prefixes)]\n",
    "\n",
    "if num_molecules > len(filtered_object_names):\n",
    "    molecules_to_edit = random.choices(filtered_object_names, k=num_molecules)\n",
    "else:\n",
    "    molecules_to_edit = random.sample(filtered_object_names, num_molecules)\n",
    "\n",
    "for mol_to_edit in molecules_to_edit:\n",
    "    \n",
    "    while True:\n",
    "        # Get available carbon types\n",
    "        n_types = builder.examine_main(mol_to_edit)\n",
    "\n",
    "        if len(n_types['N_2n']) == 0 and len(n_types['N_3n']) == 0 and len(n_types['N_1n']) == 0:\n",
    "            break  # Condition met, proceed to modify the molecule\n",
    "        \n",
    "        # Select a new molecule from the list\n",
    "        mol_to_edit = random.choice(filtered_object_names)\n",
    "            \n",
    "    cmd.select(\"nitrogen_not_bonded_to_nitrogen\", f\"({mol_to_edit} and elem C and not neighbor (elem O))\")\n",
    "\n",
    "    # Get the selection of carbon atoms not bonded to oxygen\n",
    "    selection_dict = cmd.get_model(\"nitrogen_not_bonded_to_nitrogen\")\n",
    "        \n",
    "    n_choices = [atom[\"index\"] for atom in selection_dict[\"atom\"] if atom[\"name\"].startswith(\"C\")]\n",
    "    \n",
    "    while True:\n",
    "        value_n=random.choice(n_types['C_3n'])\n",
    "        if value_n in n_choices:\n",
    "            break\n",
    "    # Change the Carbon selected to Nitrogen\n",
    "    object_quater = builder.Change_Element_CtoN(mol_to_edit,value_n)\n",
    "    modified_quater.append(object_quater)"
   ]
  },
  {
   "cell_type": "code",
   "execution_count": 80,
   "id": "e75b14f0",
   "metadata": {},
   "outputs": [
    {
     "name": "stdout",
     "output_type": "stream",
     "text": [
      "Element C: 7252\n",
      "Element H: 3396\n",
      "Element N: 9\n",
      "Element O: 984\n",
      "Element S: 0\n",
      "Element Cl: 0\n",
      "Element Si: 0\n"
     ]
    }
   ],
   "source": [
    "atom_counts = {}\n",
    "elements = [\"C\", \"H\", \"N\", \"O\", \"S\", \"Cl\", \"Si\"]\n",
    "\n",
    "for element in elements:\n",
    "    count = cmd.select(f\"elem {element}\")\n",
    "    atom_counts[element] = count\n",
    "n_total_neww= atom_counts[\"N\"]\n",
    "c_total_neww= atom_counts[\"C\"]\n",
    "\n",
    "for element, count in atom_counts.items():\n",
    "    print(f\"Element {element}: {count}\")"
   ]
  },
  {
   "cell_type": "markdown",
   "id": "df0bdeda",
   "metadata": {},
   "source": [
    "#### Check these values: Should be zero\n"
   ]
  },
  {
   "cell_type": "code",
   "execution_count": 81,
   "id": "f8766532",
   "metadata": {},
   "outputs": [
    {
     "name": "stdout",
     "output_type": "stream",
     "text": [
      "0\n",
      "0\n"
     ]
    }
   ],
   "source": [
    "check_cc=c_total_2-(c_total_neww+round(solution[quaternaryN]))\n",
    "print(check_cc)\n",
    "check_n=n_total_neww-(n_total+round(solution[quaternaryN]))\n",
    "print(check_n)"
   ]
  },
  {
   "cell_type": "markdown",
   "id": "55b37d80-6a19-4b9a-9fbf-146926c7dd0d",
   "metadata": {},
   "source": [
    "### Correct atom valence and include hydrogens to fix the inclusion of functional groups"
   ]
  },
  {
   "cell_type": "code",
   "execution_count": 82,
   "id": "096f44cc-5cee-4244-b5c0-4c53ff858c09",
   "metadata": {},
   "outputs": [],
   "source": [
    "cmd.do(\"valence guess, all\")"
   ]
  },
  {
   "cell_type": "code",
   "execution_count": 83,
   "id": "95c4fb6d-c8fc-40e2-b878-4fba49de3be4",
   "metadata": {},
   "outputs": [],
   "source": [
    "def add_hydrogens_excluding_prefixes():\n",
    "    excluded_prefixes = [\"defect\"]\n",
    "    \n",
    "    filtered_object_names = [\n",
    "        name for name in object_names\n",
    "        if not any(name.startswith(prefix) for prefix in excluded_prefixes)\n",
    "    ]\n",
    "    \n",
    "    for name in filtered_object_names:\n",
    "        cmd.h_add(name)\n",
    "        \n",
    "add_hydrogens_excluding_prefixes()"
   ]
  },
  {
   "cell_type": "code",
   "execution_count": 84,
   "id": "96714849-7aaa-4ff8-9fda-7d6c9fcfad2f",
   "metadata": {},
   "outputs": [],
   "source": [
    "cmd.do('colour')\n",
    "cmd.do('orient')\n",
    "cmd.do('set sphere_scale, 0.2, (all)')\n",
    "cmd.do('set_bond stick_radius, 0.14, (all), (all)')\n",
    "cmd.do('show sticks')\n",
    "cmd.do('show spheres')\n",
    "cmd.bg_color(\"white\")\n",
    "cmd.set(\"ray_shadows\", \"off\")"
   ]
  },
  {
   "cell_type": "code",
   "execution_count": 85,
   "id": "c3de2083-560e-4e8c-8ca8-74f4433745ab",
   "metadata": {},
   "outputs": [
    {
     "name": "stdout",
     "output_type": "stream",
     "text": [
      "Element C: 7252\n",
      "Element H: 3761\n",
      "Element N: 9\n",
      "Element O: 984\n",
      "Element S: 0\n",
      "Element Cl: 0\n",
      "Element Si: 0\n"
     ]
    }
   ],
   "source": [
    "atom_counts = {}\n",
    "elements = [\"C\", \"H\", \"N\", \"O\", \"S\", \"Cl\", \"Si\"]\n",
    "\n",
    "for element in elements:\n",
    "    count = cmd.select(f\"elem {element}\")\n",
    "    atom_counts[element] = count\n",
    "FinalC1= atom_counts[\"C\"]\n",
    "FinalO= atom_counts[\"O\"]\n",
    "FinalH= atom_counts[\"H\"]\n",
    "FinalN= atom_counts[\"N\"]\n",
    "\n",
    "for element, count in atom_counts.items():\n",
    "    print(f\"Element {element}: {count}\")"
   ]
  },
  {
   "cell_type": "code",
   "execution_count": 86,
   "id": "00ab708d-8705-4020-9aa3-d1ace953a1c5",
   "metadata": {},
   "outputs": [],
   "source": [
    "cmd.do(\"valence guess, all\")"
   ]
  },
  {
   "cell_type": "code",
   "execution_count": 87,
   "id": "3e7ddbe1",
   "metadata": {},
   "outputs": [],
   "source": [
    "object_names = list(object_masses.keys())\n",
    "for obj in object_names:\n",
    "    cmd.do('clean %s' % obj)\n",
    "    cmd.do('scultp %s' % obj)"
   ]
  },
  {
   "cell_type": "code",
   "execution_count": 88,
   "id": "db86e57d",
   "metadata": {},
   "outputs": [],
   "source": [
    "builder.clear_label()"
   ]
  },
  {
   "cell_type": "markdown",
   "id": "f4f8f724",
   "metadata": {},
   "source": [
    "## Step 5: Create a cross-linked network to fix H/C ratio"
   ]
  },
  {
   "cell_type": "markdown",
   "id": "e8dee3b3-2384-46a2-b109-6ec10c69fa56",
   "metadata": {},
   "source": [
    "### Obtain the molecular formula of decorated clusters before crosslinking"
   ]
  },
  {
   "cell_type": "code",
   "execution_count": 89,
   "id": "aa8d3b38-08af-41f7-b80e-329b8845ce86",
   "metadata": {},
   "outputs": [
    {
     "name": "stdout",
     "output_type": "stream",
     "text": [
      "Composition analysis complete. Results saved to 'Molecular_formula_before_crosslinking.txt'.\n"
     ]
    }
   ],
   "source": [
    "object_list = cmd.get_object_list()\n",
    "def get_atom_counts(object_list):\n",
    "    elements = ['C', 'H', 'N', 'O', 'S', 'Cl', 'Si']\n",
    "    counts = [object_list]  # Start with the molecule name\n",
    "    for element in elements:\n",
    "        count = cmd.count_atoms(f'elem {element} and model {object_list}')\n",
    "        counts.append(count)\n",
    "    return counts\n",
    "\n",
    "with open('Molecular_formula_before_crosslinking.txt', 'w') as file:\n",
    "    file.write(\"Molecule,C,H,N,O,S,Cl,Si\\n\")\n",
    "    \n",
    "    for molecule in object_list:\n",
    "        atom_counts = get_atom_counts(molecule)\n",
    "        file.write(\",\".join(map(str, atom_counts)) + '\\n')\n",
    "\n",
    "print(\"Composition analysis complete. Results saved to 'Molecular_formula_before_crosslinking.txt'.\")"
   ]
  },
  {
   "cell_type": "markdown",
   "id": "f7d7efdf",
   "metadata": {},
   "source": [
    "### Check againg cross-links by fixing H/C ratio"
   ]
  },
  {
   "cell_type": "code",
   "execution_count": 90,
   "id": "dfcaf024",
   "metadata": {},
   "outputs": [
    {
     "name": "stdout",
     "output_type": "stream",
     "text": [
      "Best i value: 3695\n",
      "Minimum Err_H_C: 0.011\n"
     ]
    }
   ],
   "source": [
    "def calculate_Err_H_C(i):\n",
    "    mw = (FinalC1-Internal_C_to_remove)* 12.011 + i * 1.00784 + FinalN* 14.0067 + FinalO * 15.999\n",
    "    H_C_mod = i/(FinalC1-Internal_C_to_remove)\n",
    "    Err_H_C = (abs(H_C_mod - H_C) / H_C) * 100\n",
    "    return Err_H_C\n",
    "\n",
    "# Iterate over possible values of i and find the minimum error for H/C ratio\n",
    "min_error = np.inf\n",
    "best_i = None\n",
    "for i in range(6000):  # Adjust the range as needed based on how many carbons you have in the simulation\n",
    "    error = calculate_Err_H_C(i)\n",
    "    if error < min_error:\n",
    "        min_error = error\n",
    "        best_i = i\n",
    "\n",
    "print(\"Best i value:\", best_i)\n",
    "print(\"Minimum Err_H_C:\", round(min_error,3))"
   ]
  },
  {
   "cell_type": "markdown",
   "id": "afe76825",
   "metadata": {},
   "source": [
    "#### The number of cross-links needs to be an even number"
   ]
  },
  {
   "cell_type": "code",
   "execution_count": 91,
   "id": "244fcd50",
   "metadata": {},
   "outputs": [],
   "source": [
    "def round_to_lowest_even(number):\n",
    "    divided_number = number / 2\n",
    "    rounded_number = math.floor(divided_number)\n",
    "    lowest_even_number = rounded_number * 2\n",
    "    return lowest_even_number"
   ]
  },
  {
   "cell_type": "code",
   "execution_count": 92,
   "id": "31208f6c",
   "metadata": {},
   "outputs": [
    {
     "name": "stdout",
     "output_type": "stream",
     "text": [
      "Hydrogen to be removed: 66\n",
      "Cross-links needed: 32\n"
     ]
    }
   ],
   "source": [
    "Hydrogen_to_remove=round_to_lowest_even(FinalH-best_i)\n",
    "print(\"Hydrogen to be removed:\",Hydrogen_to_remove)\n",
    "crosslinks=round_to_lowest_even(Hydrogen_to_remove/2)\n",
    "print(\"Cross-links needed:\",crosslinks)\n",
    "newhydro=FinalH-Hydrogen_to_remove\n",
    "newMW=(FinalC1-Internal_C_to_remove)* 12.011 + newhydro * 1.00784 + FinalN* 14.0067 + FinalO * 15.999"
   ]
  },
  {
   "cell_type": "code",
   "execution_count": 93,
   "id": "da693654-66a5-457f-92f5-5ef70e70cd53",
   "metadata": {},
   "outputs": [
    {
     "name": "stdout",
     "output_type": "stream",
     "text": [
      "Cross-links needed: 32\n"
     ]
    }
   ],
   "source": [
    "object_list = cmd.get_object_list()\n",
    "num_objects = len(object_list)\n",
    "if crosslinks >= (num_objects*0.75):\n",
    "    crosslinks=round_to_lowest_even(crosslinks*0.65)\n",
    "elif crosslinks <=0 or crosslinks < 20:\n",
    "    crosslinks=round_to_lowest_even(FinalH*0.01)\n",
    "else:\n",
    "    crosslinks=crosslinks\n",
    "print(\"Cross-links needed:\",crosslinks)\n",
    "newhydro=FinalH-crosslinks*2"
   ]
  },
  {
   "cell_type": "code",
   "execution_count": 94,
   "id": "1e8f1f6a",
   "metadata": {},
   "outputs": [
    {
     "name": "stdout",
     "output_type": "stream",
     "text": [
      "H/C ratio: 0.512\n",
      "Bridgehead Carbon: 0.488\n"
     ]
    }
   ],
   "source": [
    "HydrogenMoles = (newhydro * 1.00784) / newMW\n",
    "CarbonMoles = ((FinalC1-Internal_C_to_remove) * 12.011) / newMW\n",
    "H_C_mod = (HydrogenMoles * 12.011) / (CarbonMoles * 1.00784)\n",
    "print(\"H/C ratio:\",round(H_C_mod,3))\n",
    "Bridgehead_mod =1- (HydrogenMoles * 12.011) / (CarbonMoles * 1.00784)\n",
    "print(\"Bridgehead Carbon:\",round(Bridgehead_mod,3))"
   ]
  },
  {
   "cell_type": "markdown",
   "id": "4e627100",
   "metadata": {},
   "source": [
    "### This step is divide 6 times to create a diverse distribution"
   ]
  },
  {
   "cell_type": "code",
   "execution_count": 95,
   "id": "a86f96c3",
   "metadata": {},
   "outputs": [],
   "source": [
    "object_masses= builder.Get_Object_Masses()\n",
    "object_names_new = list(object_masses.keys())\n",
    "while not object_names_new:\n",
    "    object_masses = builder.Get_Object_Masses()\n",
    "    object_names_new = list(object_masses.keys())"
   ]
  },
  {
   "cell_type": "markdown",
   "id": "26b64fc6",
   "metadata": {},
   "source": [
    "### Step one: 25% of the total cross-links"
   ]
  },
  {
   "cell_type": "code",
   "execution_count": 96,
   "id": "04940b1e-5a51-4e46-9dec-4fa61f604645",
   "metadata": {},
   "outputs": [
    {
     "name": "stdout",
     "output_type": "stream",
     "text": [
      "16\n"
     ]
    }
   ],
   "source": [
    "excluded_prefixes = [\"defect\"]\n",
    "filtered_object_names = [name for name in object_names_new if not any(name.startswith(prefix) for prefix in excluded_prefixes)]\n",
    "molecules_to_edit = random.sample(filtered_object_names, round_to_lowest_even(crosslinks/2))\n",
    "\n",
    "selected_objects = []\n",
    "\n",
    "# Loop over each selected molecule\n",
    "for mol_to_edit in molecules_to_edit:\n",
    "    while True:\n",
    "        # Get available carbon types\n",
    "        h_types = builder.examine_h(mol_to_edit)\n",
    "\n",
    "        if len(h_types['Aliphatic_C_inRing']) >1 and mol_to_edit not in selected_objects:\n",
    "            selected_objects.append(mol_to_edit)  # Condition met, append to selected_objects\n",
    "            break  # Condition met, proceed to modify the molecule\n",
    "        else:\n",
    "            # Select a new molecule from molecules_to_edit\n",
    "            mol_to_edit = random.choice(filtered_object_names)\n",
    "\n",
    "print(len(selected_objects))"
   ]
  },
  {
   "cell_type": "code",
   "execution_count": 97,
   "id": "0837f0f9",
   "metadata": {},
   "outputs": [
    {
     "name": "stdout",
     "output_type": "stream",
     "text": [
      "There are no repeated elements in the list.\n"
     ]
    }
   ],
   "source": [
    "# Check for repeated elements\n",
    "has_duplicates = len(selected_objects) != len(set(selected_objects))\n",
    "\n",
    "if has_duplicates:\n",
    "    print(\"There are repeated elements in the list.\")\n",
    "else:\n",
    "    print(\"There are no repeated elements in the list.\")"
   ]
  },
  {
   "cell_type": "code",
   "execution_count": 98,
   "id": "75dd8462",
   "metadata": {},
   "outputs": [],
   "source": [
    "modified_cross = [None] * round_to_lowest_even(crosslinks/4)\n",
    "mol_to_edit = [None] * round_to_lowest_even(crosslinks/2)\n",
    "h_types = [None] * round_to_lowest_even(crosslinks/2)\n",
    "h_choice = [None] *round_to_lowest_even(crosslinks/2)\n",
    "\n",
    "for i in range(0,  round_to_lowest_even(crosslinks/4)):\n",
    "    mol_to_edit[i]= selected_objects[i]\n",
    "    h_types[i] = builder.examine_h(mol_to_edit[i])\n",
    "    h_choice[i] = random.choice(h_types[i]['Aliphatic_C_inRing'])\n",
    "for j in range(round_to_lowest_even(crosslinks/4), round_to_lowest_even(crosslinks/2)):\n",
    "    mol_to_edit[j] = selected_objects[j]\n",
    "    h_types[j] = builder.examine_h(mol_to_edit[j])\n",
    "    h_choice[j] = random.choice(h_types[j]['Aliphatic_C_inRing'])"
   ]
  },
  {
   "cell_type": "code",
   "execution_count": 99,
   "id": "475042c0",
   "metadata": {},
   "outputs": [],
   "source": [
    "for k in range(0, round_to_lowest_even(crosslinks/4)):\n",
    "    modified_cross[k]= builder.Crosslink_mols1(mol_to_edit[k], h_choice[k], mol_to_edit[k+round_to_lowest_even(crosslinks/4)], h_choice[k+round_to_lowest_even(crosslinks/4)])"
   ]
  },
  {
   "cell_type": "code",
   "execution_count": 100,
   "id": "6cbb57e1",
   "metadata": {},
   "outputs": [
    {
     "name": "stdout",
     "output_type": "stream",
     "text": [
      "Element C: 7252\n",
      "Element H: 3745\n",
      "Element N: 9\n",
      "Element O: 984\n",
      "Element S: 0\n",
      "Element Cl: 0\n",
      "Element Si: 0\n"
     ]
    }
   ],
   "source": [
    "# Count the number of atoms for each element\n",
    "atom_counts = {}\n",
    "elements = [\"C\", \"H\", \"N\", \"O\", \"S\", \"Cl\", \"Si\"]\n",
    "\n",
    "for element in elements:\n",
    "    count = cmd.select(f\"elem {element}\")\n",
    "    atom_counts[element] = count\n",
    "FinalN= atom_counts[\"N\"]\n",
    "FinalC_1= atom_counts[\"C\"]\n",
    "FinalO= atom_counts[\"O\"]\n",
    "FinalH= atom_counts[\"H\"]\n",
    "# Print the atom counts\n",
    "for element, count in atom_counts.items():\n",
    "    print(f\"Element {element}: {count}\")"
   ]
  },
  {
   "cell_type": "markdown",
   "id": "c51ef5d7",
   "metadata": {},
   "source": [
    "#### Check this value: Should be zero\n"
   ]
  },
  {
   "cell_type": "code",
   "execution_count": 101,
   "id": "848884ec",
   "metadata": {},
   "outputs": [
    {
     "name": "stdout",
     "output_type": "stream",
     "text": [
      "0\n"
     ]
    }
   ],
   "source": [
    "Totalc=FinalC_1-FinalC1\n",
    "print(Totalc)"
   ]
  },
  {
   "cell_type": "markdown",
   "id": "a7d156b5-3880-44f4-88c0-26ed92cf8d53",
   "metadata": {},
   "source": [
    "### Step two: + 25% of the total cross-links"
   ]
  },
  {
   "cell_type": "code",
   "execution_count": 102,
   "id": "e6b9d803-b985-416b-bd59-48353f92839d",
   "metadata": {},
   "outputs": [],
   "source": [
    "object_masses= builder.Get_Object_Masses()\n",
    "object_names_new = list(object_masses.keys())\n",
    "while not object_names_new:\n",
    "    object_masses = builder.Get_Object_Masses()\n",
    "    object_names_new = list(object_masses.keys())"
   ]
  },
  {
   "cell_type": "code",
   "execution_count": 103,
   "id": "aee42f80-d856-4fe1-b5ca-dee0aa919584",
   "metadata": {},
   "outputs": [
    {
     "name": "stdout",
     "output_type": "stream",
     "text": [
      "16\n"
     ]
    }
   ],
   "source": [
    "excluded_prefixes = [\"defect\"]\n",
    "filtered_object_names = [name for name in object_names_new if not any(name.startswith(prefix) for prefix in excluded_prefixes)]\n",
    "molecules_to_edit = random.sample(filtered_object_names, round_to_lowest_even(crosslinks/2))\n",
    "\n",
    "selected_objects = []\n",
    "\n",
    "# Loop over each selected molecule\n",
    "for mol_to_edit in molecules_to_edit:\n",
    "    while True:\n",
    "        # Get available carbon types\n",
    "        h_types = builder.examine_h(mol_to_edit)\n",
    "\n",
    "        if len(h_types['Aliphatic_C_inRing']) >1 and mol_to_edit not in selected_objects:\n",
    "            selected_objects.append(mol_to_edit)  # Condition met, append to selected_objects\n",
    "            break  # Condition met, proceed to modify the molecule\n",
    "        else:\n",
    "            # Select a new molecule from molecules_to_edit\n",
    "            mol_to_edit = random.choice(filtered_object_names)\n",
    "\n",
    "print(len(selected_objects))"
   ]
  },
  {
   "cell_type": "code",
   "execution_count": 104,
   "id": "0a2b994c-739e-431a-ab70-d1039006651d",
   "metadata": {},
   "outputs": [
    {
     "name": "stdout",
     "output_type": "stream",
     "text": [
      "There are no repeated elements in the list.\n"
     ]
    }
   ],
   "source": [
    "# Check for repeated elements\n",
    "has_duplicates = len(selected_objects) != len(set(selected_objects))\n",
    "\n",
    "if has_duplicates:\n",
    "    print(\"There are repeated elements in the list.\")\n",
    "else:\n",
    "    print(\"There are no repeated elements in the list.\")"
   ]
  },
  {
   "cell_type": "code",
   "execution_count": 105,
   "id": "145cfac4-ef7e-4517-ac2e-e3ca681685dd",
   "metadata": {},
   "outputs": [],
   "source": [
    "modified_cross = [None] * round_to_lowest_even(crosslinks/4)\n",
    "mol_to_edit = [None] * round_to_lowest_even(crosslinks/2)\n",
    "h_types = [None] * round_to_lowest_even(crosslinks/2)\n",
    "h_choice = [None] *round_to_lowest_even(crosslinks/2)\n",
    "\n",
    "for i in range(0,  round_to_lowest_even(crosslinks/4)):\n",
    "    mol_to_edit[i]= selected_objects[i]\n",
    "    h_types[i] = builder.examine_h(mol_to_edit[i])\n",
    "    h_choice[i] = random.choice(h_types[i]['Aliphatic_C_inRing'])\n",
    "for j in range(round_to_lowest_even(crosslinks/4), round_to_lowest_even(crosslinks/2)):\n",
    "    mol_to_edit[j] = selected_objects[j]\n",
    "    h_types[j] = builder.examine_h(mol_to_edit[j])\n",
    "    h_choice[j] = random.choice(h_types[j]['Aliphatic_C_inRing'])"
   ]
  },
  {
   "cell_type": "code",
   "execution_count": 106,
   "id": "0f4da429-8b3e-4e2f-a018-513c5dd0fd5b",
   "metadata": {},
   "outputs": [],
   "source": [
    "for k in range(0, round_to_lowest_even(crosslinks/4)):\n",
    "    modified_cross[k]= builder.Crosslink_mols2(mol_to_edit[k], h_choice[k], mol_to_edit[k+round_to_lowest_even(crosslinks/4)], h_choice[k+round_to_lowest_even(crosslinks/4)])"
   ]
  },
  {
   "cell_type": "code",
   "execution_count": 107,
   "id": "b5f8cd58-6682-417f-850c-365e89c2d9a4",
   "metadata": {},
   "outputs": [
    {
     "name": "stdout",
     "output_type": "stream",
     "text": [
      "Element C: 7252\n",
      "Element H: 3729\n",
      "Element N: 9\n",
      "Element O: 984\n",
      "Element S: 0\n",
      "Element Cl: 0\n",
      "Element Si: 0\n"
     ]
    }
   ],
   "source": [
    "# Count the number of atoms for each element\n",
    "atom_counts = {}\n",
    "elements = [\"C\", \"H\", \"N\", \"O\", \"S\", \"Cl\", \"Si\"]\n",
    "\n",
    "for element in elements:\n",
    "    count = cmd.select(f\"elem {element}\")\n",
    "    atom_counts[element] = count\n",
    "FinalN= atom_counts[\"N\"]\n",
    "FinalC2= atom_counts[\"C\"]\n",
    "FinalO= atom_counts[\"O\"]\n",
    "FinalH= atom_counts[\"H\"]\n",
    "# Print the atom counts\n",
    "for element, count in atom_counts.items():\n",
    "    print(f\"Element {element}: {count}\")"
   ]
  },
  {
   "cell_type": "markdown",
   "id": "2d4a5cf9-da6b-4537-9fe4-dfb3d7f82af2",
   "metadata": {},
   "source": [
    "#### Check this value: Should be zero"
   ]
  },
  {
   "cell_type": "code",
   "execution_count": 108,
   "id": "08732c0d-ac0f-4d71-8833-70c714d5e8a4",
   "metadata": {},
   "outputs": [
    {
     "name": "stdout",
     "output_type": "stream",
     "text": [
      "0\n"
     ]
    }
   ],
   "source": [
    "Totalc=FinalC2-FinalC1\n",
    "print(Totalc)"
   ]
  },
  {
   "cell_type": "markdown",
   "id": "45967e49",
   "metadata": {},
   "source": [
    "### Step three: + 12.5% of the total cross-links"
   ]
  },
  {
   "cell_type": "code",
   "execution_count": 109,
   "id": "4c70ff1f",
   "metadata": {},
   "outputs": [],
   "source": [
    "object_masses= builder.Get_Object_Masses()\n",
    "object_names_new = list(object_masses.keys())\n",
    "while not object_names_new:\n",
    "    object_masses = builder.Get_Object_Masses()\n",
    "    object_names_new = list(object_masses.keys())"
   ]
  },
  {
   "cell_type": "code",
   "execution_count": 110,
   "id": "6aa7b2c9",
   "metadata": {},
   "outputs": [
    {
     "name": "stdout",
     "output_type": "stream",
     "text": [
      "8\n"
     ]
    }
   ],
   "source": [
    "object_names_new = list(object_masses.keys())\n",
    "excluded_prefixes = [\"defect\",\"combined\"]\n",
    "filtered_object_names = [name for name in object_names_new if not any(name.startswith(prefix) for prefix in excluded_prefixes)]\n",
    "molecules_to_edit = random.sample(filtered_object_names,round_to_lowest_even(crosslinks/4))\n",
    "\n",
    "selected_objects = []\n",
    "\n",
    "# Loop over each selected molecule\n",
    "for mol_to_edit in molecules_to_edit:\n",
    "    while True:\n",
    "        # Get available carbon types\n",
    "        h_types = builder.examine_h(mol_to_edit)\n",
    "\n",
    "        if len(h_types['Aliphatic_C_inRing']) >2 and mol_to_edit not in selected_objects:\n",
    "            selected_objects.append(mol_to_edit)  # Condition met, append to selected_objects\n",
    "            break  # Condition met, proceed to modify the molecule\n",
    "        else:\n",
    "            # Select a new molecule from molecules_to_edit\n",
    "            mol_to_edit = random.choice(filtered_object_names)\n",
    "\n",
    "print(len(selected_objects))"
   ]
  },
  {
   "cell_type": "code",
   "execution_count": 111,
   "id": "ec24163f",
   "metadata": {},
   "outputs": [
    {
     "name": "stdout",
     "output_type": "stream",
     "text": [
      "There are no repeated elements in the list.\n"
     ]
    }
   ],
   "source": [
    "# Check for repeated elements\n",
    "has_duplicates = len(selected_objects) != len(set(selected_objects))\n",
    "\n",
    "if has_duplicates:\n",
    "    print(\"There are repeated elements in the list.\")\n",
    "else:\n",
    "    print(\"There are no repeated elements in the list.\")"
   ]
  },
  {
   "cell_type": "code",
   "execution_count": 112,
   "id": "6458a59b",
   "metadata": {},
   "outputs": [],
   "source": [
    "mol_to_edit = [None] * round_to_lowest_even(crosslinks/4)\n",
    "h_types = [None] * round_to_lowest_even(crosslinks/4)\n",
    "h_choice = [None] *round_to_lowest_even(crosslinks/4)\n",
    "for i in range(0, round_to_lowest_even(crosslinks/8)):\n",
    "    mol_to_edit[i]= selected_objects[i]\n",
    "    h_types[i] = builder.examine_h(mol_to_edit[i])\n",
    "    h_choice[i] = random.choice(h_types[i]['Aliphatic_C_inRing'])\n",
    "for j in range(round_to_lowest_even(crosslinks/8), round_to_lowest_even(crosslinks/4)):\n",
    "    mol_to_edit[j] = selected_objects[j]\n",
    "    h_types[j] = builder.examine_h(mol_to_edit[j])\n",
    "    h_choice[j] = random.choice(h_types[j]['Aliphatic_C_inRing'])"
   ]
  },
  {
   "cell_type": "code",
   "execution_count": 113,
   "id": "b80ab926",
   "metadata": {},
   "outputs": [],
   "source": [
    "for k in range(0, round_to_lowest_even(crosslinks/8)):\n",
    "    modified_cross[k]= builder.Crosslink_mols3(mol_to_edit[k], h_choice[k], mol_to_edit[k+round_to_lowest_even(crosslinks/8)], h_choice[k+round_to_lowest_even(crosslinks/8)])"
   ]
  },
  {
   "cell_type": "code",
   "execution_count": 114,
   "id": "8bb552e8",
   "metadata": {},
   "outputs": [
    {
     "name": "stdout",
     "output_type": "stream",
     "text": [
      "Element C: 7252\n",
      "Element H: 3721\n",
      "Element N: 9\n",
      "Element O: 984\n",
      "Element S: 0\n",
      "Element Cl: 0\n",
      "Element Si: 0\n"
     ]
    }
   ],
   "source": [
    "atom_counts = {}\n",
    "elements = [\"C\", \"H\", \"N\", \"O\", \"S\", \"Cl\", \"Si\"]\n",
    "\n",
    "for element in elements:\n",
    "    count = cmd.select(f\"elem {element}\")\n",
    "    atom_counts[element] = count\n",
    "FinalN= atom_counts[\"N\"]\n",
    "FinalC3= atom_counts[\"C\"]\n",
    "FinalO= atom_counts[\"O\"]\n",
    "FinalH= atom_counts[\"H\"]\n",
    "\n",
    "for element, count in atom_counts.items():\n",
    "    print(f\"Element {element}: {count}\")"
   ]
  },
  {
   "cell_type": "markdown",
   "id": "72793a4c",
   "metadata": {},
   "source": [
    "#### Check this value: Should be zero"
   ]
  },
  {
   "cell_type": "code",
   "execution_count": 115,
   "id": "bb89f5c3",
   "metadata": {},
   "outputs": [
    {
     "name": "stdout",
     "output_type": "stream",
     "text": [
      "0\n"
     ]
    }
   ],
   "source": [
    "Totalc2=FinalC3-FinalC1\n",
    "print(Totalc2)"
   ]
  },
  {
   "cell_type": "markdown",
   "id": "8117f8be",
   "metadata": {},
   "source": [
    "### Step four: + 12.5% of the total cross-links"
   ]
  },
  {
   "cell_type": "code",
   "execution_count": 116,
   "id": "db96953c",
   "metadata": {},
   "outputs": [],
   "source": [
    "object_masses= builder.Get_Object_Masses()\n",
    "object_names_new = list(object_masses.keys())\n",
    "while not object_names_new:\n",
    "    object_masses = builder.Get_Object_Masses()\n",
    "    object_names_new = list(object_masses.keys())"
   ]
  },
  {
   "cell_type": "code",
   "execution_count": 117,
   "id": "f9ff4e4e",
   "metadata": {},
   "outputs": [
    {
     "name": "stdout",
     "output_type": "stream",
     "text": [
      "100\n"
     ]
    }
   ],
   "source": [
    "print(len(list(object_masses.keys())))"
   ]
  },
  {
   "cell_type": "code",
   "execution_count": 118,
   "id": "1057cddb",
   "metadata": {},
   "outputs": [
    {
     "name": "stdout",
     "output_type": "stream",
     "text": [
      "8\n"
     ]
    }
   ],
   "source": [
    "object_names_new = list(object_masses.keys())\n",
    "molecules_to_edit = random.sample(object_names_new,round_to_lowest_even(crosslinks/4))\n",
    "\n",
    "selected_objects = []\n",
    "\n",
    "# Loop over each selected molecule\n",
    "for mol_to_edit in molecules_to_edit:\n",
    "    while True:\n",
    "        # Get available carbon types\n",
    "        h_types = builder.examine_h(mol_to_edit)\n",
    "\n",
    "        if len(h_types['Aliphatic_C_inRing']) > 2 and mol_to_edit not in selected_objects:\n",
    "            selected_objects.append(mol_to_edit)  # Condition met, append to selected_objects\n",
    "            break  # Condition met, proceed to modify the molecule\n",
    "        else:\n",
    "            # Select a new molecule from molecules_to_edit\n",
    "            mol_to_edit = random.choice(filtered_object_names)\n",
    "\n",
    "print(len(selected_objects))"
   ]
  },
  {
   "cell_type": "code",
   "execution_count": 119,
   "id": "0facf90e",
   "metadata": {},
   "outputs": [
    {
     "name": "stdout",
     "output_type": "stream",
     "text": [
      "There are no repeated elements in the list.\n"
     ]
    }
   ],
   "source": [
    "# Check for repeated elements\n",
    "has_duplicates = len(selected_objects) != len(set(selected_objects))\n",
    "\n",
    "if has_duplicates:\n",
    "    print(\"There are repeated elements in the list.\")\n",
    "else:\n",
    "    print(\"There are no repeated elements in the list.\")"
   ]
  },
  {
   "cell_type": "code",
   "execution_count": 120,
   "id": "012acdb1",
   "metadata": {},
   "outputs": [],
   "source": [
    "mol_to_edit = [None] * round_to_lowest_even(crosslinks/4)\n",
    "h_types = [None] * round_to_lowest_even(crosslinks/4)\n",
    "h_choice = [None] *round_to_lowest_even(crosslinks/4)\n",
    "for i in range(0, round_to_lowest_even(crosslinks/8)):\n",
    "    mol_to_edit[i]= selected_objects[i]\n",
    "    h_types[i] = builder.examine_h(mol_to_edit[i])\n",
    "    h_choice[i] = random.choice(h_types[i]['Aliphatic_C_inRing'])\n",
    "for j in range(round_to_lowest_even(crosslinks/8), round_to_lowest_even(crosslinks/4)):\n",
    "    mol_to_edit[j] = selected_objects[j]\n",
    "    h_types[j] = builder.examine_h(mol_to_edit[j])\n",
    "    h_choice[j] = random.choice(h_types[j]['Aliphatic_C_inRing'])"
   ]
  },
  {
   "cell_type": "code",
   "execution_count": 121,
   "id": "49eca918",
   "metadata": {},
   "outputs": [],
   "source": [
    "for k in range(0, round_to_lowest_even(crosslinks/8)):\n",
    "    modified_cross[k]= builder.Crosslink_mols4(mol_to_edit[k], h_choice[k], mol_to_edit[k+round_to_lowest_even(crosslinks/8)], h_choice[k+round_to_lowest_even(crosslinks/8)])"
   ]
  },
  {
   "cell_type": "code",
   "execution_count": 122,
   "id": "a189fe34",
   "metadata": {},
   "outputs": [
    {
     "name": "stdout",
     "output_type": "stream",
     "text": [
      "Element C: 7252\n",
      "Element H: 3713\n",
      "Element N: 9\n",
      "Element O: 984\n",
      "Element S: 0\n",
      "Element Cl: 0\n",
      "Element Si: 0\n"
     ]
    }
   ],
   "source": [
    "# Count the number of atoms for each element\n",
    "atom_counts = {}\n",
    "elements = [\"C\", \"H\", \"N\", \"O\", \"S\", \"Cl\", \"Si\"]\n",
    "\n",
    "for element in elements:\n",
    "    count = cmd.select(f\"elem {element}\")\n",
    "    atom_counts[element] = count\n",
    "FinalN= atom_counts[\"N\"]\n",
    "FinalC4= atom_counts[\"C\"]\n",
    "FinalO= atom_counts[\"O\"]\n",
    "FinalH= atom_counts[\"H\"]\n",
    "# Print the atom counts\n",
    "for element, count in atom_counts.items():\n",
    "    print(f\"Element {element}: {count}\")"
   ]
  },
  {
   "cell_type": "markdown",
   "id": "56ce8abc",
   "metadata": {},
   "source": [
    "#### Check this value: Should be zero"
   ]
  },
  {
   "cell_type": "code",
   "execution_count": 123,
   "id": "8a32a5db",
   "metadata": {},
   "outputs": [
    {
     "name": "stdout",
     "output_type": "stream",
     "text": [
      "0\n"
     ]
    }
   ],
   "source": [
    "Totalc3=FinalC4-FinalC1\n",
    "print(Totalc3)"
   ]
  },
  {
   "cell_type": "markdown",
   "id": "24a4b153",
   "metadata": {},
   "source": [
    "### Step five: + 12.5% of the total cross-links"
   ]
  },
  {
   "cell_type": "code",
   "execution_count": 124,
   "id": "67b5e551",
   "metadata": {},
   "outputs": [],
   "source": [
    "object_masses= builder.Get_Object_Masses()\n",
    "object_names_new = list(object_masses.keys())\n",
    "while not object_names_new:\n",
    "    object_masses = builder.Get_Object_Masses()\n",
    "    object_names_new = list(object_masses.keys())"
   ]
  },
  {
   "cell_type": "code",
   "execution_count": 125,
   "id": "5b69321c",
   "metadata": {},
   "outputs": [
    {
     "name": "stdout",
     "output_type": "stream",
     "text": [
      "96\n"
     ]
    }
   ],
   "source": [
    "print(len(list(object_masses.keys())))"
   ]
  },
  {
   "cell_type": "code",
   "execution_count": 126,
   "id": "b4342222",
   "metadata": {},
   "outputs": [
    {
     "name": "stdout",
     "output_type": "stream",
     "text": [
      "8\n"
     ]
    }
   ],
   "source": [
    "object_names_new = list(object_masses.keys())\n",
    "molecules_to_edit = random.sample(object_names_new,round_to_lowest_even(crosslinks/4))\n",
    "\n",
    "selected_objects = []\n",
    "\n",
    "# Loop over each selected molecule\n",
    "for mol_to_edit in molecules_to_edit:\n",
    "    while True:\n",
    "        # Get available carbon types\n",
    "        h_types = builder.examine_h(mol_to_edit)\n",
    "\n",
    "        if len(h_types['Aliphatic_C_inRing']) > 2 and mol_to_edit not in selected_objects:\n",
    "            selected_objects.append(mol_to_edit)  # Condition met, append to selected_objects\n",
    "            break  # Condition met, proceed to modify the molecule\n",
    "        else:\n",
    "            # Select a new molecule from molecules_to_edit\n",
    "            mol_to_edit = random.choice(filtered_object_names)\n",
    "\n",
    "print(len(selected_objects))"
   ]
  },
  {
   "cell_type": "code",
   "execution_count": 127,
   "id": "e042b886",
   "metadata": {},
   "outputs": [
    {
     "name": "stdout",
     "output_type": "stream",
     "text": [
      "There are no repeated elements in the list.\n"
     ]
    }
   ],
   "source": [
    "# Check for repeated elements\n",
    "has_duplicates = len(selected_objects) != len(set(selected_objects))\n",
    "\n",
    "if has_duplicates:\n",
    "    print(\"There are repeated elements in the list.\")\n",
    "else:\n",
    "    print(\"There are no repeated elements in the list.\")"
   ]
  },
  {
   "cell_type": "code",
   "execution_count": 128,
   "id": "26465201",
   "metadata": {},
   "outputs": [],
   "source": [
    "mol_to_edit = [None] * round_to_lowest_even(crosslinks/4)\n",
    "h_types = [None] * round_to_lowest_even(crosslinks/4)\n",
    "h_choice = [None] *round_to_lowest_even(crosslinks/4)\n",
    "for i in range(0, round_to_lowest_even(crosslinks/8)):\n",
    "    mol_to_edit[i]= selected_objects[i]\n",
    "    h_types[i] = builder.examine_h(mol_to_edit[i])\n",
    "    h_choice[i] = random.choice(h_types[i]['Aliphatic_C_inRing'])\n",
    "for j in range(round_to_lowest_even(crosslinks/8), round_to_lowest_even(crosslinks/4)):\n",
    "    mol_to_edit[j] = selected_objects[j]\n",
    "    h_types[j] = builder.examine_h(mol_to_edit[j])\n",
    "    h_choice[j] = random.choice(h_types[j]['Aliphatic_C_inRing'])"
   ]
  },
  {
   "cell_type": "code",
   "execution_count": 129,
   "id": "1d8ec55c",
   "metadata": {},
   "outputs": [],
   "source": [
    "for k in range(0, round_to_lowest_even(crosslinks/8)):\n",
    "    modified_cross[k]= builder.Crosslink_mols5(mol_to_edit[k], h_choice[k], mol_to_edit[k+round_to_lowest_even(crosslinks/8)], h_choice[k+round_to_lowest_even(crosslinks/8)])"
   ]
  },
  {
   "cell_type": "code",
   "execution_count": 130,
   "id": "0904ef5e-bbab-43dc-a329-fc7886311ea6",
   "metadata": {},
   "outputs": [
    {
     "name": "stdout",
     "output_type": "stream",
     "text": [
      "Element C: 7252\n",
      "Element H: 3705\n",
      "Element N: 9\n",
      "Element O: 984\n",
      "Element S: 0\n",
      "Element Cl: 0\n",
      "Element Si: 0\n"
     ]
    }
   ],
   "source": [
    "# Count the number of atoms for each element\n",
    "atom_counts = {}\n",
    "elements = [\"C\", \"H\", \"N\", \"O\", \"S\", \"Cl\", \"Si\"]\n",
    "\n",
    "for element in elements:\n",
    "    count = cmd.select(f\"elem {element}\")\n",
    "    atom_counts[element] = count\n",
    "FinalN= atom_counts[\"N\"]\n",
    "FinalC5= atom_counts[\"C\"]\n",
    "FinalO= atom_counts[\"O\"]\n",
    "FinalH= atom_counts[\"H\"]\n",
    "# Print the atom counts\n",
    "for element, count in atom_counts.items():\n",
    "    print(f\"Element {element}: {count}\")"
   ]
  },
  {
   "cell_type": "markdown",
   "id": "64bd4d22-f811-4343-b862-650343ec2fa1",
   "metadata": {},
   "source": [
    "#### Check this value: Should be zero"
   ]
  },
  {
   "cell_type": "code",
   "execution_count": 131,
   "id": "f3f0330b-fb20-4248-b213-6cc9277eadd3",
   "metadata": {},
   "outputs": [
    {
     "name": "stdout",
     "output_type": "stream",
     "text": [
      "0\n"
     ]
    }
   ],
   "source": [
    "Totalc4=FinalC5-FinalC1\n",
    "print(Totalc4)"
   ]
  },
  {
   "cell_type": "markdown",
   "id": "a724c13d-a174-47ed-b609-8c296d8282d9",
   "metadata": {},
   "source": [
    "### Step six: final 12.5% of the total cross-links"
   ]
  },
  {
   "cell_type": "code",
   "execution_count": 132,
   "id": "9e888f61-8711-4b23-8256-c2bea2eae844",
   "metadata": {},
   "outputs": [],
   "source": [
    "object_masses= builder.Get_Object_Masses()\n",
    "object_names_new = list(object_masses.keys())\n",
    "while not object_names_new:\n",
    "    object_masses = builder.Get_Object_Masses()\n",
    "    object_names_new = list(object_masses.keys())"
   ]
  },
  {
   "cell_type": "code",
   "execution_count": 133,
   "id": "fdb770d9-fc18-4ba0-b6c9-277702d16075",
   "metadata": {},
   "outputs": [
    {
     "name": "stdout",
     "output_type": "stream",
     "text": [
      "92\n"
     ]
    }
   ],
   "source": [
    "print(len(list(object_masses.keys())))"
   ]
  },
  {
   "cell_type": "code",
   "execution_count": 134,
   "id": "246d9ed6-f473-4a4b-a9f7-25eb664cba74",
   "metadata": {},
   "outputs": [
    {
     "name": "stdout",
     "output_type": "stream",
     "text": [
      "8\n"
     ]
    }
   ],
   "source": [
    "object_names_new = list(object_masses.keys())\n",
    "molecules_to_edit = random.sample(object_names_new,round_to_lowest_even(crosslinks/4))\n",
    "\n",
    "selected_objects = []\n",
    "\n",
    "# Loop over each selected molecule\n",
    "for mol_to_edit in molecules_to_edit:\n",
    "    while True:\n",
    "        # Get available carbon types\n",
    "        h_types = builder.examine_h(mol_to_edit)\n",
    "\n",
    "        if len(h_types['Aliphatic_C_inRing']) > 2 and mol_to_edit not in selected_objects:\n",
    "            selected_objects.append(mol_to_edit)  # Condition met, append to selected_objects\n",
    "            break  # Condition met, proceed to modify the molecule\n",
    "        else:\n",
    "            # Select a new molecule from molecules_to_edit\n",
    "            mol_to_edit = random.choice(filtered_object_names)\n",
    "\n",
    "print(len(selected_objects))"
   ]
  },
  {
   "cell_type": "code",
   "execution_count": 135,
   "id": "83056b47-4237-42db-a444-a49d6cf5be26",
   "metadata": {},
   "outputs": [
    {
     "name": "stdout",
     "output_type": "stream",
     "text": [
      "There are no repeated elements in the list.\n"
     ]
    }
   ],
   "source": [
    "# Check for repeated elements\n",
    "has_duplicates = len(selected_objects) != len(set(selected_objects))\n",
    "\n",
    "if has_duplicates:\n",
    "    print(\"There are repeated elements in the list.\")\n",
    "else:\n",
    "    print(\"There are no repeated elements in the list.\")"
   ]
  },
  {
   "cell_type": "code",
   "execution_count": 136,
   "id": "898cbde0-f5e8-4cc3-9b71-a6e263b98968",
   "metadata": {},
   "outputs": [],
   "source": [
    "mol_to_edit = [None] * round_to_lowest_even(crosslinks/4)\n",
    "h_types = [None] * round_to_lowest_even(crosslinks/4)\n",
    "h_choice = [None] *round_to_lowest_even(crosslinks/4)\n",
    "for i in range(0, round_to_lowest_even(crosslinks/8)):\n",
    "    mol_to_edit[i]= selected_objects[i]\n",
    "    h_types[i] = builder.examine_h(mol_to_edit[i])\n",
    "    h_choice[i] = random.choice(h_types[i]['Aliphatic_C_inRing'])\n",
    "for j in range(round_to_lowest_even(crosslinks/8), round_to_lowest_even(crosslinks/4)):\n",
    "    mol_to_edit[j] = selected_objects[j]\n",
    "    h_types[j] = builder.examine_h(mol_to_edit[j])\n",
    "    h_choice[j] = random.choice(h_types[j]['Aliphatic_C_inRing'])"
   ]
  },
  {
   "cell_type": "code",
   "execution_count": 137,
   "id": "e34f3f1a-1b45-4f53-a42b-746d2e952522",
   "metadata": {},
   "outputs": [],
   "source": [
    "for k in range(0, round_to_lowest_even(crosslinks/8)):\n",
    "    modified_cross[k]= builder.Crosslink_mols6(mol_to_edit[k], h_choice[k], mol_to_edit[k+round_to_lowest_even(crosslinks/8)], h_choice[k+round_to_lowest_even(crosslinks/8)])"
   ]
  },
  {
   "cell_type": "markdown",
   "id": "89c6adc5-aedf-4c65-aaf8-5764bb4d2835",
   "metadata": {},
   "source": [
    "### Create holes: Aromatic structures"
   ]
  },
  {
   "cell_type": "code",
   "execution_count": 138,
   "id": "2b77a0a7",
   "metadata": {},
   "outputs": [],
   "source": [
    "object_masses= builder.Get_Object_Masses()\n",
    "object_names_new = list(object_masses.keys())\n",
    "while not object_names_new:\n",
    "    object_masses = builder.Get_Object_Masses()\n",
    "    object_names_new = list(object_masses.keys())"
   ]
  },
  {
   "cell_type": "code",
   "execution_count": 139,
   "id": "0b123ead-21ef-40e2-9740-60808301bc9f",
   "metadata": {},
   "outputs": [
    {
     "name": "stdout",
     "output_type": "stream",
     "text": [
      "Element C: 7252\n",
      "Element H: 3697\n",
      "Element N: 9\n",
      "Element O: 984\n",
      "Element S: 0\n",
      "Element Cl: 0\n",
      "Element Si: 0\n"
     ]
    }
   ],
   "source": [
    "atom_counts = {}\n",
    "elements = [\"C\", \"H\", \"N\", \"O\", \"S\", \"Cl\", \"Si\"]\n",
    "\n",
    "for element in elements:\n",
    "    count = cmd.select(f\"elem {element}\")\n",
    "    atom_counts[element] = count\n",
    "Final_N= atom_counts[\"N\"]\n",
    "Final_C1= atom_counts[\"C\"]\n",
    "Final_O= atom_counts[\"O\"]\n",
    "Final_H= atom_counts[\"H\"]\n",
    "\n",
    "for element, count in atom_counts.items():\n",
    "    print(f\"Element {element}: {count}\")"
   ]
  },
  {
   "cell_type": "code",
   "execution_count": 140,
   "id": "9294d6d3-6b02-400f-8a52-3942480fce89",
   "metadata": {},
   "outputs": [],
   "source": [
    "modified_hole = []\n",
    "num_molecules = Internal_C_to_remove\n",
    "\n",
    "excluded_prefixes = [\"defect\",\"fluorine\",\"phenalene\", \"phenanthrene\",\"anthracene\",\"tetracene\",\"pentacene\",\"pyrene\",\"chrysene\",\"benzo_a_fluorene\",\"benzo_b_fluoranthene\",\"benzo_b_fluorene\",\"coronene\",\"benzo_a_pyrene\",\"benzo_g_h_i_perylene\",\"m\",\"N\"]\n",
    "filtered_object_names = [name for name in object_names_new if not any(name.startswith(prefix) for prefix in excluded_prefixes)]\n",
    "\n",
    "if num_molecules > len(filtered_object_names):\n",
    "    molecules_to_edit = random.choices(filtered_object_names, k=num_molecules)\n",
    "else:\n",
    "    molecules_to_edit = random.sample(filtered_object_names, num_molecules)\n",
    "\n",
    "for mol_to_edit in molecules_to_edit:\n",
    "    \n",
    "    c_types = builder.examine_main(mol_to_edit)\n",
    "    cmd.select(\"C-C-C\", f\"({mol_to_edit} and elem C and not neighbor (elem H) and not neighbor (elem O) and not neighbor ((elem C) and neighbor (elem H)))\")\n",
    "    \n",
    "    # Get the selection of atoms\n",
    "    selection_dict = cmd.get_model(\"C-C-C\")\n",
    "    c_3n_choices = [atom[\"index\"] for atom in selection_dict[\"atom\"] if atom[\"name\"].startswith(\"C\")]\n",
    "    \n",
    "    while True:\n",
    "        value_c = random.choice(c_types['C_3n'])\n",
    "        if value_c in c_3n_choices:\n",
    "            break\n",
    "   \n",
    "    # Remove the internal carbon atom to create a hole in the structure\n",
    "    object_hole = cmd.remove(f'{mol_to_edit} and index {value_c}')\n",
    "    modified_hole.append(object_hole)"
   ]
  },
  {
   "cell_type": "code",
   "execution_count": 174,
   "id": "0fbe23ef-9e94-44f8-95a0-2542dffca6ff",
   "metadata": {},
   "outputs": [
    {
     "name": "stdout",
     "output_type": "stream",
     "text": [
      "Element C: 7216\n",
      "Element H: 3700\n",
      "Element N: 9\n",
      "Element O: 984\n",
      "Element S: 0\n",
      "Element Cl: 0\n",
      "Element Si: 0\n"
     ]
    }
   ],
   "source": [
    "atom_counts = {}\n",
    "elements = [\"C\", \"H\", \"N\", \"O\", \"S\", \"Cl\", \"Si\"]\n",
    "\n",
    "for element in elements:\n",
    "    count = cmd.select(f\"elem {element}\")\n",
    "    atom_counts[element] = count\n",
    "Final_N= atom_counts[\"N\"]\n",
    "Final_C= atom_counts[\"C\"]\n",
    "Final_O= atom_counts[\"O\"]\n",
    "Final_H= atom_counts[\"H\"]\n",
    "\n",
    "for element, count in atom_counts.items():\n",
    "    print(f\"Element {element}: {count}\")"
   ]
  },
  {
   "cell_type": "markdown",
   "id": "c63186cb-09b5-498b-a5a7-874b5f5e4241",
   "metadata": {},
   "source": [
    "#### Check this value: Should be zero"
   ]
  },
  {
   "cell_type": "code",
   "execution_count": 175,
   "id": "e5b62c21-ae74-4ee6-9bdb-251e59cd2b2b",
   "metadata": {},
   "outputs": [
    {
     "name": "stdout",
     "output_type": "stream",
     "text": [
      "0\n"
     ]
    }
   ],
   "source": [
    "check_c=Final_C1-(Final_C+Internal_C_to_remove_Aro)\n",
    "print(check_c)"
   ]
  },
  {
   "cell_type": "code",
   "execution_count": 176,
   "id": "b5a4ac7c-6d16-46b2-b90e-424a1c47bc8c",
   "metadata": {},
   "outputs": [],
   "source": [
    "cmd.do(\"valence guess, all\")"
   ]
  },
  {
   "cell_type": "markdown",
   "id": "91f8701d",
   "metadata": {},
   "source": [
    "## Step 6: Check the final ultimate analysis"
   ]
  },
  {
   "cell_type": "code",
   "execution_count": 177,
   "id": "01ed3489",
   "metadata": {},
   "outputs": [],
   "source": [
    "builder.clear_label()"
   ]
  },
  {
   "cell_type": "code",
   "execution_count": 178,
   "id": "094bb842",
   "metadata": {},
   "outputs": [
    {
     "name": "stdout",
     "output_type": "stream",
     "text": [
      "MW: 106269\n"
     ]
    }
   ],
   "source": [
    "newMW2=Final_C* 12.011 + Final_H * 1.00784 + Final_N* 14.0067 + Final_O * 15.999\n",
    "print(\"MW:\",round(newMW2))"
   ]
  },
  {
   "cell_type": "markdown",
   "id": "68242467-5e41-4f3f-b3b8-4f84a998dd4e",
   "metadata": {},
   "source": [
    "### Ultimate Analysis"
   ]
  },
  {
   "cell_type": "code",
   "execution_count": 179,
   "id": "11ad761f",
   "metadata": {},
   "outputs": [
    {
     "name": "stdout",
     "output_type": "stream",
     "text": [
      "Total C: 0.8156\n",
      "Final Error: 0.182\n"
     ]
    }
   ],
   "source": [
    "# Carbon\n",
    "Elem_c=(Final_C*12.011)/newMW2\n",
    "print(\"Total C:\",round(Elem_c,4))\n",
    "Err_elemc=(abs(Elem_c-Carbon)/Carbon)*100\n",
    "print(\"Final Error:\",round(Err_elemc,3))"
   ]
  },
  {
   "cell_type": "code",
   "execution_count": 180,
   "id": "e1ef9376",
   "metadata": {},
   "outputs": [
    {
     "name": "stdout",
     "output_type": "stream",
     "text": [
      "Total N: 0.00119\n",
      "Final Error: 7.839\n"
     ]
    }
   ],
   "source": [
    "# Nitrogen\n",
    "Elem_n=(Final_N*14.0067)/newMW2\n",
    "print(\"Total N:\",round(Elem_n,5))\n",
    "Err_elemn=(abs(Elem_n-Nitrogen)/Nitrogen)*100\n",
    "print(\"Final Error:\",round(Err_elemn,3))"
   ]
  },
  {
   "cell_type": "code",
   "execution_count": 181,
   "id": "2bb6b039",
   "metadata": {},
   "outputs": [
    {
     "name": "stdout",
     "output_type": "stream",
     "text": [
      "Total O: 0.148\n",
      "Final Error: 1.107\n"
     ]
    }
   ],
   "source": [
    "# Oxygen\n",
    "Elem_o=(Final_O*15.999)/newMW2\n",
    "print(\"Total O:\",round(Elem_o,3))\n",
    "Err_elemo=(abs(Elem_o-Oxygen)/Oxygen)*100\n",
    "print(\"Final Error:\",round(Err_elemo,3))"
   ]
  },
  {
   "cell_type": "code",
   "execution_count": 182,
   "id": "b6b62039",
   "metadata": {},
   "outputs": [
    {
     "name": "stdout",
     "output_type": "stream",
     "text": [
      "Total H: 0.035\n",
      "Final Error: 0.257\n"
     ]
    }
   ],
   "source": [
    "# Hydrogen\n",
    "Elem_h=Final_H*1.00784/newMW2\n",
    "print(\"Total H:\",round(Elem_h,3))\n",
    "Err_elemh=(abs(Elem_h-Hydrogen)/Hydrogen)*100\n",
    "print(\"Final Error:\",round(Err_elemh,3))"
   ]
  },
  {
   "cell_type": "code",
   "execution_count": 183,
   "id": "f052fb03",
   "metadata": {},
   "outputs": [
    {
     "name": "stdout",
     "output_type": "stream",
     "text": [
      "H/C Ratio: 0.5127\n",
      "Error: 0.146\n"
     ]
    }
   ],
   "source": [
    "# H/C ratio\n",
    "CarbonMoles = (Final_C * 12.011) / newMW2\n",
    "HydrogenMoles = (Final_H * 1.00784) / newMW2\n",
    "H_C_mod =(HydrogenMoles * 12.011) / (CarbonMoles * 1.00784)\n",
    "print(\"H/C Ratio:\",round(H_C_mod,4))\n",
    "Err_H_C = (abs(H_C_mod - H_C) / H_C) * 100\n",
    "print(\"Error:\",round(Err_H_C,3))"
   ]
  },
  {
   "cell_type": "code",
   "execution_count": 184,
   "id": "5e3aa559",
   "metadata": {},
   "outputs": [
    {
     "name": "stdout",
     "output_type": "stream",
     "text": [
      "O/C Ratio: 0.1364\n",
      "Error: 0.464\n"
     ]
    }
   ],
   "source": [
    "# O/C ratio\n",
    "OxygenMoles = (Final_O * 15.999) / newMW2\n",
    "O_C_mod =1/((CarbonMoles * 15.999)/(OxygenMoles  * 12.011)) \n",
    "print(\"O/C Ratio:\",round(O_C_mod,4))\n",
    "Err_C_O = (abs(O_C_mod- O_C) / O_C) * 100\n",
    "print(\"Error:\",round(Err_C_O,3))"
   ]
  },
  {
   "cell_type": "code",
   "execution_count": 185,
   "id": "a493a754",
   "metadata": {},
   "outputs": [
    {
     "name": "stdout",
     "output_type": "stream",
     "text": [
      "Bridgehead Carbon: 0.487\n",
      "Error: 0.154\n"
     ]
    }
   ],
   "source": [
    "# Bridgehead carbon\n",
    "brigd =1-(HydrogenMoles * 12.011) / (CarbonMoles * 1.00784)\n",
    "print(\"Bridgehead Carbon:\",round(brigd,3))\n",
    "Err_brigd = (abs(brigd - BridgheadCarbon) / BridgheadCarbon) * 100\n",
    "print(\"Error:\",round(Err_brigd,3))"
   ]
  },
  {
   "cell_type": "code",
   "execution_count": 186,
   "id": "bbb1c49b",
   "metadata": {},
   "outputs": [],
   "source": [
    "cmd.save(\"biochar.pse\")"
   ]
  },
  {
   "cell_type": "markdown",
   "id": "7aa6c372",
   "metadata": {},
   "source": [
    "## Step 7: Check the final 13C NMR "
   ]
  },
  {
   "cell_type": "markdown",
   "id": "61c3a557-51ea-4383-876c-136f260bbbbc",
   "metadata": {},
   "source": [
    "### CNMR"
   ]
  },
  {
   "cell_type": "code",
   "execution_count": 187,
   "id": "b4bfa5b1-9933-4172-986c-ebb85f57e9d4",
   "metadata": {},
   "outputs": [
    {
     "name": "stdout",
     "output_type": "stream",
     "text": [
      "Aromatic Carbon: 0.663\n",
      "Error: 1.597\n"
     ]
    }
   ],
   "source": [
    "# Aromatic Carbon\n",
    "Err_C=(abs(((solution[aro]-Internal_C_to_remove_Aro)/Final_C)-Aromatic)/Aromatic)*100\n",
    "print(\"Aromatic Carbon:\",round(((solution[aro]-Internal_C_to_remove_Aro)/(Final_C)),3))\n",
    "print(\"Error:\",round(Err_C,3))"
   ]
  },
  {
   "cell_type": "code",
   "execution_count": 188,
   "id": "f4719fcb-3714-42d1-9fd7-d11366dbbd8d",
   "metadata": {},
   "outputs": [
    {
     "name": "stdout",
     "output_type": "stream",
     "text": [
      "Carbonyl Carbon: 0.021\n",
      "Error: 9.989\n"
     ]
    }
   ],
   "source": [
    "# Carbonyl Carbon\n",
    "Err_Carb=(abs(((solution[carb])/Final_C)-Carbonyl)/Carbonyl)*100\n",
    "print(\"Carbonyl Carbon:\",round(((solution[carb])/(Final_C)),3))\n",
    "print(\"Error:\",round(Err_Carb,3))"
   ]
  },
  {
   "cell_type": "code",
   "execution_count": 189,
   "id": "6309f115-9bba-426a-bda0-6b0e512c3467",
   "metadata": {},
   "outputs": [
    {
     "name": "stdout",
     "output_type": "stream",
     "text": [
      "Ester Carbon: 0.030\n",
      "Error: 9.989\n"
     ]
    }
   ],
   "source": [
    "# Carboxyl/Lactone/Ester Carbon\n",
    "Err_Carbox=(abs(((solution[ester])/Final_C)-Ester)/Ester)*100\n",
    "print(\"Ester Carbon:\",round(((solution[ester])/(Final_C)),3))\n",
    "print(\"Error:\",round(Err_Carbox,3))"
   ]
  },
  {
   "cell_type": "code",
   "execution_count": 190,
   "id": "2eaf41cf-ab19-4837-9e85-209f2c7e777e",
   "metadata": {},
   "outputs": [
    {
     "name": "stdout",
     "output_type": "stream",
     "text": [
      "Ether Carbon 0.111\n",
      "Error: 9.989\n"
     ]
    }
   ],
   "source": [
    "# Ether Carbon\n",
    "Err_ethh=(abs(((solution[eth]*2)/(Final_C))-Ether)/Ether)*100\n",
    "print(\"Ether Carbon\",round((solution[eth]*2)/(Final_C),3))\n",
    "print(\"Error:\",round(Err_ethh,3))"
   ]
  },
  {
   "cell_type": "code",
   "execution_count": 191,
   "id": "234e6ec5-207e-4b73-b313-d833d1b50697",
   "metadata": {},
   "outputs": [
    {
     "name": "stdout",
     "output_type": "stream",
     "text": [
      "Aliphatic Carbon 0.033\n",
      "Error: 0.013\n"
     ]
    }
   ],
   "source": [
    "# Aliphatic Carbon\n",
    "Err_ali=(abs(((solution[alip])/(Final_C))-Aliphatic)/Aliphatic)*100\n",
    "print(\"Aliphatic Carbon\",round((solution[alip])/(Final_C),3))\n",
    "print(\"Error:\",round(Err_ali,3))"
   ]
  },
  {
   "cell_type": "code",
   "execution_count": 192,
   "id": "3f43cbaa-b36e-47b0-9894-1b94eb6f84aa",
   "metadata": {},
   "outputs": [
    {
     "name": "stdout",
     "output_type": "stream",
     "text": [
      "Defective Carbon 0.119\n",
      "Error: 5.013\n"
     ]
    }
   ],
   "source": [
    "# Defective Carbon\n",
    "Err_def=(abs(((solution[defe])/(Final_C))-Defect)/Defect)*100\n",
    "print(\"Defective Carbon\",round((solution[defe])/(Final_C),3))\n",
    "print(\"Error:\",round(Err_def,3))"
   ]
  },
  {
   "cell_type": "markdown",
   "id": "a22fdd43-9302-450f-a689-5c82f26e94fb",
   "metadata": {},
   "source": [
    "### Contribution of various C-X bonds for Aromatic and defective rings carbons (Theoretical value estimated through DFT)"
   ]
  },
  {
   "cell_type": "markdown",
   "id": "0af3fe0c",
   "metadata": {},
   "source": [
    "### C-H "
   ]
  },
  {
   "cell_type": "code",
   "execution_count": 193,
   "id": "298c6a36-0a1e-4907-8d5e-1070210a45cb",
   "metadata": {},
   "outputs": [
    {
     "name": "stdout",
     "output_type": "stream",
     "text": [
      "Number of C-H bonds: 2846\n"
     ]
    }
   ],
   "source": [
    "# Function to count bonds between specified atoms\n",
    "def count_bonds(atom1, atom2):\n",
    "    selection_name = f\"C-H\"\n",
    "    cmd.select(selection_name, f\"({atom1}) within 1.8 of ({atom2})\")\n",
    "    bond_count = cmd.count_atoms(selection_name) - 1  # Subtract 1 to exclude the central atom\n",
    "    return bond_count\n",
    "    \n",
    "carbon_atom = \"elem C\"\n",
    "hydrogen_atom = \"elem H\"\n",
    "\n",
    "carbon_hydrogen_bonds = count_bonds(carbon_atom, hydrogen_atom)\n",
    "print(f\"Number of C-H bonds: {carbon_hydrogen_bonds}\")"
   ]
  },
  {
   "cell_type": "code",
   "execution_count": 194,
   "id": "3ef80025",
   "metadata": {},
   "outputs": [
    {
     "name": "stdout",
     "output_type": "stream",
     "text": [
      "C-H: 0.291\n",
      "Error: 6.027\n"
     ]
    }
   ],
   "source": [
    "# Take into account just bonds related to aromatic and defective carbons\n",
    "print(\"C-H:\",round((carbon_hydrogen_bonds-solution[methyl]*3-solution[ali_chain]*5-solution[ali_chain_2]*5-solution[carb]-solution[eth])/(solution[aro]+solution[defe]),3))\n",
    "Err_CH = (abs((carbon_hydrogen_bonds-solution[methyl]*3-solution[ali_chain]*5-solution[ali_chain_2]*5-solution[carb]-solution[eth])/(solution[aro]+solution[defe])- C_H_)/C_H_) * 100\n",
    "print(\"Error:\",round(Err_CH,3))"
   ]
  },
  {
   "cell_type": "markdown",
   "id": "c20bb7a2",
   "metadata": {},
   "source": [
    "### C-O-H"
   ]
  },
  {
   "cell_type": "code",
   "execution_count": 195,
   "id": "5212f006-f932-4014-b40f-47372212a86c",
   "metadata": {},
   "outputs": [
    {
     "name": "stdout",
     "output_type": "stream",
     "text": [
      "Number of C–O–H bonds: 3494\n"
     ]
    }
   ],
   "source": [
    "def count_three_atom_bonds(atom1, atom2, atom3):\n",
    "    selection_name = f\"C-O-H\"\n",
    "    cmd.select(selection_name, f\"(({atom1}) within 1.8 of ({atom2})) or (({atom2}) within 1.8 of ({atom3})) or (({atom1}) within 1.8 of ({atom3}))\")\n",
    "    bond_count = cmd.count_atoms(selection_name) - 2  # Subtract 2 to exclude the central atoms\n",
    "    \n",
    "    return bond_count\n",
    "\n",
    "carbon_atom = \"elem C\"\n",
    "oxygen_atom = \"elem O\"\n",
    "hydrogen_atom = \"elem H\"\n",
    "\n",
    "carbon_oxygen_hydrogen_bonds = count_three_atom_bonds(carbon_atom, oxygen_atom, hydrogen_atom)\n",
    "print(f\"Number of C–O–H bonds: {carbon_oxygen_hydrogen_bonds}\")"
   ]
  },
  {
   "cell_type": "code",
   "execution_count": 196,
   "id": "3bcadd99",
   "metadata": {},
   "outputs": [
    {
     "name": "stdout",
     "output_type": "stream",
     "text": [
      "C-x-H: 0.442\n",
      "Error: 5.917\n"
     ]
    }
   ],
   "source": [
    "# Take into account just bonds related to aromatic and defective carbons\n",
    "print(\"C-x-H:\",round((carbon_oxygen_hydrogen_bonds-solution[carb]-solution[ester]*2-solution[eth])/(solution[aro]+solution[defe]),3))\n",
    "Err_CHx = (abs((carbon_oxygen_hydrogen_bonds-solution[carb]-solution[ester]*2-solution[eth])/(solution[aro]+solution[defe])- C_x_H_)/C_x_H_) * 100\n",
    "print(\"Error:\",round(Err_CHx,3))"
   ]
  },
  {
   "cell_type": "markdown",
   "id": "8f27d80e",
   "metadata": {},
   "source": [
    "## Step 8: Organize the grid again and proceed to fix the helium density in LAMMPS"
   ]
  },
  {
   "cell_type": "code",
   "execution_count": 197,
   "id": "514c4168-3d97-47cf-80f3-c7a2a33f9f82",
   "metadata": {},
   "outputs": [],
   "source": [
    "object_masses= builder.Get_Object_Masses()\n",
    "object_names_new = list(object_masses.keys())\n",
    "while not object_names_new:\n",
    "    object_masses = builder.Get_Object_Masses()\n",
    "    object_names_new = list(object_masses.keys())"
   ]
  },
  {
   "cell_type": "code",
   "execution_count": 198,
   "id": "7ede0e37-0dee-44b9-86b9-6d8ab5e155a9",
   "metadata": {},
   "outputs": [
    {
     "name": "stdout",
     "output_type": "stream",
     "text": [
      "Number of objects: 88\n"
     ]
    }
   ],
   "source": [
    "min_angle = 1\n",
    "max_angle = 359.0\n",
    "\n",
    "num_objects = len(object_names_new)\n",
    "\n",
    "positions = []\n",
    "used_positions = set()\n",
    "angles = []\n",
    "xmin, xmax = 0, round(system_size*0.01)\n",
    "ymin, ymax = -round(system_size*0.01), 0\n",
    "zmin, zmax = 0, round(system_size*0.01)\n",
    "\n",
    "# Minimum distance between any two positions to avoid overlap\n",
    "min_distance = round(system_size*0.001)\n",
    "grid_divisions = int(math.ceil(num_objects ** (1 / 3)))\n",
    "\n",
    "grid_size_x = min_distance\n",
    "grid_size_y = min_distance\n",
    "grid_size_z = min_distance\n",
    "\n",
    "# Generate all possible grid positions\n",
    "all_positions = [\n",
    "    (xmin + i * grid_size_x, ymin + j * grid_size_y, zmin + k * grid_size_z)\n",
    "    for i in range(grid_divisions)\n",
    "    for j in range(grid_divisions)\n",
    "    for k in range(grid_divisions)\n",
    "]\n",
    "\n",
    "random.shuffle(all_positions)\n",
    "assert len(all_positions) >= num_objects, \"Not enough positions for all objects.\"\n",
    "\n",
    "# Assign positions to objects\n",
    "for idx, name in enumerate(object_names_new):\n",
    "    x, y, z = all_positions[idx]\n",
    "    positions.append((x, y, z))\n",
    "\n",
    "    rotation_angles = [random.uniform(min_angle, max_angle) for _ in range(3)]\n",
    "    angles.append((rotation_angles, name))\n",
    "\n",
    "    for axis, angle in zip(['x', 'y', 'z'], rotation_angles):\n",
    "        rotation_command = \"rotate {0}, {1}, {2}\".format(axis, angle, name)\n",
    "        cmd.do(rotation_command)\n",
    "\n",
    "    # Translate the object to the new position\n",
    "    cmd.translate((x, y, z), name)\n",
    "\n",
    "cmd.refresh()\n",
    "\n",
    "object_list = cmd.get_object_list()\n",
    "num_objects = len(object_list)\n",
    "print(\"Number of objects:\", num_objects)"
   ]
  },
  {
   "cell_type": "code",
   "execution_count": 199,
   "id": "09eb1dbe-ea79-4006-b0a5-6660c7f2c743",
   "metadata": {},
   "outputs": [],
   "source": [
    "# Obtain molecular weight distribution\n",
    "object_masses = builder.Get_Object_Masses()\n",
    "while not object_masses:\n",
    "    object_masses = builder.Get_Object_Masses()"
   ]
  },
  {
   "cell_type": "markdown",
   "id": "aaf92707-794d-4350-b0e4-9a320e6a1489",
   "metadata": {},
   "source": [
    "### Obtain molecular formula of the decorated clusters"
   ]
  },
  {
   "cell_type": "code",
   "execution_count": 200,
   "id": "f96c9c33-5aa2-4992-b7ee-5491b4a7f532",
   "metadata": {},
   "outputs": [
    {
     "name": "stdout",
     "output_type": "stream",
     "text": [
      "Composition analysis complete. Results saved to 'Final_molecular_formula.txt'.\n"
     ]
    }
   ],
   "source": [
    "def get_atom_counts(object_names_new):\n",
    "    elements = ['C', 'H', 'N', 'O', 'S', 'Cl', 'Si']\n",
    "    counts = [object_names_new]  # Start with the molecule name\n",
    "    for element in elements:\n",
    "        count = cmd.count_atoms(f'elem {element} and model {object_names_new}')\n",
    "        counts.append(count)\n",
    "    return counts\n",
    "\n",
    "with open('Final_molecular_formula.txt', 'w') as file:\n",
    "    file.write(\"Molecule,C,H,N,O,S,Cl,Si\\n\")\n",
    "    \n",
    "    for molecule in object_names_new:\n",
    "        atom_counts = get_atom_counts(molecule)\n",
    "        file.write(\",\".join(map(str, atom_counts)) + '\\n')\n",
    "\n",
    "print(\"Composition analysis complete. Results saved to 'Final_molecular_formula.txt'.\")"
   ]
  },
  {
   "cell_type": "markdown",
   "id": "aa233836",
   "metadata": {},
   "source": [
    "### Export the molecules as PDB file"
   ]
  },
  {
   "cell_type": "code",
   "execution_count": 201,
   "id": "2832642b",
   "metadata": {},
   "outputs": [],
   "source": [
    "# Select all atoms\n",
    "cmd.select('all_atoms', 'all')\n",
    "\n",
    "# Export the selection as a multi-file PDB\n",
    "n_states = cmd.count_states('all_atoms')\n",
    "pdb_files = []\n",
    "for state in range(1, n_states + 1):\n",
    "    cmd.frame(state)\n",
    "    pdb_file = f'exported_molecule_{state}.pdb'\n",
    "    cmd.save(pdb_file, 'all_atoms')\n",
    "    pdb_files.append(pdb_file)\n",
    "\n",
    "# Merge the multi-file PDB into a single file\n",
    "merged_file = 'merged_molecule.pdb'\n",
    "with open(merged_file, 'w') as outfile:\n",
    "    for pdb_file in pdb_files:\n",
    "        with open(pdb_file, 'r') as infile:\n",
    "            outfile.write(infile.read())\n",
    "\n",
    "# Save the merged molecule\n",
    "cmd.load(merged_file, 'merged_molecule')\n",
    "cmd.save('final_molecule.pdb', 'merged_molecule')\n",
    "\n",
    "# Clean up the intermediate files\n",
    "for pdb_file in pdb_files:\n",
    "    os.remove(pdb_file)\n",
    "os.remove(merged_file)"
   ]
  },
  {
   "cell_type": "code",
   "execution_count": 202,
   "id": "1f7d5db0",
   "metadata": {},
   "outputs": [],
   "source": [
    "# Call the PyMOL aliases\n",
    "cmd.do('colour')\n",
    "cmd.do('orient')\n",
    "# Change colors ans appereance\n",
    "cmd.do('set sphere_scale, 0.2, (all)')\n",
    "cmd.do('set_bond stick_radius, 0.14, (all), (all)')\n",
    "cmd.do('show sticks')\n",
    "cmd.do('show spheres')"
   ]
  },
  {
   "cell_type": "markdown",
   "id": "b16216cf",
   "metadata": {},
   "source": [
    "## Step 9: Convert the PDB file to Lammps data using OVITO"
   ]
  },
  {
   "cell_type": "markdown",
   "id": "afdd3dee",
   "metadata": {},
   "source": [
    "#### To define the x, y, z values use the following code:"
   ]
  },
  {
   "cell_type": "code",
   "execution_count": 203,
   "id": "f1b2e9f9",
   "metadata": {},
   "outputs": [
    {
     "name": "stdin",
     "output_type": "stream",
     "text": [
      "Enter the value for Helium Density:  1.470\n"
     ]
    }
   ],
   "source": [
    "HeliumDensity = float(input(\"Enter the value for Helium Density: \"))  # kg/m3"
   ]
  },
  {
   "cell_type": "code",
   "execution_count": 171,
   "id": "ecc077fe",
   "metadata": {},
   "outputs": [
    {
     "name": "stdout",
     "output_type": "stream",
     "text": [
      " x, y, z: 49.33\n"
     ]
    }
   ],
   "source": [
    "Temperature=298                             # K\n",
    "Pressure=1                                  # atm\n",
    "Density=(HeliumDensity*1000)/(10**(27))     # g/Å3\n",
    "NA=6.022*10**(23)                           # molecules per mol\n",
    "BoxVolume=1/((Density/newMW2)*NA)           # Å3\n",
    "BoxLength=(BoxVolume)**(1/3)                # Å\n",
    "print(\" x, y, z:\",round(BoxLength,3))\n"
   ]
  },
  {
   "cell_type": "markdown",
   "id": "1cd4f12e",
   "metadata": {},
   "source": [
    "#### Open the PDB file in VMD, and in the console put the following commands:"
   ]
  },
  {
   "cell_type": "markdown",
   "id": "ea8149e5",
   "metadata": {},
   "source": [
    "cd Desktop"
   ]
  },
  {
   "cell_type": "markdown",
   "id": "13620bd4",
   "metadata": {},
   "source": [
    "pbc set {x y z} -all\n"
   ]
  },
  {
   "cell_type": "markdown",
   "id": "00a45660",
   "metadata": {},
   "source": [
    "pbc box -center all"
   ]
  },
  {
   "cell_type": "markdown",
   "id": "3246c2f9",
   "metadata": {},
   "source": [
    "topo writelammpsdata biochar.data charge"
   ]
  },
  {
   "cell_type": "markdown",
   "id": "8af841a3-7bc1-423f-bd43-eb9507faf94d",
   "metadata": {},
   "source": [
    "You can also convert it directly using OVITO, just open the file and export it as LAMMPS data using charge"
   ]
  }
 ],
 "metadata": {
  "kernelspec": {
   "display_name": "Python 3 (ipykernel)",
   "language": "python",
   "name": "python3"
  },
  "language_info": {
   "codemirror_mode": {
    "name": "ipython",
    "version": 3
   },
   "file_extension": ".py",
   "mimetype": "text/x-python",
   "name": "python",
   "nbconvert_exporter": "python",
   "pygments_lexer": "ipython3",
   "version": "3.10.13"
  }
 },
 "nbformat": 4,
 "nbformat_minor": 5
}
