{
 "cells": [
  {
   "cell_type": "markdown",
   "id": "9d388d16",
   "metadata": {},
   "source": [
    "# Code to Generate Biochar Atomistic Models"
   ]
  },
  {
   "cell_type": "markdown",
   "id": "800d6677-9bda-4e2f-b096-a01478da8646",
   "metadata": {},
   "source": [
    "The code is applicable for molar ratios of O/C ≤ 0.217 and H/C ≤ 0.627 and elemental composition, including C, H, N, and O, F, P, and S. Modify FTIR and XPS data based on your characterization results. "
   ]
  },
  {
   "cell_type": "markdown",
   "id": "c219b977",
   "metadata": {},
   "source": [
    "<img src=\"biochar.png\" width=\"450\" height=\"450\">\n"
   ]
  },
  {
   "cell_type": "markdown",
   "id": "f07295ee",
   "metadata": {},
   "source": [
    "## Open Pymol "
   ]
  },
  {
   "cell_type": "code",
   "execution_count": null,
   "id": "9c8ffdaf",
   "metadata": {},
   "outputs": [],
   "source": [
    "# Import PyMol\n",
    "from ipymol import viewer as pymol"
   ]
  },
  {
   "cell_type": "code",
   "execution_count": null,
   "id": "99ca99f7",
   "metadata": {},
   "outputs": [],
   "source": [
    "# Initiate PyMol RPC module\n",
    "import glob,os,sys,subprocess,random, math\n",
    "from pymol_rpc import pymol_jupyter_builder\n",
    "import numpy as np\n",
    "from scipy.optimize import minimize\n",
    "from sympy import symbols, Eq, solve\n",
    "\n",
    "builder = pymol_jupyter_builder()\n",
    "builder.start()"
   ]
  },
  {
   "cell_type": "code",
   "execution_count": null,
   "id": "5d7c8100",
   "metadata": {},
   "outputs": [],
   "source": [
    "# Import cmd \n",
    "import xmlrpc.client as xmlrpclib\n",
    "cmd = xmlrpclib.ServerProxy('http://localhost:9123') # This location may change in your computer \n",
    "cmd.reinitialize()"
   ]
  },
  {
   "cell_type": "markdown",
   "id": "075a91ec",
   "metadata": {},
   "source": [
    "## Input: Biochar data"
   ]
  },
  {
   "cell_type": "code",
   "execution_count": null,
   "id": "e9de8c46",
   "metadata": {},
   "outputs": [],
   "source": [
    "Biochar_Temp=float(input(\"Enter the temperature of pyrolysis in °C: \"))"
   ]
  },
  {
   "cell_type": "code",
   "execution_count": null,
   "id": "b14d78aa",
   "metadata": {},
   "outputs": [],
   "source": [
    "# Hydroxyl groups, qualitative data from FTIR\n",
    "\n",
    "if Biochar_Temp == 400:\n",
    "    v = 0.03\n",
    "elif Biochar_Temp == 500:\n",
    "    v = 0.001\n",
    "elif Biochar_Temp == 600 or Biochar_Temp == 700:\n",
    "    v = 0\n",
    "else:\n",
    "    v = 0  # You may want to specify a default value in case Biochar_Temp doesn't match any of the above conditions"
   ]
  },
  {
   "cell_type": "markdown",
   "id": "06b6e8c8",
   "metadata": {},
   "source": [
    "### Ultimate analysis"
   ]
  },
  {
   "cell_type": "code",
   "execution_count": null,
   "id": "187562e5",
   "metadata": {},
   "outputs": [],
   "source": [
    "Carbon = float(input(\"Enter the value for Carbon: \"))\n",
    "Hydrogen = float(input(\"Enter the value for Hydrogen: \"))\n",
    "Oxygen = float(input(\"Enter the value for Oxygen: \"))\n",
    "Nitrogen = float(input(\"Enter the value for Nitrogen: \"))\n",
    "Fluorine = float(input(\"Enter the value for Fluorine: \"))\n",
    "Phosphorus = float(input(\"Enter the value for Phosphorus: \"))\n",
    "Sulfur = float(input(\"Enter the value for Sulfur: \"))\n",
    "H_C = float(input(\"Enter the value for H/C molar ratio: \"))\n",
    "O_C = float(input(\"Enter the value for O/C molar ratio: \"))\n",
    "BridgheadCarbon=float(input(\"Enter the value for BridgheadCarbon: \"))"
   ]
  },
  {
   "cell_type": "markdown",
   "id": "dde22677",
   "metadata": {},
   "source": [
    "### Multi-CP 13C NMR quantitaive data"
   ]
  },
  {
   "cell_type": "code",
   "execution_count": null,
   "id": "518f0f48-bac5-4f3d-b960-594600512d3d",
   "metadata": {},
   "outputs": [],
   "source": [
    "Aromatic = float(input(\"Enter the value for Caro: \"))\n",
    "Carbonyl = float(input(\"Enter the value for Carbonyl: \"))\n",
    "Ester = float(input(\"Enter the value for Ester: \"))          # Carboxyl/Lactone/Ester\n",
    "Ether = float(input(\"Enter the value for Ether: \"))\n",
    "Aliphatic = float(input(\"Enter the value for Aliphatic: \"))\n",
    "Defect = float(input(\"Enter the value for Defect: \"))        # Non-hexagonal rings"
   ]
  },
  {
   "cell_type": "code",
   "execution_count": null,
   "id": "91f2bebe-44ac-4326-9379-bde42841d5ad",
   "metadata": {},
   "outputs": [],
   "source": [
    "# Phosphorus groups, qualitative data from XPS P 2p1/2 and 2p3/2\n",
    "Phosphate=0.6668         # C–O–PO3\n",
    "Phosphite=0.3332         # C–PO3"
   ]
  },
  {
   "cell_type": "code",
   "execution_count": null,
   "id": "36fa6fb4-28d6-45bf-825e-5b77277e8241",
   "metadata": {},
   "outputs": [],
   "source": [
    "# Sulfur groups, qualitative data from XPS S 2p1/2 and 2p3/2\n",
    "Thiophene=0.4964          # C–S–C (Carbon from 5 member ring)\n",
    "Thioether=0.248           # C–S–C (No aromatic carbon)\n",
    "Sulfonyl=0.1704/2         # SO2\n",
    "Sulfo=0.1704/2            # SO3H\n",
    "Sulfinyl=0.0851           # S=O"
   ]
  },
  {
   "cell_type": "markdown",
   "id": "95976ca4",
   "metadata": {},
   "source": [
    "### Aromatic cluster size distribution, obtained from BPCA.ipynb"
   ]
  },
  {
   "cell_type": "code",
   "execution_count": null,
   "id": "cc9c72e4-71ee-4788-9648-d2c5815583e5",
   "metadata": {},
   "outputs": [],
   "source": [
    "system_size = float(input(\"System size selected on BPCA.ipynb: \"))"
   ]
  },
  {
   "cell_type": "code",
   "execution_count": null,
   "id": "39986962",
   "metadata": {},
   "outputs": [],
   "source": [
    "%store -r result\n",
    "values=np.round(result[0]).astype(int)\n",
    "print(values)"
   ]
  },
  {
   "cell_type": "markdown",
   "id": "29975c5f",
   "metadata": {},
   "source": [
    "## Step 1: Include the aromatic clusters in PyMOL and create the grid"
   ]
  },
  {
   "cell_type": "markdown",
   "id": "5a2fced8",
   "metadata": {},
   "source": [
    "#### Note: All the molecules included in the BPCA_PAH should be in this folder as mol2 file "
   ]
  },
  {
   "cell_type": "code",
   "execution_count": null,
   "id": "ebdbc5b5",
   "metadata": {},
   "outputs": [],
   "source": [
    "cmd.load(\"fluorene.mol2\", \"fluorene\")\n",
    "cmd.load(\"phenalene.mol2\", \"phenalene\")\n",
    "cmd.load(\"phenanthrene.mol2\", \"phenanthrene\")\n",
    "cmd.load(\"anthracene.mol2\", \"anthracene\")\n",
    "cmd.load(\"tetracene.mol2\", \"tetracene\")\n",
    "cmd.load(\"pentacene.mol2\", \"pentacene\")\n",
    "cmd.load(\"pyrene.mol2\", \"pyrene\")\n",
    "cmd.load(\"chrysene.mol2\", \"chrysene\")\n",
    "cmd.load(\"benzo_a_fluorene.mol2\", \"benzo_a_fluorene\")\n",
    "cmd.load(\"benzo_b_fluoranthene.mol2\", \"benzo_b_fluoranthene\")\n",
    "cmd.load(\"benzo_b_fluorene.mol2\", \"benzo_b_fluorene\")\n",
    "cmd.load(\"coronene.mol2\", \"coronene\")\n",
    "cmd.load(\"perylene.mol2\", \"perylene\")\n",
    "cmd.load(\"benzo_a_pyrene.mol2\", \"benzo_a_pyrene\")\n",
    "cmd.load(\"benzo_g_h_i_perylene.mol2\", \"benzo_g_h_i_perylene\")\n",
    "cmd.load(\"circumpyrene.mol2\", \"circumpyrene\")\n",
    "cmd.load(\"circumcoronene.mol2\", \"circumcoronene\")\n",
    "cmd.load(\"circumovalene.mol2\", \"circumovalene\")\n",
    "cmd.load(\"pentatriacotaene.mol2\", \"pentatriacotaene\")\n",
    "cmd.load(\"circumcircumpyrene.mol2\", \"circumcircumpyrene\")\n",
    "cmd.load(\"c84.mol2\", \"c84\")\n",
    "cmd.load(\"N5.mol2\", \"m5\")\n",
    "cmd.load(\"N8.mol2\", \"N8\")\n",
    "cmd.load(\"N9.mol2\", \"N9\")\n",
    "cmd.load(\"N10.mol2\", \"N10\")\n",
    "cmd.load(\"N11.mol2\", \"N11\")\n",
    "cmd.load(\"N12.mol2\", \"N12\")\n",
    "cmd.load(\"N13.mol2\", \"N13\")\n",
    "cmd.load(\"N14.mol2\", \"N14\")\n",
    "cmd.load(\"N15.mol2\", \"N15\")\n",
    "cmd.load(\"N16.mol2\", \"N16\")\n",
    "cmd.load(\"N17.mol2\", \"N17\")\n",
    "cmd.load(\"N18.mol2\", \"N18\")"
   ]
  },
  {
   "cell_type": "code",
   "execution_count": null,
   "id": "60db6192",
   "metadata": {},
   "outputs": [],
   "source": [
    "cmd.set_color(\"pale_yellow_green\", [0.7, 0.9, 0.5])\n",
    "cmd.alias(\"colour\", \"color cyan, (name c*); color red, (name o*); color white, (name h*); color blue, (name n*); color yellow, (name s*); color brown, (name p*); color pale_yellow_green, (name f*)\")"
   ]
  },
  {
   "cell_type": "code",
   "execution_count": null,
   "id": "dc930099",
   "metadata": {},
   "outputs": [],
   "source": [
    "cmd.do('colour')\n",
    "cmd.do('orient')\n",
    "cmd.do('set sphere_scale, 0.2, (all)')\n",
    "cmd.do('set_bond stick_radius, 0.14, (all), (all)')\n",
    "cmd.do('show sticks')\n",
    "cmd.do('show spheres')\n",
    "cmd.bg_color(\"white\")\n",
    "cmd.set(\"ray_shadows\", \"off\")"
   ]
  },
  {
   "cell_type": "code",
   "execution_count": null,
   "id": "30a2773d",
   "metadata": {},
   "outputs": [],
   "source": [
    "def generate_coordinates(num_coordinates):\n",
    "    coordinates = []\n",
    "    \n",
    "    xmin, xmax = 0, 150\n",
    "    ymin, ymax = -150, 0\n",
    "    zmin, zmax = 0, 150\n",
    "\n",
    "    num_per_dim = int(math.ceil(num_coordinates ** (1/3)))\n",
    "    \n",
    "    x_spacing = (xmax - xmin) / (num_per_dim - 1)\n",
    "    y_spacing = (ymax - ymin) / (num_per_dim - 1)\n",
    "    z_spacing = (zmax - zmin) / (num_per_dim - 1)\n",
    "    \n",
    "    count = 0\n",
    "    for x in range(num_per_dim):\n",
    "        for y in range(num_per_dim):\n",
    "            for z in range(num_per_dim):\n",
    "                if count >= num_coordinates:\n",
    "                    break\n",
    "                x_coord = xmin + x * x_spacing\n",
    "                y_coord = ymin + y * y_spacing\n",
    "                z_coord = zmin + z * z_spacing\n",
    "                rotation_angles = [random.uniform(0, 360) for _ in range(3)]\n",
    "                coordinates.append((x_coord, y_coord, z_coord, rotation_angles))\n",
    "                count += 1\n",
    "            if count >= num_coordinates:\n",
    "                break\n",
    "        if count >= num_coordinates:\n",
    "            break\n",
    "\n",
    "    return coordinates\n",
    "\n",
    "coordinates = generate_coordinates(round(system_size*0.02))"
   ]
  },
  {
   "cell_type": "code",
   "execution_count": null,
   "id": "6eab5a0f",
   "metadata": {},
   "outputs": [],
   "source": [
    "object_list = cmd.get_object_list()\n",
    "num_objects = len(object_list)\n",
    "print(\"PAH types:\", num_objects)"
   ]
  },
  {
   "cell_type": "markdown",
   "id": "67487ef6-0e8e-47ee-92b4-3be59386309e",
   "metadata": {},
   "source": [
    "#### Insert all the PAH in PyMol according to the BPCA distribution"
   ]
  },
  {
   "cell_type": "code",
   "execution_count": null,
   "id": "bc5f5723-95a4-429f-a3ba-b6942cf60784",
   "metadata": {},
   "outputs": [],
   "source": [
    "def copy_translate_delete(object_name, num_copies, coordinates, start_index):\n",
    "    for i in range(1, num_copies + 1):\n",
    "        cmd.copy(f\"{object_name}{i}\", object_name)\n",
    "        cmd.translate(coordinates[start_index + i - 1], f\"{object_name}{i}\")\n",
    "    cmd.delete(object_name)\n",
    "\n",
    "for idx, object_name in enumerate(object_list):\n",
    "    copy_translate_delete(object_name, values[idx], coordinates, num_objects)\n",
    "    num_objects += values[idx]\n",
    "\n",
    "cmd.reset()\n",
    "\n",
    "object_list = cmd.get_object_list()\n",
    "num_objects = len(object_list)\n",
    "print(\"PAH clusters:\", num_objects)"
   ]
  },
  {
   "cell_type": "markdown",
   "id": "c49121e4",
   "metadata": {},
   "source": [
    "### Check the number of aromatic carbons"
   ]
  },
  {
   "cell_type": "code",
   "execution_count": null,
   "id": "afc603dd",
   "metadata": {},
   "outputs": [],
   "source": [
    "atom_counts = {}\n",
    "elements = [\"C\", \"H\", \"N\", \"O\"]\n",
    "\n",
    "for element in elements:\n",
    "    count = cmd.select(f\"elem {element}\")\n",
    "    atom_counts[element] = count\n",
    "c_aromatic = atom_counts[\"C\"]\n",
    "h_aromatic = atom_counts[\"H\"]\n",
    "\n",
    "for element, count in atom_counts.items():\n",
    "    print(f\"Element {element}: {count}\")"
   ]
  },
  {
   "cell_type": "markdown",
   "id": "a8acbf37",
   "metadata": {},
   "source": [
    "## Step 2: Include cluster with non-hexagonal rings"
   ]
  },
  {
   "cell_type": "markdown",
   "id": "6ecf13cd",
   "metadata": {},
   "source": [
    "#### Include a frequency for the carbon defects, to have the complete distribution of fragments."
   ]
  },
  {
   "cell_type": "code",
   "execution_count": null,
   "id": "fd1f3aac-e694-4403-a926-672b7504ad83",
   "metadata": {},
   "outputs": [],
   "source": [
    "holes = float(input(\"Do you want to include holes within the structures?: \")) \n",
    "# 1 Yes, 0 No"
   ]
  },
  {
   "cell_type": "code",
   "execution_count": null,
   "id": "8bdeeefa-77ef-4454-ac84-cb79329aaff9",
   "metadata": {},
   "outputs": [],
   "source": [
    "total_atoms=c_aromatic+h_aromatic\n",
    "h_c_aro=h_aromatic/c_aromatic\n",
    "def calculate_factors(Biochar_Temp, total_atoms):\n",
    "    if holes == 0:\n",
    "        if Biochar_Temp == 400:\n",
    "            w = -0.23 + (0.357-h_c_aro)\n",
    "            y = 1.5 * (h_c_aro/0.357)\n",
    "            f = round(system_size*0.002)\n",
    "        elif Biochar_Temp == 500:\n",
    "            w = -0.04 + (0.349-h_c_aro)\n",
    "            y = 1.17 * (h_c_aro/0.349)\n",
    "            f = round(system_size*0.002)\n",
    "        elif Biochar_Temp == 600:\n",
    "            w = 0.008 + (0.314-h_c_aro)\n",
    "            y = 1.12 * (h_c_aro/0.314)\n",
    "            f = round(system_size*0.002)\n",
    "        elif Biochar_Temp == 700:\n",
    "            w = -0.03 + (0.287-h_c_aro)\n",
    "            y = 1.1*(h_c_aro/0.287)\n",
    "            f = round(system_size*0.002)\n",
    "    else:  \n",
    "        if Biochar_Temp == 400:\n",
    "            w = -0.25 + (0.357-h_c_aro)\n",
    "            y = 1.5 * (h_c_aro/0.357)*(19/20)\n",
    "            f = round(system_size*0.003)\n",
    "        elif Biochar_Temp == 500:\n",
    "            w = -0.04 + (0.349-h_c_aro)\n",
    "            y = 1.25 * (h_c_aro/0.349)*(19/20)\n",
    "            f = round(system_size*0.003)\n",
    "        elif Biochar_Temp == 600:\n",
    "            w = 0.005 + (0.314-h_c_aro)\n",
    "            y = 1.12 * (h_c_aro/0.314)*(19/20)\n",
    "            f = round(system_size*0.003)\n",
    "        elif Biochar_Temp == 700:\n",
    "            w = -0.05 + (0.287-h_c_aro)\n",
    "            y = 1.1 * (h_c_aro/0.287)*(19/20)\n",
    "            f = round(system_size*0.003)            \n",
    "    return w, y, f\n",
    "\n",
    "w, y, f = calculate_factors(Biochar_Temp, total_atoms)\n",
    "print(\"Adjusted factors - w:\", w, \"y:\", y, \"f:\", f)"
   ]
  },
  {
   "cell_type": "code",
   "execution_count": null,
   "id": "eea6befa-d67d-4b38-92bb-2f7c0261c219",
   "metadata": {},
   "outputs": [],
   "source": [
    "def_list = [61,74, 93, 42, 45, 162, 67, 183, 192, 64, 72]\n",
    "def_list_H = [23, 96, 126, 22, 32, 177, 83, 178, 175, 74, 28]\n",
    "TotalC_Aromatic = c_aromatic\n",
    "TotalH_Aromatic = h_aromatic\n",
    "\n",
    "value =[]\n",
    "\n",
    "def constraint(vector, def_list, def_list_H, TotalC_Aromatic, TotalH_Aromatic):\n",
    "    \n",
    "    # Total number of defective carbons\n",
    "    value = [(def_list[i] * vector[i]) / (TotalC_Aromatic + (def_list[i] * vector[i])) for i in range(len(def_list))]\n",
    "    constraint_value = sum(value)\n",
    "     \n",
    "    # Total H/C\n",
    "    value_H_d = [def_list_H[i] * vector[i] for i in range(len(def_list))]\n",
    "    value_C_d =  [def_list[i] * vector[i] for i in range(len(def_list))]      \n",
    "    value_HC = (sum(value_H_d) + TotalH_Aromatic) / (TotalC_Aromatic + sum(value_C_d))\n",
    "    \n",
    "    # Total % of carbons\n",
    "    value_C = (sum(value_C_d)  + TotalC_Aromatic) / (TotalC_Aromatic + TotalH_Aromatic + sum(value_H_d) + sum(value_C_d))\n",
    "    constraint_value_C = value_C\n",
    "\n",
    "    # Minimize errors\n",
    "    error_HC = np.abs(value_HC - (H_C+w))/(H_C+w) # We need more hydrogen to create cross-links    \n",
    "    error_Def = np.abs(constraint_value - Defect*y)/(Defect*y) # We need more carbon defect to create holes\n",
    "    \n",
    "    Total_error = error_Def + error_HC\n",
    "\n",
    "    return Total_error*100\n",
    "\n",
    "# Initial guess for the optimization\n",
    "initial_vector = [0, 0, 0, 0, 0, 0, 0, 0, 0, 0, 0]\n",
    "\n",
    "bounds = [(0, f) for i in range(len(def_list))]\n",
    "\n",
    "# Optimize the objective function \n",
    "result = minimize(lambda x: 0, initial_vector, method='slsqp', constraints={'type': 'eq', 'fun': constraint, 'args': (def_list, def_list_H, TotalC_Aromatic, TotalH_Aromatic)}, bounds=bounds, tol=1e-5)\n",
    "\n",
    "# Extract the optimized vector\n",
    "vector = result.x.round().astype(int)\n",
    "\n",
    "print(\"Value:\", constraint(vector, def_list, def_list_H, TotalC_Aromatic, TotalH_Aromatic))\n",
    "print(\"Optimized Vector:\", vector)"
   ]
  },
  {
   "cell_type": "code",
   "execution_count": null,
   "id": "3c966fee",
   "metadata": {},
   "outputs": [],
   "source": [
    "# New vector with defective structures included\n",
    "values = np.append(values, vector).astype(int)\n",
    "print(values)"
   ]
  },
  {
   "cell_type": "code",
   "execution_count": null,
   "id": "c3d8ed4f",
   "metadata": {},
   "outputs": [],
   "source": [
    "cmd.load(\"defect1.mol2\", \"defect0\")\n",
    "cmd.load(\"defect2.mol2\", \"defect2\")\n",
    "cmd.load(\"defect3.mol2\", \"defect3\")\n",
    "cmd.load(\"defect4.mol2\", \"defect4\")\n",
    "cmd.load(\"defect5.mol2\", \"defect5\")\n",
    "cmd.load(\"defect6.mol2\", \"defect6\")\n",
    "cmd.load(\"defect7.mol2\", \"defect7\")\n",
    "cmd.load(\"defect8.mol2\", \"defect8\")\n",
    "cmd.load(\"defect9.mol2\", \"defect9\")\n",
    "cmd.load(\"defect10.mol2\", \"defect10\")\n",
    "cmd.load(\"defect11.mol2\", \"defect11\")"
   ]
  },
  {
   "cell_type": "code",
   "execution_count": null,
   "id": "034ba070-53a1-462f-9b81-f362192113fb",
   "metadata": {},
   "outputs": [],
   "source": [
    "defect_object_names = [\n",
    "    (\"defect0\", 33),\n",
    "    (\"defect3\", 35),\n",
    "    (\"defect2\", 34),\n",
    "    (\"defect4\", 36),\n",
    "    (\"defect5\", 37),\n",
    "    (\"defect6\", 38),\n",
    "    (\"defect7\", 39),\n",
    "    (\"defect8\", 40),\n",
    "    (\"defect9\", 41),\n",
    "    (\"defect10\", 42),\n",
    "    (\"defect11\", 43)\n",
    "]\n",
    "\n",
    "defect_offset = num_objects\n",
    "\n",
    "for object_name, value_index in defect_object_names:\n",
    "    copy_translate_delete(object_name, values[value_index], coordinates, defect_offset)\n",
    "    defect_offset += values[value_index]\n",
    "\n",
    "cmd.reset()\n",
    "object_list = cmd.get_object_list()\n",
    "num_objects = len(object_list)\n",
    "print(\"Number of objects:\", num_objects)\n",
    "cmd.reset()"
   ]
  },
  {
   "cell_type": "code",
   "execution_count": null,
   "id": "4c18b4f8",
   "metadata": {},
   "outputs": [],
   "source": [
    "cmd.do('colour')\n",
    "cmd.do('comp')\n",
    "cmd.do('atomdata')\n",
    "cmd.do('orient')\n",
    "cmd.do('set sphere_scale, 0.2, (all)')\n",
    "cmd.do('set_bond stick_radius, 0.14, (all), (all)')\n",
    "cmd.do('show sticks')\n",
    "cmd.do('show spheres')"
   ]
  },
  {
   "cell_type": "markdown",
   "id": "3cc9f9cf",
   "metadata": {},
   "source": [
    "### Organize the structures without overlapping them; this will allow you to visualize better the changes made"
   ]
  },
  {
   "cell_type": "code",
   "execution_count": null,
   "id": "68cf0855-fad9-4c0e-8f71-a55451e5b1c8",
   "metadata": {},
   "outputs": [],
   "source": [
    "min_angle = 1\n",
    "max_angle = 359.0\n",
    "\n",
    "num_objects = len(object_list)\n",
    "\n",
    "positions = []\n",
    "used_positions = set()\n",
    "angles = []\n",
    "xmin, xmax = 0, round(system_size*0.015)\n",
    "ymin, ymax = -round(system_size*0.015), 0\n",
    "zmin, zmax = 0, round(system_size*0.015)\n",
    "\n",
    "# Minimum distance between any two positions to avoid overlap\n",
    "min_distance = round(system_size*0.005)\n",
    "grid_divisions = int(math.ceil(num_objects ** (1 / 3)))\n",
    "\n",
    "grid_size_x = min_distance\n",
    "grid_size_y = min_distance\n",
    "grid_size_z = min_distance\n",
    "\n",
    "# Generate all possible grid positions\n",
    "all_positions = [\n",
    "    (xmin + i * grid_size_x, ymin + j * grid_size_y, zmin + k * grid_size_z)\n",
    "    for i in range(grid_divisions)\n",
    "    for j in range(grid_divisions)\n",
    "    for k in range(grid_divisions)\n",
    "]\n",
    "\n",
    "random.shuffle(all_positions)\n",
    "assert len(all_positions) >= num_objects, \"Not enough positions for all objects.\"\n",
    "\n",
    "# Assign positions to objects\n",
    "for idx, name in enumerate(object_list):\n",
    "    x, y, z = all_positions[idx]\n",
    "    positions.append((x, y, z))\n",
    "\n",
    "    rotation_angles = [random.uniform(min_angle, max_angle) for _ in range(3)]\n",
    "    angles.append((rotation_angles, name))\n",
    "\n",
    "    for axis, angle in zip(['x', 'y', 'z'], rotation_angles):\n",
    "        rotation_command = \"rotate {0}, {1}, {2}\".format(axis, angle, name)\n",
    "        cmd.do(rotation_command)\n",
    "\n",
    "    # Translate the object to the new position\n",
    "    cmd.translate((x, y, z), name)\n",
    "\n",
    "cmd.refresh()\n",
    "\n",
    "object_list = cmd.get_object_list()\n",
    "num_objects = len(object_list)\n",
    "print(\"Number of objects:\", num_objects)"
   ]
  },
  {
   "cell_type": "code",
   "execution_count": null,
   "id": "a79fb895",
   "metadata": {},
   "outputs": [],
   "source": [
    "atom_counts = {}\n",
    "elements = [\"C\", \"H\", \"N\", \"O\"]\n",
    "\n",
    "for element in elements:\n",
    "    count = cmd.select(f\"elem {element}\")\n",
    "    atom_counts[element] = count\n",
    "c_total= atom_counts[\"C\"]\n",
    "h_total= atom_counts[\"H\"]\n",
    "\n",
    "for element, count in atom_counts.items():\n",
    "    print(f\"Element {element}: {count}\")"
   ]
  },
  {
   "cell_type": "code",
   "execution_count": null,
   "id": "3a05a7f3",
   "metadata": {},
   "outputs": [],
   "source": [
    "c_defect=c_total-c_aromatic\n",
    "print(\"Defect carbon:\", c_defect)"
   ]
  },
  {
   "cell_type": "markdown",
   "id": "48f728b4",
   "metadata": {},
   "source": [
    "## Step 3: Include functional groups"
   ]
  },
  {
   "cell_type": "markdown",
   "id": "f5e31357",
   "metadata": {},
   "source": [
    "### Add additional groups as needed"
   ]
  },
  {
   "cell_type": "code",
   "execution_count": null,
   "id": "c338ef63",
   "metadata": {},
   "outputs": [],
   "source": [
    "# To reduce the error of not having enough information for oxygen, it is necessary to sacrifice the precision of functional groups\n",
    "# that contain oxygen, such as ether, carbonyl, ester, and carboxylic groups.\n",
    "if holes == 1:\n",
    "    if Biochar_Temp == 400:\n",
    "        z = -0.05   # A factor to fix oxygen based on ether, carbonyl, and ester groups\n",
    "        u = 0       # How much of the aliphatic is methyl\n",
    "        b = 0       # How much of the aliphatic is CH2CH3\n",
    "        p = 1       # How much of the aliphatic is (CH2)-(CH2)-CH3\n",
    "        k = 0         # How much of the aliphatic is (CH)3-CH2\n",
    "        h = 0.05    # A factor to fix oxygen based on aliphatic groups\n",
    "        q = -0.01   # A factor to fix oxygen based on defects\n",
    "        g = 1\n",
    "    elif Biochar_Temp == 500:\n",
    "        z = 0.05\n",
    "        u = 1/3\n",
    "        b = 2/3\n",
    "        p = 0\n",
    "        k = 0         \n",
    "        h = 0\n",
    "        q = 0.05\n",
    "        g = 1\n",
    "    elif Biochar_Temp == 600:\n",
    "        z = 0.05\n",
    "        u = 0\n",
    "        b = 0\n",
    "        p = 0\n",
    "        k = 0 \n",
    "        h = 0\n",
    "        q = 0.06\n",
    "        g = 1\n",
    "    elif Biochar_Temp == 700:\n",
    "        z = 0.1\n",
    "        u = 0\n",
    "        b = 0\n",
    "        p = 0\n",
    "        k = 0 \n",
    "        h = 0\n",
    "        q = 0.06\n",
    "        g = 0.98\n",
    "else:\n",
    "    if Biochar_Temp == 400:\n",
    "        z = -0.05   \n",
    "        u = 0       \n",
    "        b = 0       \n",
    "        p = 1  \n",
    "        k = 0 \n",
    "        h = 0.05    \n",
    "        q = 0    \n",
    "        g = 1\n",
    "    elif Biochar_Temp == 500:\n",
    "        z = 0.05\n",
    "        u = 1/3\n",
    "        b = 2/3\n",
    "        p = 0\n",
    "        k = 0 \n",
    "        h = 0\n",
    "        q = 0\n",
    "        g = 1\n",
    "    elif Biochar_Temp == 600:\n",
    "        z = 0.05\n",
    "        u = 0\n",
    "        b = 0\n",
    "        p = 0\n",
    "        k = 0 \n",
    "        h = 0\n",
    "        q = 0\n",
    "        g = 1\n",
    "    elif Biochar_Temp == 700:\n",
    "        z = 0.1\n",
    "        u = 0\n",
    "        b = 0\n",
    "        p = 0\n",
    "        k = 0 \n",
    "        h = 0\n",
    "        q = 0\n",
    "        g = 1"
   ]
  },
  {
   "cell_type": "markdown",
   "id": "8b8ca417",
   "metadata": {},
   "source": [
    "### Fix carbon, nitrogen, oxygen, and hydrogen"
   ]
  },
  {
   "cell_type": "code",
   "execution_count": null,
   "id": "ec9b895e",
   "metadata": {},
   "outputs": [],
   "source": [
    "# Variables\n",
    "c, carb, ester, eth, alip, defe, c_nonar,aro_ring, methyl, ali_chain, hydro, aro, nitro_groups, aniline, pyridin, quaternaryN, MW, oxy, hydroxyl, ali_chain_2, ali_chain_3, fluorine, sulfur, s1, s2, s3, s4, s5 , p1, p2, phosphorus= symbols('c carb ester eth aro_ring c_nonar alip defe methyl ali_chain hydro aro nitro_groups aniline pyridin quaternaryN MW oxy hydroxyl ali_chain_2 ali_chain_3 fluorine s1 s2 s3 s4 s5 sulfur p1 p2 phosphorus')\n",
    "# Equations\n",
    "equations = [\n",
    "    \n",
    "    # Carbon\n",
    "    Eq(c_nonar, (defe+methyl+ali_chain*2+ali_chain_2*3+ali_chain_3*4+carb+ester)),# Non-aromatic carbons in the model\n",
    "    Eq(defe,Defect*c*(1+q)),\n",
    "    Eq(c,(c_nonar+aro_ring)),\n",
    "    Eq(aro,(aro_ring-aniline-ester-carb-eth-fluorine-hydroxyl*0.3)), # Actual number of aromatic carbons in the model\n",
    "    Eq(aro_ring,(c_aromatic-eth-pyridin-quaternaryN)),            # Aromatic carbons removed\n",
    "    Eq(carb, Carbonyl*c*(0.95-z)),                                # Change: aromatic H\n",
    "    Eq(ester, Ester*c*(0.95-z)),                                  # Change: aromatic H\n",
    "    Eq(eth,0.5*Ether*c*(0.95-z)),                                 # Change: aromatic C-H (In multi CP-NMR ether groups count two carbons per oxygen)\n",
    "    Eq(alip, Aliphatic*c*(1-h)),            \n",
    "    Eq(methyl,(alip*u)/1),                                        # Change: aromatic H\n",
    "    Eq(ali_chain,(alip*b)/2),                                     # Change: aromatic H\n",
    "    Eq(ali_chain_2,(alip*p)/3),                                   # Change: aromatic H\n",
    "    Eq(ali_chain_3,(alip*k)/4),                                   # Change: aromatic H\n",
    "    \n",
    "    # Nitrogen\n",
    "    Eq(nitro_groups,(MW*Nitrogen)/14.0067*g),\n",
    "    Eq(aniline,nitro_groups*2/4),                                  # Change: aromatic H\n",
    "    Eq(pyridin,nitro_groups*1/4),                                  # Change: aromatic C-H\n",
    "    Eq(quaternaryN,nitro_groups*1/4),                              # Change: interior C\n",
    "    \n",
    "    # Hydrogen\n",
    "    Eq(hydro,(h_total+methyl*2+ali_chain*4+ali_chain_2*6 + ali_chain_3*4 +nitro_groups*3/4-carb-fluorine-s3-2*(s5+s1+s2)+p1+p2*2)),\n",
    "    \n",
    "    # Oxygen\n",
    "    Eq(hydroxyl,((MW*Oxygen)/15.999)*v),                           # Change: aromatic H\n",
    "    Eq(oxy,hydroxyl+ester*2+carb+eth+3*s4+2*s3+s5+4*p1),\n",
    "\n",
    "    # Fluorine\n",
    "    Eq(fluorine,(MW*Fluorine)/18.998),                             # Change: aromatic H\n",
    "\n",
    "    # Sulfur\n",
    "    Eq(sulfur,(MW*Sulfur)/32.065),                             \n",
    "    Eq(s1,sulfur*Thiophene),                                      # Change: –CH2– or –CH–\n",
    "    Eq(s2,sulfur*Thioether),                                      # Change: –CH2– or –CH–\n",
    "    Eq(s3, sulfur*Sulfonyl),                                      # Change: –CH2– or –CH–\n",
    "    Eq(s4, sulfur*Sulfo),                                         # Change: aromatic H\n",
    "    Eq(s5, sulfur*Sulfinyl),                                      # Change: –CH2– or –CH–\n",
    "\n",
    "    # Phosphorus\n",
    "    Eq(phosphorus,(MW*Phosphorus)/30.974*g),          \n",
    "    Eq(p1,phosphorus*Phosphate),                                  # Change: H\n",
    "    Eq(p2,phosphorus*Phosphite),                                  # Change: H\n",
    "    \n",
    "    # Molecular weight\n",
    "    Eq(MW,(c*12.011+hydro*1.00784+nitro_groups*14.0067+oxy*15.999+fluorine*18.998+sulfur*32.065+phosphorus*30.974))\n",
    "     \n",
    "]\n",
    "\n",
    "# Solve the equations\n",
    "solution = solve(equations, (c, carb, ester, eth, alip, c_nonar ,defe, aro_ring,methyl, ali_chain, hydro, aro, nitro_groups, aniline,pyridin, quaternaryN, MW, oxy, hydroxyl, ali_chain_2, ali_chain_3, fluorine,  sulfur, s1, s2, s3, s4, s5, p1, p2, phosphorus))\n",
    "\n",
    "# Print the solutions\n",
    "print(\"aro =\", round(solution[aro]))\n",
    "print(\"aro_ring =\", round(solution[aro_ring]))\n",
    "print(\"carb =\", round(solution[carb]))\n",
    "print(\"ester =\", round(solution[ester]))\n",
    "print(\"eth =\", round(solution[eth]))\n",
    "print(\"alip =\", math.ceil(solution[alip]))\n",
    "print(\"defe =\", round(solution[defe]))\n",
    "print(\"c_nonar =\", round(solution[c_nonar]))\n",
    "print(\"methyl =\", round(solution[methyl]))\n",
    "print(\"ali_chain =\", math.ceil(solution[ali_chain]))\n",
    "print(\"ali_chain_2 =\", math.ceil(solution[ali_chain_2]))\n",
    "print(\"ali_chain_3 =\", math.ceil(solution[ali_chain_3]))\n",
    "print(\"aniline =\", round(solution[aniline]))\n",
    "print(\"pyridin =\",  math.ceil(solution[pyridin]))\n",
    "print(\"quaternaryN =\", round(solution[quaternaryN]))\n",
    "print(\"Hydroxyl =\", round(solution[hydroxyl]))\n",
    "print(\"Thiophene =\", round(solution[s1]))\n",
    "print(\"Thioether =\", round(solution[s2]))\n",
    "print(\"Sulfonyl =\", round(solution[s3]))\n",
    "print(\"Sulfo =\", round(solution[s4]))\n",
    "print(\"Sulfinyl =\", round(solution[s5]))\n",
    "print(\"Phosphate =\", round(solution[p1]))\n",
    "print(\"Phosphite =\", round(solution[p2]))       \n",
    "print(\"MW =\", round(solution[MW]))\n",
    "print(\"Carbon =\", round(solution[c]))\n",
    "print(\"Hydrogen =\", round(solution[hydro]))\n",
    "print(\"Oxygen =\", round(solution[oxy]))\n",
    "print(\"Nitrogen =\", round(solution[aniline])+math.ceil(solution[pyridin])+round(solution[quaternaryN]))\n",
    "print(\"Fluorine =\", round(solution[fluorine]))\n",
    "print(\"Sulfur =\", round(solution[s1])+round(solution[s2])+round(solution[s3])+round(solution[s4])+round(solution[s5]))\n",
    "print(\"Phosphorus =\", round(solution[p1])+round(solution[p2]))"
   ]
  },
  {
   "cell_type": "markdown",
   "id": "20443c8d",
   "metadata": {},
   "source": [
    "### Create \"holes\" within the structure"
   ]
  },
  {
   "cell_type": "code",
   "execution_count": null,
   "id": "dca39165",
   "metadata": {},
   "outputs": [],
   "source": [
    "if holes == 0:\n",
    "    Internal_C_to_remove=0\n",
    "else:\n",
    "    Internal_C_to_remove = round(c_defect - solution[defe])\n",
    "    print(\"Carbon to remove:\", round(Internal_C_to_remove))"
   ]
  },
  {
   "cell_type": "code",
   "execution_count": null,
   "id": "89673a94-25b4-466e-a826-7c7a13b69126",
   "metadata": {},
   "outputs": [],
   "source": [
    "# Adjust the excess carbon and create more realistic defects in the aromatic structures\n",
    "if Internal_C_to_remove >= (num_objects*0.9):\n",
    "    Internal_C_to_remove_Aro = math.ceil(Internal_C_to_remove*0.9)\n",
    "else:\n",
    "    Internal_C_to_remove_Aro=Internal_C_to_remove\n",
    "print(\"Carbon to remove in aromatic structures:\", Internal_C_to_remove_Aro)"
   ]
  },
  {
   "cell_type": "markdown",
   "id": "2133c94b",
   "metadata": {},
   "source": [
    "### Define cross-links by fixing H/C ratio"
   ]
  },
  {
   "cell_type": "code",
   "execution_count": null,
   "id": "2c23a508",
   "metadata": {},
   "outputs": [],
   "source": [
    "def calculate_Err_H_C(i):\n",
    "    mw = (round(solution[c])-Internal_C_to_remove)* 12.011 + i * 1.00784 + (round(solution[aniline]) + round(solution[pyridin]) + round(solution[quaternaryN]))* 14.0067 + round(solution[oxy])* 15.999 + round(solution[fluorine]) * 18.9984 + round(solution[sulfur]) * 32.065 + round(solution[phosphorus]) * 30.974 \n",
    "    H_C_mod = i/round(solution[c]-Internal_C_to_remove)\n",
    "    Err_H_C = (abs(H_C_mod - H_C) / H_C) * 100\n",
    "    \n",
    "    return Err_H_C\n",
    "\n",
    "# Iterate over possible values of i and find the minimum error for H/C ratio\n",
    "min_error = np.inf\n",
    "best_i = None\n",
    "for i in range(round(system_size)):  \n",
    "    error = calculate_Err_H_C(i)\n",
    "    if error < min_error:\n",
    "        min_error = error\n",
    "        best_i = i\n",
    "\n",
    "print(\"Hydrogen needed:\", best_i)\n",
    "print(\"Error:\", round(min_error,3))"
   ]
  },
  {
   "cell_type": "markdown",
   "id": "b0367225-b2da-4ca0-ab3d-110b4021cd67",
   "metadata": {},
   "source": [
    "Keep in mind that the value of cross-links should be less than half of the total clusters in the system. For example, if you have 100 clusters, the value should be lower than 50. The cross-link value would also be adjusted later in the program because more hydrogen will be included at the end of the modification process due to changing the valence of bonds after the inclusion of the functional groups. "
   ]
  },
  {
   "cell_type": "code",
   "execution_count": null,
   "id": "3957c89e",
   "metadata": {},
   "outputs": [],
   "source": [
    "Hydrogen_to_remove=round(solution[hydro])-best_i\n",
    "if Hydrogen_to_remove < 0:\n",
    "      Hydrogen_to_remove = 0\n",
    "# Estimation of the hydrogen that will be added at the end of the modifications due to the change in valence of the new bonds\n",
    "Hydroadded=round(solution[carb])+round(solution[hydroxyl])+round(solution[ester])+round(solution[ali_chain_2])+ round(solution[ali_chain])+round(solution[methyl]) \n",
    "newhydro=round(solution[hydro]- Hydrogen_to_remove + Hydroadded*0.1)\n",
    "print(\"Hydrogen to remove:\", round(Hydrogen_to_remove + Hydroadded*0.1))\n",
    "crosslinks=round((Hydrogen_to_remove + Hydroadded*0.1)/2)\n",
    "print(\"crosslinks:\", crosslinks)\n",
    "newMW = (round(solution[c])-Internal_C_to_remove)* 12.011 + best_i * 1.00784 + (round(solution[aniline]) + round(solution[pyridin]) + round(solution[quaternaryN]))* 14.0067 + round(solution[oxy]) * 15.999 + round(solution[sulfur]) * 32.065 + round(solution[fluorine])*18.9984 + round(solution[phosphorus]) * 30.974 "
   ]
  },
  {
   "cell_type": "markdown",
   "id": "144f8d9c",
   "metadata": {},
   "source": [
    "### See if you have an excess of oxygen\n"
   ]
  },
  {
   "cell_type": "code",
   "execution_count": null,
   "id": "4ccaf4de",
   "metadata": {},
   "outputs": [],
   "source": [
    "def calculate_Err_O(j):\n",
    "    mw = (solution[c]-Internal_C_to_remove)* 12.011 + best_i * 1.00784 + ((solution[aniline] +solution[pyridin] +solution[quaternaryN])* 14.0067) + j * 15.999 + round(solution[fluorine])*18.9984 + round(solution[sulfur]) * 32.065 + round(solution[phosphorus]) * 30.974  \n",
    "    OxygenMoles = (j * 15.999) / mw\n",
    "    Err_O = (abs(OxygenMoles - Oxygen) / Oxygen)*100\n",
    "    return Err_O\n",
    "\n",
    "# Iterate over possible values of i and find the minimum error for O/C ratio\n",
    "min_error = np.inf\n",
    "best_j = None\n",
    "for j in range(round(system_size)): \n",
    "    error = calculate_Err_O(j)\n",
    "    if error < min_error:\n",
    "        min_error = error\n",
    "        best_j = j\n",
    "\n",
    "print(\"Oxygen needed:\", best_j)\n",
    "print(\"Error:\", round(min_error,3))"
   ]
  },
  {
   "cell_type": "markdown",
   "id": "9aa1c9cb",
   "metadata": {},
   "source": [
    "### Before modifying check: CNMR data"
   ]
  },
  {
   "cell_type": "code",
   "execution_count": null,
   "id": "1062c60d",
   "metadata": {},
   "outputs": [],
   "source": [
    "# Aromatic Carbon\n",
    "Err_C=(abs(((solution[aro]-Internal_C_to_remove_Aro)/(solution[c]-Internal_C_to_remove))-Aromatic)/Aromatic)*100\n",
    "print(\"Aromatic Carbon:\",round(((solution[aro]-Internal_C_to_remove_Aro)/(solution[c]-Internal_C_to_remove)),3))\n",
    "print(\"Error:\",round(Err_C,3))"
   ]
  },
  {
   "cell_type": "code",
   "execution_count": null,
   "id": "42a29d84",
   "metadata": {},
   "outputs": [],
   "source": [
    "# Carbonyl Carbon\n",
    "Err_Car=(abs((solution[carb]/(solution[c]-Internal_C_to_remove))-Carbonyl)/Carbonyl)*100\n",
    "print(\"Carbonyl Carbon\",round(solution[carb]/(solution[c]-Internal_C_to_remove),3))\n",
    "print(\"Error:\",round(Err_Car,3))"
   ]
  },
  {
   "cell_type": "code",
   "execution_count": null,
   "id": "1aa7365e",
   "metadata": {},
   "outputs": [],
   "source": [
    "# Carboxyl and Ester Carbon\n",
    "Err_Carb=(abs((solution[ester]/(solution[c]-Internal_C_to_remove))-Ester)/Ester)*100\n",
    "print(\"Ester Carbon\",round(solution[ester]/(solution[c]-Internal_C_to_remove),3))\n",
    "print(\"Error:\",round(Err_Carb,3))"
   ]
  },
  {
   "cell_type": "code",
   "execution_count": null,
   "id": "2fb21e11",
   "metadata": {},
   "outputs": [],
   "source": [
    "# Ether Carbon\n",
    "Err_ethh=(abs(((solution[eth]*2)/(solution[c]-Internal_C_to_remove))-Ether)/Ether)*100\n",
    "print(\"Ether Carbon\",round((solution[eth]*2)/(solution[c]-Internal_C_to_remove),3))\n",
    "print(\"Error:\",round(Err_ethh,3))"
   ]
  },
  {
   "cell_type": "code",
   "execution_count": null,
   "id": "20deef15",
   "metadata": {},
   "outputs": [],
   "source": [
    "# Aliphatic Carbon\n",
    "Err_ali=(abs((solution[alip]/(solution[c]-Internal_C_to_remove))-Aliphatic)/Aliphatic)*100\n",
    "print(\"Aliphatic Carbon\",round(solution[alip]/(solution[c]-Internal_C_to_remove),3))\n",
    "print(\"Error:\",round(Err_ali,3))"
   ]
  },
  {
   "cell_type": "code",
   "execution_count": null,
   "id": "85b6ec7a",
   "metadata": {},
   "outputs": [],
   "source": [
    "# Defect Carbon\n",
    "Err_defe=(abs((c_defect-Internal_C_to_remove)/(solution[c]-Internal_C_to_remove)-Defect))/Defect*100\n",
    "print(\"Defect Carbon\",round((c_defect-Internal_C_to_remove)/(solution[c]-Internal_C_to_remove),3))\n",
    "print(\"Error:\",round(Err_defe,3))"
   ]
  },
  {
   "cell_type": "markdown",
   "id": "cac59c13",
   "metadata": {},
   "source": [
    "### Before modifying check: Elemental composition "
   ]
  },
  {
   "cell_type": "code",
   "execution_count": null,
   "id": "73e4fd36",
   "metadata": {},
   "outputs": [],
   "source": [
    "# Carbon\n",
    "Elem_c=((solution[c]-Internal_C_to_remove)*12.011)/newMW\n",
    "print(\"Carbon:\",round(Elem_c,4))\n",
    "Err_elemc=(abs(Elem_c-Carbon)/Carbon)*100\n",
    "print(\"Error:\",round(Err_elemc,3))"
   ]
  },
  {
   "cell_type": "code",
   "execution_count": null,
   "id": "8db7c8ba",
   "metadata": {},
   "outputs": [],
   "source": [
    "# Nitrogen\n",
    "Elem_n=(solution[nitro_groups]*14.0067)/newMW\n",
    "print(\"Nitrogen:\",round(Elem_n,4))\n",
    "Err_elemn=(abs(Elem_n-Nitrogen)/Nitrogen)*100\n",
    "print(\"Error:\",round(Err_elemn,3))"
   ]
  },
  {
   "cell_type": "code",
   "execution_count": null,
   "id": "026b10c9",
   "metadata": {},
   "outputs": [],
   "source": [
    "# Oxygen\n",
    "Elem_o=((round(solution[carb])+round(solution[ester])*2+ round(solution[eth]) +round(solution[hydroxyl]))*15.999)/newMW\n",
    "print(\"Oxygen:\",round(Elem_o,3))\n",
    "Err_elemo=(abs(Elem_o-Oxygen)/Oxygen)*100\n",
    "print(\"Error:\",round(Err_elemo,3))"
   ]
  },
  {
   "cell_type": "code",
   "execution_count": null,
   "id": "67a92ee5",
   "metadata": {},
   "outputs": [],
   "source": [
    "# Hydrogen\n",
    "Elem_h=(newhydro*1.00784)/newMW\n",
    "print(\"Hydrogen:\",round(Elem_h,3))\n",
    "Err_elemh=(abs(Elem_h-Hydrogen)/Hydrogen)*100\n",
    "print(\"Error:\",round(Err_elemh,3))"
   ]
  },
  {
   "cell_type": "code",
   "execution_count": null,
   "id": "96cc1b7e-44cd-4fe6-85bc-349bd2a68faf",
   "metadata": {},
   "outputs": [],
   "source": [
    "# Fluorine\n",
    "Elem_f=(round(solution[fluorine])*18.9984)/newMW\n",
    "print(\"Fluorine:\",round(Elem_f,4))\n",
    "if Elem_f==0:\n",
    "    Err_elemf=0\n",
    "else:\n",
    "    Err_elemf=(abs(Elem_f-Fluorine)/Fluorine)*100\n",
    "print(\"Error:\",round(Err_elemf,3))"
   ]
  },
  {
   "cell_type": "code",
   "execution_count": null,
   "id": "055d4572-ce93-4de7-bd77-0f2befa581bc",
   "metadata": {},
   "outputs": [],
   "source": [
    "# Sulfur\n",
    "Elem_s=(round(solution[sulfur])*32.06)/newMW\n",
    "print(\"Sulfur:\",round(Elem_s,4))\n",
    "if Elem_s==0:\n",
    "    Err_elems=0\n",
    "else:\n",
    "    Err_elems=(abs(Elem_s-Sulfur)/Sulfur)*100\n",
    "print(\"Error:\",round(Err_elems,3))"
   ]
  },
  {
   "cell_type": "code",
   "execution_count": null,
   "id": "197a8591-5935-4248-bad9-2ebbde2f1745",
   "metadata": {},
   "outputs": [],
   "source": [
    "# Phosphorus\n",
    "Elem_p=(round(solution[phosphorus])*30.974)/newMW\n",
    "print(\"Phosphorus:\",round(Elem_p,3))\n",
    "if Elem_p==0:\n",
    "    Err_elemp=0\n",
    "else:\n",
    "    Err_elemp=(abs(Elem_p-Phosphorus)/Phosphorus)*100\n",
    "print(\"Error:\",round(Err_elemp,3))"
   ]
  },
  {
   "cell_type": "markdown",
   "id": "1aa048e9",
   "metadata": {},
   "source": [
    "## Step 4: Modify structures and include functional groups"
   ]
  },
  {
   "cell_type": "code",
   "execution_count": null,
   "id": "653cfec0",
   "metadata": {},
   "outputs": [],
   "source": [
    "object_masses= builder.Get_Object_Masses()\n",
    "object_names = list(object_masses.keys())\n",
    "while not object_names:\n",
    "    object_masses = builder.Get_Object_Masses()\n",
    "    object_names = list(object_masses.keys())"
   ]
  },
  {
   "cell_type": "markdown",
   "id": "d095b482",
   "metadata": {},
   "source": [
    "### Include Ether Groups"
   ]
  },
  {
   "cell_type": "code",
   "execution_count": null,
   "id": "fb53919c",
   "metadata": {},
   "outputs": [],
   "source": [
    "atom_counts = {}\n",
    "elements = [\"C\", \"H\", \"N\", \"O\", \"S\", \"P\", \"F\"]\n",
    "\n",
    "for element in elements:\n",
    "    count = cmd.select(f\"elem {element}\")\n",
    "    atom_counts[element] = count\n",
    "c_totali= atom_counts[\"C\"]\n",
    "h_totali= atom_counts[\"H\"]\n",
    "\n",
    "for element, count in atom_counts.items():\n",
    "    print(f\"Element {element}: {count}\")"
   ]
  },
  {
   "cell_type": "code",
   "execution_count": null,
   "id": "1e06920f-0bcc-4421-82a3-631c3c350324",
   "metadata": {},
   "outputs": [],
   "source": [
    "object_names = list(object_masses.keys())\n",
    "modified_ether = []\n",
    "\n",
    "if Biochar_Temp == 400:\n",
    "    k1 = 0.85\n",
    "elif Biochar_Temp == 500:\n",
    "    k1 = 0.9\n",
    "else:\n",
    "    k1 = 1\n",
    "\n",
    "num_molecules = round(solution[eth]*k1)\n",
    "\n",
    "excluded_prefixes = [\"circumovalene\",\"circumcoronene\",\"circumpyrene\",\"pentatriacotaene\", \"circumcircumpyrene\",\"C84\"]\n",
    "filtered_object_names = [name for name in object_names if any(name.startswith(prefix) for prefix in excluded_prefixes)]\n",
    "\n",
    "if num_molecules > len(filtered_object_names):\n",
    "    molecules_to_edit = random.choices(filtered_object_names, k=num_molecules)\n",
    "else:\n",
    "    molecules_to_edit = random.sample(filtered_object_names, num_molecules)\n",
    "\n",
    "for mol_to_edit in molecules_to_edit:\n",
    "    \n",
    "    while True:\n",
    "        \n",
    "        # Get available carbon types\n",
    "        c_aro_types = builder.examine_main(mol_to_edit)\n",
    "\n",
    "        if len(c_aro_types['O_2n']) <= round(O_C*60):\n",
    "            break  # Condition met, proceed to modify the molecule\n",
    "        \n",
    "        # Select a new molecule from the list\n",
    "        mol_to_edit = random.choice(filtered_object_names)\n",
    "    \n",
    "    cmd.select(\"carbon_not_bonded_to_oxygen\", f\"({mol_to_edit} and elem C and neighbor (elem H) and not neighbor (elem O))\")\n",
    "\n",
    "    # Get the selection of carbon atoms not bonded to oxygen\n",
    "    selection_dict = cmd.get_model(\"carbon_not_bonded_to_oxygen\")\n",
    "        \n",
    "    c_choices = [atom[\"index\"] for atom in selection_dict[\"atom\"] if atom[\"name\"].startswith(\"C\")]\n",
    "    \n",
    "    while True:\n",
    "        value=random.choice(c_aro_types['C_2n'])\n",
    "        if value in c_choices:\n",
    "            break\n",
    "\n",
    "    # Attach Ether group \n",
    "    object_ether = builder.Change_Element_CtoO(mol_to_edit,value)\n",
    "    modified_ether.append(object_ether)"
   ]
  },
  {
   "cell_type": "code",
   "execution_count": null,
   "id": "4e522df4-2ca0-4b8f-8151-bc6e0cb68ce5",
   "metadata": {},
   "outputs": [],
   "source": [
    "object_names = list(object_masses.keys())\n",
    "modified_ether = []\n",
    "\n",
    "if Biochar_Temp == 400:\n",
    "    k = 0.15\n",
    "elif Biochar_Temp == 500:\n",
    "    k = 0.1\n",
    "else:\n",
    "    k = 0\n",
    "\n",
    "num_molecules = round(solution[eth]*k)\n",
    "\n",
    "excluded_prefixes = [\"circumovalene\",\"circumcoronene\",\"circumpyrene\",\"pentatriacotaene\", \"circumcircumpyrene\",\"C84\",\"defect\"]\n",
    "filtered_object_names = [name for name in object_names if not any(name.startswith(prefix) for prefix in excluded_prefixes)]\n",
    "\n",
    "if num_molecules > len(filtered_object_names):\n",
    "    molecules_to_edit = random.choices(filtered_object_names, k=num_molecules)\n",
    "else:\n",
    "    molecules_to_edit = random.sample(filtered_object_names, num_molecules)\n",
    "\n",
    "\n",
    "for mol_to_edit in molecules_to_edit:\n",
    "    \n",
    "    while True:\n",
    "        \n",
    "        # Get available carbon types\n",
    "        c_aro_types = builder.examine_main(mol_to_edit)\n",
    "\n",
    "        if len(c_aro_types['O_2n']) <= round(O_C*20):\n",
    "            break  # Condition met, proceed to modify the molecule\n",
    "        \n",
    "        # Select a new molecule from the list\n",
    "        mol_to_edit = random.choice(filtered_object_names)\n",
    "    \n",
    "    cmd.select(\"carbon_not_bonded_to_oxygen\", f\"({mol_to_edit} and elem C and neighbor (elem H) and not neighbor (elem O))\")\n",
    "\n",
    "    # Get the selection of carbon atoms not bonded to oxygen\n",
    "    selection_dict = cmd.get_model(\"carbon_not_bonded_to_oxygen\")\n",
    "        \n",
    "    c_choices = [atom[\"index\"] for atom in selection_dict[\"atom\"] if atom[\"name\"].startswith(\"C\")]\n",
    "    \n",
    "    while True:\n",
    "        value=random.choice(c_aro_types['C_2n'])\n",
    "        if value in c_choices:\n",
    "            break\n",
    "\n",
    "    # Attach Ether group \n",
    "    object_ether = builder.Change_Element_CtoO(mol_to_edit,value)\n",
    "    modified_ether.append(object_ether)"
   ]
  },
  {
   "cell_type": "code",
   "execution_count": null,
   "id": "b90c6ae6",
   "metadata": {},
   "outputs": [],
   "source": [
    "atom_counts = {}\n",
    "elements = [\"C\", \"H\", \"N\", \"O\", \"S\", \"P\", \"F\"]\n",
    "\n",
    "for element in elements:\n",
    "    count = cmd.select(f\"elem {element}\")\n",
    "    atom_counts[element] = count\n",
    "c_total= atom_counts[\"C\"]\n",
    "h_total= atom_counts[\"H\"]\n",
    "o_total= atom_counts[\"O\"]\n",
    "\n",
    "for element, count in atom_counts.items():\n",
    "    print(f\"Element {element}: {count}\")"
   ]
  },
  {
   "cell_type": "markdown",
   "id": "2104cc82",
   "metadata": {},
   "source": [
    "#### Check these values: Should be zero\n"
   ]
  },
  {
   "cell_type": "code",
   "execution_count": null,
   "id": "9fc70fe6",
   "metadata": {},
   "outputs": [],
   "source": [
    "cmd.select(\"carbon_bonded_to_oxygen\", \"elem O and neighbor elem O\")"
   ]
  },
  {
   "cell_type": "code",
   "execution_count": null,
   "id": "af78b9e2-8305-45c0-aa61-db0db6c274d4",
   "metadata": {},
   "outputs": [],
   "source": [
    "check_ether_o=o_total-round(solution[eth]*k)-round(solution[eth]*k1)\n",
    "print(check_ether_o)\n",
    "check_ether_c=c_totali-c_total-round(solution[eth]*k)-round(solution[eth]*k1)\n",
    "print(check_ether_c)"
   ]
  },
  {
   "cell_type": "markdown",
   "id": "5e963289",
   "metadata": {},
   "source": [
    "###  Include Pyridinic Group "
   ]
  },
  {
   "cell_type": "code",
   "execution_count": null,
   "id": "8a75623d-aafc-43dd-8e17-0d2944f8068c",
   "metadata": {},
   "outputs": [],
   "source": [
    "object_names = list(object_masses.keys())\n",
    "modified_pyridin = []\n",
    "\n",
    "num_molecules = math.ceil(solution[pyridin])\n",
    "\n",
    "excluded_prefixes = [\"dibenzofuran\",\"defect\",\"benzo_a_fluorene\", \"benzo_b_fluorene\",\"benzene\",\"naphthalene\",\"dibenzofuran\",\"phenalene\", \"phenanthrene\",\"anthracene\",\"pyrene\",\"benzo_g_h_i_perylene\",\"benzo_a_pyrene\",\"perylene\",\"chrysene\",\"defect\"]\n",
    "filtered_object_names = [name for name in object_names if not any(name.startswith(prefix) for prefix in excluded_prefixes)]\n",
    "\n",
    "# Select a specific number of molecules from the filtered list\n",
    "if num_molecules > len(filtered_object_names):\n",
    "    molecules_to_edit = random.choices(filtered_object_names, k=num_molecules)\n",
    "else:\n",
    "    molecules_to_edit = random.sample(filtered_object_names, num_molecules)\n",
    "\n",
    "\n",
    "# Loop over each selected molecule\n",
    "for mol_to_edit in molecules_to_edit:\n",
    "    \n",
    "    while True:\n",
    "        \n",
    "        # Get available carbon types\n",
    "        n_types = builder.examine_main(mol_to_edit)\n",
    "\n",
    "        if len(n_types['N_2n'])<1:\n",
    "            break  # Condition met, proceed to modify the molecule\n",
    "        \n",
    "        # Select a new molecule from the list\n",
    "        mol_to_edit = random.choice(filtered_object_names)\n",
    "    \n",
    "    cmd.select(\"nitrogen_not_bonded_to_nitrogen\", f\"({mol_to_edit} and elem C and neighbor (elem H) and not neighbor (elem O))\")\n",
    "\n",
    "    # Get the selection of carbon atoms not bonded to oxygen\n",
    "    selection_dict = cmd.get_model(\"nitrogen_not_bonded_to_nitrogen\")\n",
    "        \n",
    "    n_choices = [atom[\"index\"] for atom in selection_dict[\"atom\"] if atom[\"name\"].startswith(\"C\")]\n",
    "    \n",
    "    while True:\n",
    "        value_n=random.choice(n_types['C_2n'])\n",
    "        if value_n in n_choices:\n",
    "            break\n",
    "\n",
    "    # Attach Pyridinic group \n",
    "    object_pyridin = cmd.alter(f'{mol_to_edit} and index {value_n}', 'elem=\"N\"')\n",
    "    object_pyridin = cmd.alter(f'{mol_to_edit} and index {value_n}', 'text_type=\"N.2\"')\n",
    "    object_pyridin = cmd.alter(f'{mol_to_edit} and index {value_n}', 'name=\"N\"')\n",
    "\n",
    "    # Store the modified Pyridinic\n",
    "    modified_pyridin.append(object_pyridin)\n",
    "    h_types = builder.examine_h(mol_to_edit)\n",
    "    h_choice = random.choice(h_types['Aliphatic_N_inRing'])\n",
    "    object_pyridin = cmd.remove(f'{mol_to_edit} and index {h_choice}')\n",
    "\n",
    "    # Store the modified Pyridinic\n",
    "    modified_pyridin.append(object_pyridin)"
   ]
  },
  {
   "cell_type": "code",
   "execution_count": null,
   "id": "aa8cea55",
   "metadata": {},
   "outputs": [],
   "source": [
    "atom_counts = {}\n",
    "elements = [\"C\", \"H\", \"N\", \"O\"]\n",
    "\n",
    "for element in elements:\n",
    "    count = cmd.select(f\"elem {element}\")\n",
    "    atom_counts[element] = count\n",
    "n_total= atom_counts[\"N\"]\n",
    "h_totali= atom_counts[\"H\"]\n",
    "\n",
    "for element, count in atom_counts.items():\n",
    "    print(f\"Element {element}: {count}\")"
   ]
  },
  {
   "cell_type": "markdown",
   "id": "41f56d52",
   "metadata": {},
   "source": [
    "#### Check these values: Should be zero\n"
   ]
  },
  {
   "cell_type": "code",
   "execution_count": null,
   "id": "366689e8",
   "metadata": {},
   "outputs": [],
   "source": [
    "check_n=n_total-math.ceil(solution[pyridin])\n",
    "print(check_n)"
   ]
  },
  {
   "cell_type": "code",
   "execution_count": null,
   "id": "9d8984ce",
   "metadata": {},
   "outputs": [],
   "source": [
    "cmd.select(\"nitrogen_bonded_to_oxygen_nitrogen\", \"elem N and neighbor elem O\")"
   ]
  },
  {
   "cell_type": "code",
   "execution_count": null,
   "id": "11a3c9e7",
   "metadata": {},
   "outputs": [],
   "source": [
    "cmd.select(\"nitrogen_bonded_nitrogen\", \"elem N and neighbor elem N\")"
   ]
  },
  {
   "cell_type": "markdown",
   "id": "8bb9b22a-8db6-4d53-9fb6-26af57951f4d",
   "metadata": {},
   "source": [
    "### Include Fluorine "
   ]
  },
  {
   "cell_type": "code",
   "execution_count": null,
   "id": "0901c299-0a26-4cee-ab0f-9a99ddebd3ba",
   "metadata": {},
   "outputs": [],
   "source": [
    "object_names = list(object_masses.keys())\n",
    "modified_fluorine = []\n",
    "\n",
    "num_molecules = round(solution[fluorine])\n",
    "\n",
    "excluded_prefixes = [\"defect\"]\n",
    "filtered_object_names = [name for name in object_names if not any(name.startswith(prefix) for prefix in excluded_prefixes)]\n",
    "\n",
    "if num_molecules > len(filtered_object_names):\n",
    "    molecules_to_edit = random.choices(filtered_object_names, k=num_molecules)\n",
    "else:\n",
    "    molecules_to_edit = random.sample(filtered_object_names, num_molecules)\n",
    "\n",
    "for mol_to_edit in molecules_to_edit:\n",
    "    \n",
    "    # Get available hydrogen types\n",
    "    while True:\n",
    "        \n",
    "        # Get available carbon types\n",
    "        f_types = builder.examine_main(mol_to_edit)\n",
    "\n",
    "        if len(f_types['F_1n'])<=1:\n",
    "            break  # Condition met, proceed to modify the molecule\n",
    "        \n",
    "        mol_to_edit = random.choice(filtered_object_names)\n",
    "    \n",
    "    h_types = builder.examine_h(mol_to_edit)\n",
    "    \n",
    "    # Check if the molecule has 'Aliphatic_C_inRing' oxygen type\n",
    "    if len(h_types['Aliphatic_C_inRing']) == 0:\n",
    "        h_choice = random.choice(h_types['Aliphatic_C'])\n",
    "    else: \n",
    "        h_choice = random.choice(h_types['Aliphatic_C_inRing'])\n",
    "\n",
    "        # Attach Fluorine\n",
    "        object_fluorine = builder.Attach_Fluorine(mol_to_edit, h_choice)\n",
    "    modified_fluorine.append(object_fluorine)"
   ]
  },
  {
   "cell_type": "code",
   "execution_count": null,
   "id": "f0d04563-d066-4edf-a8a6-20aba350fd7b",
   "metadata": {},
   "outputs": [],
   "source": [
    "atom_counts = {}\n",
    "elements = [\"C\", \"H\", \"N\", \"O\", \"S\", \"P\", \"F\"]\n",
    "\n",
    "for element in elements:\n",
    "    count = cmd.select(f\"elem {element}\")\n",
    "    atom_counts[element] = count\n",
    "f_total= atom_counts[\"F\"]\n",
    "for element, count in atom_counts.items():\n",
    "    print(f\"Element {element}: {count}\")"
   ]
  },
  {
   "cell_type": "markdown",
   "id": "fea4d2c1-7622-46b0-84de-77c0ef797ea6",
   "metadata": {},
   "source": [
    "#### Check these values: Should be zero"
   ]
  },
  {
   "cell_type": "code",
   "execution_count": null,
   "id": "60f00016-acae-46f3-9a96-ed90d073e55f",
   "metadata": {},
   "outputs": [],
   "source": [
    "cmd.do('colour')\n",
    "check_f=f_total-round(solution[fluorine])\n",
    "print(check_f)"
   ]
  },
  {
   "cell_type": "code",
   "execution_count": null,
   "id": "a719d362-6912-4fea-a87b-bcc444a9d6d7",
   "metadata": {},
   "outputs": [],
   "source": [
    "cmd.select(\"fluorine_bonded_to_oxygen\", \"elem F and neighbor elem O\")"
   ]
  },
  {
   "cell_type": "code",
   "execution_count": null,
   "id": "2820b62e-800d-43ea-bea7-13ca661bcd7f",
   "metadata": {},
   "outputs": [],
   "source": [
    "cmd.select(\"fluorine_bonded_to_fluorine\", \"elem F and neighbor elem F\")"
   ]
  },
  {
   "cell_type": "markdown",
   "id": "b43d32f7-1de4-4d4d-a527-588301b0b0a1",
   "metadata": {},
   "source": [
    "### Include Sulfonyl"
   ]
  },
  {
   "cell_type": "code",
   "execution_count": null,
   "id": "0b8d5694-be2b-4a03-86c2-4fae8dfb5271",
   "metadata": {},
   "outputs": [],
   "source": [
    "object_names = list(object_masses.keys())\n",
    "modified_sulfonyl = []\n",
    "\n",
    "num_molecules = round(solution[s3])\n",
    "\n",
    "if num_molecules > len(object_names):\n",
    "    molecules_to_edit = random.choices(object_names, k=num_molecules)\n",
    "else:\n",
    "    molecules_to_edit = random.sample(object_names, num_molecules)\n",
    "\n",
    "for mol_to_edit in molecules_to_edit:\n",
    "    \n",
    "    while True:\n",
    "        \n",
    "        # Get available carbon types\n",
    "        ss_types = builder.examine_main(mol_to_edit)\n",
    "\n",
    "        if len(ss_types['S_4n'])==0:\n",
    "            break  # Condition met, proceed to modify the molecule\n",
    "        \n",
    "        # Select a new molecule from the list\n",
    "        mol_to_edit = random.choice(object_names)\n",
    "    \n",
    "    cmd.select(\"carbon_not_bonded_to_O\", f\"({mol_to_edit} and elem C and neighbor (elem H) and not neighbor (elem O))\")\n",
    "\n",
    "    # Get the selection of carbon atoms not bonded to oxygen\n",
    "    selection_dict = cmd.get_model(\"carbon_not_bonded_to_O\")\n",
    "        \n",
    "    c_choices = [atom[\"index\"] for atom in selection_dict[\"atom\"] if atom[\"name\"].startswith(\"C\")]\n",
    "    \n",
    "    while True:\n",
    "        value = random.choice(ss_types['C_2n'])\n",
    "        if value in c_choices:\n",
    "            break\n",
    "\n",
    "    # Attach Sulfur\n",
    "    object_sulfonyl = builder.Change_Element_CtoS(mol_to_edit, value)\n",
    "    modified_sulfonyl.append(object_sulfonyl)\n",
    "    s_types = builder.examine_main(mol_to_edit)\n",
    "    s_choice = s_types['S_2n']\n",
    "    molecule = mol_to_edit\n",
    "    \n",
    "    for s_index in s_choice:\n",
    "        \n",
    "        cmd.select(f\"at1_{s_index}\", f\"{mol_to_edit} & index {s_index}\")\n",
    "        \n",
    "        for oxygen_number in range(2):  # Loop to add two oxygen atoms\n",
    "            \n",
    "            cmd.do(f'load ./functional_groups/O.mol2')\n",
    "            cmd.select(f\"at2_O{oxygen_number + 1}\", \"O & name O01\")\n",
    "        \n",
    "            if cmd.count_atoms(f\"at1_{s_index}\") == 1 and cmd.count_atoms(f\"at2_O{oxygen_number + 1}\") == 1:\n",
    "                # Edit, fuse, and bond\n",
    "                cmd.do(f'edit at2_O{oxygen_number + 1}, at1_{s_index}')\n",
    "                cmd.do('fuse')\n",
    "                cmd.do(f'bond at1_{s_index} at2_O{oxygen_number + 1} type double')\n",
    "                cmd.do('unpick')\n",
    "                cmd.do('rebuild all')\n",
    "                cmd.do(f'zoom {mol_to_edit}')\n",
    "                cmd.do(f'clean {mol_to_edit}')\n",
    "            else:\n",
    "                print(f\"Invalid selection(s) for index {s_index}\")\n",
    "            \n",
    "            cmd.delete(f\"at2_O{oxygen_number + 1}\")\n",
    "            cmd.delete(\"O\")\n",
    "    \n",
    "    cmd.do('set sphere_scale, 0.2, (all)')\n",
    "    cmd.do('set_bond stick_radius, 0.14, (all), (all)')\n",
    "    cmd.do('show sticks')\n",
    "    cmd.do('show spheres')\n",
    "    modified_sulfonyl.append(object_sulfonyl)"
   ]
  },
  {
   "cell_type": "code",
   "execution_count": null,
   "id": "3883b9fe-50cd-4dc0-af24-2860b9706229",
   "metadata": {},
   "outputs": [],
   "source": [
    "for name in cmd.get_names(\"all\"):\n",
    "    if name.startswith(\"at1_\"):\n",
    "        cmd.delete(name)"
   ]
  },
  {
   "cell_type": "code",
   "execution_count": null,
   "id": "6e2952b8-2c53-4210-a0d7-71431c3c7f73",
   "metadata": {},
   "outputs": [],
   "source": [
    "atom_counts = {}\n",
    "elements = [\"C\", \"H\", \"N\", \"O\", \"S\", \"P\", \"F\"]\n",
    "\n",
    "for element in elements:\n",
    "    count = cmd.select(f\"elem {element}\")\n",
    "    atom_counts[element] = count\n",
    "s_total = atom_counts[\"S\"]\n",
    "o_total2 = atom_counts[\"O\"]\n",
    "for element, count in atom_counts.items():\n",
    "    print(f\"Element {element}: {count}\")"
   ]
  },
  {
   "cell_type": "markdown",
   "id": "0fcd34f6-360b-46c7-b4fb-2d2544585816",
   "metadata": {},
   "source": [
    "#### Check these values: Should be zero"
   ]
  },
  {
   "cell_type": "code",
   "execution_count": null,
   "id": "01a07fc3-5b55-469f-a51b-7c7ce3bad392",
   "metadata": {},
   "outputs": [],
   "source": [
    "check_s=s_total-round(solution[s3])\n",
    "print(check_s)"
   ]
  },
  {
   "cell_type": "code",
   "execution_count": null,
   "id": "965081cd-8054-43cd-912b-ee7bf36ee5a8",
   "metadata": {},
   "outputs": [],
   "source": [
    "check_o=o_total2-o_total-round(solution[s3])*2\n",
    "print(check_o)"
   ]
  },
  {
   "cell_type": "code",
   "execution_count": null,
   "id": "7d337e7d-8889-4331-a7da-b96f99c21df7",
   "metadata": {},
   "outputs": [],
   "source": [
    "cmd.select(\"sulfur_bonded_to_nitrogen\", \"elem S and neighbor elem N\")"
   ]
  },
  {
   "cell_type": "code",
   "execution_count": null,
   "id": "814e095e-a0d6-47f7-98be-a321678723e0",
   "metadata": {},
   "outputs": [],
   "source": [
    "cmd.select(\"sulfur_bonded_to_sulfur\", \"elem S and neighbor elem S\")"
   ]
  },
  {
   "cell_type": "markdown",
   "id": "fc4d6f51-3ed7-4d6e-af1b-86e70ff6cf14",
   "metadata": {},
   "source": [
    "### Include Sulfinyl"
   ]
  },
  {
   "cell_type": "code",
   "execution_count": null,
   "id": "e9e89961-04a1-44af-bd93-29857d9b3d87",
   "metadata": {},
   "outputs": [],
   "source": [
    "object_names = list(object_masses.keys())\n",
    "modified_sulfinyl = []\n",
    "\n",
    "num_molecules =round(solution[s5])\n",
    "\n",
    "if num_molecules > len(object_names):\n",
    "    molecules_to_edit = random.choices(object_names, k=num_molecules)\n",
    "else:\n",
    "    molecules_to_edit = random.sample(object_names, num_molecules)\n",
    "\n",
    "for mol_to_edit in molecules_to_edit:\n",
    "    \n",
    "    while True:\n",
    "        \n",
    "        # Get available carbon types\n",
    "        ss_types = builder.examine_main(mol_to_edit)\n",
    "\n",
    "        if len(ss_types['S_3n']) ==0 and len(ss_types['S_4n']) ==0:\n",
    "            break  # Condition met, proceed to modify the molecule\n",
    "        \n",
    "        # Select a new molecule from the list\n",
    "        mol_to_edit = random.choice(object_names)\n",
    "           \n",
    "    cmd.select(\"carbon_not_bonded_to_S_O\", f\"({mol_to_edit} and elem C and neighbor (elem H) and not neighbor (elem O))\")\n",
    "\n",
    "    # Get the selection of carbon atoms not bonded to oxygen\n",
    "    selection_dict = cmd.get_model(\"carbon_not_bonded_to_S_O\")\n",
    "        \n",
    "    c_choices = [atom[\"index\"] for atom in selection_dict[\"atom\"] if atom[\"name\"].startswith(\"C\")]\n",
    "    \n",
    "    while True:\n",
    "        value = random.choice(ss_types['C_2n'])\n",
    "        if value in c_choices:\n",
    "            break\n",
    "\n",
    "    # Attach Sulfur\n",
    "    object_sulfinyl = builder.Change_Element_CtoS(mol_to_edit, value)\n",
    "    modified_sulfinyl.append(object_sulfinyl)\n",
    "    s_types = builder.examine_main(mol_to_edit)\n",
    "    s_choice = s_types['S_2n']\n",
    "    \n",
    "    for s_index in s_choice:\n",
    "        \n",
    "        cmd.select(f\"at1_{s_index}\", f\"{mol_to_edit} & index {s_index}\")\n",
    "        \n",
    "        for oxygen_number in range(1):  # Loop to add one oxygen atom\n",
    "            \n",
    "            cmd.do(f'load ./functional_groups/O.mol2')\n",
    "            cmd.select(f\"at2_O{oxygen_number + 1}\", \"O & name O01\")\n",
    "        \n",
    "            if cmd.count_atoms(f\"at1_{s_index}\") == 1 and cmd.count_atoms(f\"at2_O{oxygen_number + 1}\") == 1:\n",
    "                # Edit, fuse, and bond\n",
    "                cmd.do(f'edit at2_O{oxygen_number + 1}, at1_{s_index}')\n",
    "                cmd.do('fuse')\n",
    "                cmd.do(f'bond at1_{s_index} at2_O{oxygen_number + 1} type double')\n",
    "                cmd.do('unpick')\n",
    "                cmd.do('rebuild all')\n",
    "                cmd.do(f'zoom {mol_to_edit}')\n",
    "                cmd.do(f'clean {mol_to_edit}')\n",
    "            else:\n",
    "                print(f\"Invalid selection(s) for index {s_index}\")\n",
    "            \n",
    "            cmd.delete(f\"at2_O{oxygen_number + 1}\")\n",
    "            cmd.delete(\"O\")\n",
    "    \n",
    "    cmd.do('set sphere_scale, 0.2, (all)')\n",
    "    cmd.do('set_bond stick_radius, 0.14, (all), (all)')\n",
    "    cmd.do('show sticks')\n",
    "    cmd.do('show spheres')\n",
    "    modified_sulfinyl.append(object_sulfinyl)"
   ]
  },
  {
   "cell_type": "code",
   "execution_count": null,
   "id": "e7eb7e8a-f3e3-424a-a714-74ac9c0ef907",
   "metadata": {},
   "outputs": [],
   "source": [
    "for name in cmd.get_names(\"all\"):\n",
    "    if name.startswith(\"at1_\"):\n",
    "        cmd.delete(name)"
   ]
  },
  {
   "cell_type": "code",
   "execution_count": null,
   "id": "2bf9ffd9-5367-45c2-91d5-6579df5ba563",
   "metadata": {},
   "outputs": [],
   "source": [
    "atom_counts = {}\n",
    "elements = [\"C\", \"H\", \"N\", \"O\", \"S\", \"P\", \"F\"]\n",
    "\n",
    "for element in elements:\n",
    "    count = cmd.select(f\"elem {element}\")\n",
    "    atom_counts[element] = count\n",
    "s_total2 = atom_counts[\"S\"]\n",
    "o_total3 = atom_counts[\"O\"]\n",
    "for element, count in atom_counts.items():\n",
    "    print(f\"Element {element}: {count}\")"
   ]
  },
  {
   "cell_type": "markdown",
   "id": "ad6ceef7-b726-47e8-a8f0-d3c8d6778beb",
   "metadata": {},
   "source": [
    "#### Check these values: Should be zero"
   ]
  },
  {
   "cell_type": "code",
   "execution_count": null,
   "id": "14812c0d-8f04-4f8d-adfc-1b556297c637",
   "metadata": {},
   "outputs": [],
   "source": [
    "check_s=s_total2-round(solution[s3])-round(solution[s5])\n",
    "print(check_s)"
   ]
  },
  {
   "cell_type": "code",
   "execution_count": null,
   "id": "46a00341-208d-4f77-8a0f-9f806a7b1d29",
   "metadata": {},
   "outputs": [],
   "source": [
    "check_o=o_total3-o_total2-round(solution[s3])\n",
    "print(check_o)"
   ]
  },
  {
   "cell_type": "code",
   "execution_count": null,
   "id": "47c7c9fd-b5c4-44df-b641-47dee0fa2e41",
   "metadata": {},
   "outputs": [],
   "source": [
    "cmd.select(\"sulfur_bonded_to_nitrogen\", \"elem S and neighbor elem N\")"
   ]
  },
  {
   "cell_type": "code",
   "execution_count": null,
   "id": "5bb7ab69-778b-4979-8997-d4078e8b7c76",
   "metadata": {},
   "outputs": [],
   "source": [
    "cmd.select(\"sulfur_bonded_to_sulfur\", \"elem S and neighbor elem S\")"
   ]
  },
  {
   "cell_type": "markdown",
   "id": "d6defb40-4332-4b56-82a6-09f56e48d611",
   "metadata": {},
   "source": [
    "### Include Thiophene "
   ]
  },
  {
   "cell_type": "code",
   "execution_count": null,
   "id": "e63d2f94-a260-43c7-bcee-99a7f7ad20d0",
   "metadata": {},
   "outputs": [],
   "source": [
    "object_names = list(object_masses.keys())\n",
    "modified_thiophene = []\n",
    "\n",
    "num_molecules = round(solution[s1] * 0.6)\n",
    "\n",
    "excluded_prefixes = [\"defect\"]\n",
    "filtered_object_names = [name for name in object_names if any(name.startswith(prefix) for prefix in excluded_prefixes)]\n",
    "\n",
    "if num_molecules > len(filtered_object_names):\n",
    "    molecules_to_edit = random.choices(filtered_object_names, k=num_molecules)\n",
    "else:\n",
    "    molecules_to_edit = random.sample(filtered_object_names, num_molecules)\n",
    "\n",
    "for mol_to_edit in molecules_to_edit:\n",
    "    \n",
    "    while True:\n",
    "        # Get available carbon types\n",
    "        ss_types = builder.examine_main(mol_to_edit)\n",
    "\n",
    "        if len(ss_types['S_1n']) <= 1 and len(ss_types['S_2n']) <= 4 and len(ss_types['S_3n']) <= 2 and len(ss_types['S_4n']) <= 1:\n",
    "            break  # Condition met, proceed to modify the molecule\n",
    "        \n",
    "        # Select a new molecule from the list\n",
    "        mol_to_edit = random.choice(filtered_object_names)\n",
    "    \n",
    "    cmd.select(\"C_not_bonded_to_S_O_N\", f\"({mol_to_edit} and elem C and neighbor (elem H) and not neighbor (elem S) and not neighbor (elem N) and not neighbor (elem O))\")\n",
    "\n",
    "    # Get the selection of carbon atoms not bonded to oxygen\n",
    "    selection_dict = cmd.get_model(\"C_not_bonded_to_S_O_N\")\n",
    "    c_choices = [atom[\"index\"] for atom in selection_dict[\"atom\"] if atom[\"name\"].startswith(\"C\")]\n",
    "    \n",
    "    # Ensure a carbon atom is selected for thiophene attachment\n",
    "    while True:\n",
    "        value = random.choice(ss_types['C_2n'])\n",
    "        if value in c_choices:\n",
    "            break\n",
    "\n",
    "    # Attach Thiophene group\n",
    "    object_thiophene = builder.Change_Element_CtoS(mol_to_edit, value)\n",
    "    modified_thiophene.append(object_thiophene)"
   ]
  },
  {
   "cell_type": "code",
   "execution_count": null,
   "id": "1f882549-a51c-44fe-b5b9-fa64b7892ab1",
   "metadata": {},
   "outputs": [],
   "source": [
    "object_names = list(object_masses.keys())\n",
    "modified_thiophene = []\n",
    "\n",
    "num_molecules = round(solution[s1]*0.4)\n",
    "\n",
    "excluded_prefixes = [\"defect\"]\n",
    "filtered_object_names = [name for name in object_names if not any(name.startswith(prefix) for prefix in excluded_prefixes)]\n",
    "\n",
    "\n",
    "if num_molecules > len(object_names):\n",
    "    molecules_to_edit = random.choices(filtered_object_names , k=num_molecules)\n",
    "else:\n",
    "    molecules_to_edit = random.sample(filtered_object_names, num_molecules)\n",
    "\n",
    "for mol_to_edit in molecules_to_edit:\n",
    "    \n",
    "    while True:\n",
    "        \n",
    "        # Get available carbon types\n",
    "        ss_types = builder.examine_main(mol_to_edit)\n",
    "\n",
    "        if len(ss_types['S_1n']) <= 1 and len(ss_types['S_3n']) <= 1 and len(ss_types['S_3n']) <= 1 and len(ss_types['S_4n']) <= 1:\n",
    "            break  # Condition met, proceed to modify the molecule\n",
    "        \n",
    "        # Select a new molecule from the list\n",
    "        mol_to_edit = random.choice(filtered_object_names)\n",
    "    \n",
    "    cmd.select(\"C_not_bonded_to_S_O_N\", f\"({mol_to_edit} and elem C and neighbor (elem H) and not neighbor (elem S) and not neighbor (elem N) and not neighbor (elem O))\")\n",
    "\n",
    "    # Get the selection of carbon atoms not bonded to oxygen\n",
    "    selection_dict = cmd.get_model(\"C_not_bonded_to_S_O_N\")\n",
    "    c_choices = [atom[\"index\"] for atom in selection_dict[\"atom\"] if atom[\"name\"].startswith(\"C\")]\n",
    "    \n",
    "    while True:\n",
    "        value=random.choice(ss_types['C_2n'])\n",
    "        if value in c_choices:\n",
    "            break\n",
    "\n",
    "    # Attach Thiophene group \n",
    "    object_thiophene = builder.Change_Element_CtoS(mol_to_edit,value)\n",
    "    modified_thiophene.append(object_thiophene)"
   ]
  },
  {
   "cell_type": "code",
   "execution_count": null,
   "id": "1f807a52-1025-45b4-94b2-e7f3f7d0769f",
   "metadata": {},
   "outputs": [],
   "source": [
    "atom_counts = {}\n",
    "elements = [\"C\", \"H\", \"N\", \"O\", \"S\", \"P\", \"F\"]\n",
    "\n",
    "for element in elements:\n",
    "    count = cmd.select(f\"elem {element}\")\n",
    "    atom_counts[element] = count\n",
    "s_total3= atom_counts[\"S\"]\n",
    "for element, count in atom_counts.items():\n",
    "    print(f\"Element {element}: {count}\")"
   ]
  },
  {
   "cell_type": "markdown",
   "id": "66b3bd0f-5918-4346-bf4a-5d4d4ba6f4d6",
   "metadata": {},
   "source": [
    "#### Check these values: Should be zero"
   ]
  },
  {
   "cell_type": "code",
   "execution_count": null,
   "id": "31f4a3fb-77e0-4ab3-a249-ffb175081aa3",
   "metadata": {},
   "outputs": [],
   "source": [
    "check_s=s_total3-round(solution[s1])-round(solution[s3])-round(solution[s5])\n",
    "print(check_s)"
   ]
  },
  {
   "cell_type": "code",
   "execution_count": null,
   "id": "809d954f-20c6-4081-9ed7-43d4ca42ad75",
   "metadata": {},
   "outputs": [],
   "source": [
    "cmd.select(\"sulfur_bonded_to_sulfur\", \"(elem S) and neighbor (elem S)\")"
   ]
  },
  {
   "cell_type": "markdown",
   "id": "12b7ad8e-cbf1-46cc-98d2-ebef3dc8a3eb",
   "metadata": {},
   "source": [
    "### Include Sulfide"
   ]
  },
  {
   "cell_type": "code",
   "execution_count": null,
   "id": "3444770f-82ad-4fcd-b3c4-a83dc1ad7fc5",
   "metadata": {},
   "outputs": [],
   "source": [
    "object_names = list(object_masses.keys())\n",
    "modified_thioether = []\n",
    "\n",
    "num_molecules = round(solution[s2])\n",
    "\n",
    "if num_molecules > len(object_names):\n",
    "    molecules_to_edit = random.choices(object_names, k=num_molecules)\n",
    "else:\n",
    "    molecules_to_edit = random.sample(object_names, num_molecules)\n",
    "\n",
    "for mol_to_edit in molecules_to_edit:\n",
    "    \n",
    "    while True:\n",
    "        \n",
    "        # Get available carbon types\n",
    "        ss_types = builder.examine_main(mol_to_edit)\n",
    "\n",
    "        if len(ss_types['S_1n'])<=1  and len(ss_types['S_2n']) <=1 and len(ss_types['S_3n']) <=1 and len(ss_types['S_4n']) <=1:\n",
    "            break  # Condition met, proceed to modify the molecule\n",
    "        \n",
    "        # Select a new molecule from the list\n",
    "        mol_to_edit = random.choice(object_names)\n",
    "    \n",
    "    cmd.select(\"C_not_bonded_to_S_O_N\", f\"({mol_to_edit} and elem C and neighbor (elem H) and not neighbor (elem S) and not neighbor (elem N) and not neighbor (elem O))\")\n",
    "\n",
    "    # Get the selection of carbon atoms not bonded to oxygen\n",
    "    selection_dict = cmd.get_model(\"C_not_bonded_to_S_O_N\")\n",
    "    c_choices = [atom[\"index\"] for atom in selection_dict[\"atom\"] if atom[\"name\"].startswith(\"C\")]\n",
    "    \n",
    "    while True:\n",
    "        value=random.choice(ss_types['C_2n'])\n",
    "        if value in c_choices:\n",
    "            break\n",
    "\n",
    "    # Attach Thioether group \n",
    "    object_thioether = builder.Change_Element_CtoS(mol_to_edit,value)\n",
    "    modified_thioether.append(object_thioether)"
   ]
  },
  {
   "cell_type": "code",
   "execution_count": null,
   "id": "bfb064c1-3b4c-4614-a4eb-691aa4f9639d",
   "metadata": {},
   "outputs": [],
   "source": [
    "atom_counts = {}\n",
    "elements = [\"C\", \"H\", \"N\", \"O\", \"S\", \"P\", \"F\"]\n",
    "\n",
    "for element in elements:\n",
    "    count = cmd.select(f\"elem {element}\")\n",
    "    atom_counts[element] = count\n",
    "s_total4= atom_counts[\"S\"]\n",
    "o_total4 = atom_counts[\"O\"]\n",
    "for element, count in atom_counts.items():\n",
    "    print(f\"Element {element}: {count}\")"
   ]
  },
  {
   "cell_type": "markdown",
   "id": "e5704ef4-5ab7-4b42-af81-47958a5c31a1",
   "metadata": {},
   "source": [
    "#### Check these values: Should be zero"
   ]
  },
  {
   "cell_type": "code",
   "execution_count": null,
   "id": "727f9f15-ef3e-4301-8fc1-6561fed13056",
   "metadata": {},
   "outputs": [],
   "source": [
    "check_s=s_total4-round(solution[s1])-round(solution[s2])-round(solution[s3])-round(solution[s5])\n",
    "print(check_s)"
   ]
  },
  {
   "cell_type": "markdown",
   "id": "960debf7-f429-4499-af33-94f8fd646e96",
   "metadata": {},
   "source": [
    "### Include Sulfo"
   ]
  },
  {
   "cell_type": "code",
   "execution_count": null,
   "id": "2bce329e-c259-47c6-9018-5821ae4ba96e",
   "metadata": {},
   "outputs": [],
   "source": [
    "object_names = list(object_masses.keys())\n",
    "modified_sulfo = []\n",
    "\n",
    "num_molecules = round(solution[s4])\n",
    "\n",
    "if num_molecules > len(object_names):\n",
    "    molecules_to_edit = random.choices(object_names, k=num_molecules)\n",
    "else:\n",
    "    molecules_to_edit = random.sample(object_names, num_molecules)\n",
    "\n",
    "for mol_to_edit in molecules_to_edit:\n",
    "    \n",
    "    # Get available hydrogen types\n",
    "    while True:\n",
    "        \n",
    "        s_types = builder.examine_main(mol_to_edit)\n",
    "\n",
    "        if len(ss_types['S_1n'])<=1  and len(ss_types['S_2n']) <=1 and len(ss_types['S_3n']) <=1 and len(ss_types['S_4n']) <=1:\n",
    "           break  # Condition met, proceed to modify the molecule\n",
    "        \n",
    "        mol_to_edit = random.choice(object_names)\n",
    "    \n",
    "    h_types = builder.examine_h(mol_to_edit)\n",
    "    \n",
    "    # Check if the molecule has 'Aliphatic_C_inRing' oxygen type\n",
    "    if len(h_types['Aliphatic_C_inRing']) == 0:\n",
    "        h_choice = random.choice(h_types['Aliphatic_C'])\n",
    "    else: \n",
    "        h_choice = random.choice(h_types['Aliphatic_C_inRing'])\n",
    "\n",
    "        # Attach Sulfo\n",
    "        object_sulfo = builder.Attach_SO3H(mol_to_edit, h_choice)\n",
    "        modified_sulfo.append(object_sulfo)"
   ]
  },
  {
   "cell_type": "code",
   "execution_count": null,
   "id": "b1feb461-4b55-415b-87c3-9e7ac0d4888b",
   "metadata": {},
   "outputs": [],
   "source": [
    "atom_counts = {}\n",
    "elements = [\"C\", \"H\", \"N\", \"O\", \"S\", \"P\", \"F\"]\n",
    "\n",
    "for element in elements:\n",
    "    count = cmd.select(f\"elem {element}\")\n",
    "    atom_counts[element] = count\n",
    "s_total5 = atom_counts[\"S\"]\n",
    "o_total5 = atom_counts[\"O\"]\n",
    "h_total5 = atom_counts[\"H\"]\n",
    "for element, count in atom_counts.items():\n",
    "    print(f\"Element {element}: {count}\")"
   ]
  },
  {
   "cell_type": "markdown",
   "id": "09a8662e-d7a0-4f69-8c32-054dc0cb70b0",
   "metadata": {},
   "source": [
    "#### Check these values: Should be zero"
   ]
  },
  {
   "cell_type": "code",
   "execution_count": null,
   "id": "a6c64ff5-04bd-4d3c-a270-bfb04cff2334",
   "metadata": {},
   "outputs": [],
   "source": [
    "check_s=s_total5-round(solution[s1])-round(solution[s2])-round(solution[s3])-round(solution[s4])-round(solution[s5])\n",
    "print(check_s)"
   ]
  },
  {
   "cell_type": "code",
   "execution_count": null,
   "id": "ba2d17a5-829f-4463-a5ed-10e1285ab239",
   "metadata": {},
   "outputs": [],
   "source": [
    "check_o=o_total5-o_total4-round(solution[s4])*3\n",
    "print(check_o)"
   ]
  },
  {
   "cell_type": "code",
   "execution_count": null,
   "id": "49bb219f-417d-47b6-8218-0d6f3f8b8b73",
   "metadata": {},
   "outputs": [],
   "source": [
    "cmd.select(\"sulfur_bonded_to_nitrogen\", \"elem S and neighbor elem N\")"
   ]
  },
  {
   "cell_type": "code",
   "execution_count": null,
   "id": "65e639e0-7af2-413f-bdb2-86590a5e865a",
   "metadata": {},
   "outputs": [],
   "source": [
    "cmd.select(\"sulfur_bonded_to_sulfur\", \"elem S and neighbor elem S\")"
   ]
  },
  {
   "cell_type": "markdown",
   "id": "c5a29e07",
   "metadata": {},
   "source": [
    "### Include Hydroxyl Groups"
   ]
  },
  {
   "cell_type": "code",
   "execution_count": null,
   "id": "31b10e79",
   "metadata": {},
   "outputs": [],
   "source": [
    "object_names = list(object_masses.keys())\n",
    "modified_hydroxyls = []\n",
    "\n",
    "num_molecules = round(solution[hydroxyl])\n",
    "\n",
    "excluded_prefixes = [\"defect\"]\n",
    "filtered_object_names = [name for name in object_names if not any(name.startswith(prefix) for prefix in excluded_prefixes)]\n",
    "\n",
    "if num_molecules > len(filtered_object_names):\n",
    "    molecules_to_edit = random.choices(filtered_object_names, k=num_molecules)\n",
    "else:\n",
    "    molecules_to_edit = random.sample(filtered_object_names, num_molecules)\n",
    "\n",
    "for mol_to_edit in molecules_to_edit:\n",
    "    \n",
    "    # Get available hydrogen types\n",
    "    while True:\n",
    "        \n",
    "        # Get available carbon types\n",
    "        o_types = builder.examine_main(mol_to_edit)\n",
    "\n",
    "        if len(o_types['O_2n'])<round(O_C*20) and len(o_types['O_1n'])< round(O_C*20):\n",
    "            break  # Condition met, proceed to modify the molecule\n",
    "        \n",
    "        mol_to_edit = random.choice(filtered_object_names)\n",
    "    \n",
    "    h_types = builder.examine_h(mol_to_edit)\n",
    "    \n",
    "    # Check if the molecule has 'Aliphatic_C_inRing' oxygen type\n",
    "    if len(h_types['Aliphatic_C_inRing']) == 0:\n",
    "        h_choice = random.choice(h_types['Aliphatic_C'])\n",
    "    else: \n",
    "        h_choice = random.choice(h_types['Aliphatic_C_inRing'])\n",
    "\n",
    "        # Attach Hydroxyl group\n",
    "        object_hydroxyl = builder.Attach_OH(mol_to_edit, h_choice)\n",
    "    modified_hydroxyls.append(object_hydroxyl)"
   ]
  },
  {
   "cell_type": "code",
   "execution_count": null,
   "id": "395aca98",
   "metadata": {},
   "outputs": [],
   "source": [
    "atom_counts = {}\n",
    "elements = [\"C\", \"H\", \"N\", \"O\", \"S\", \"P\", \"F\"]\n",
    "\n",
    "for element in elements:\n",
    "    count = cmd.select(f\"elem {element}\")\n",
    "    atom_counts[element] = count\n",
    "o_total= atom_counts[\"O\"]\n",
    "c_total= atom_counts[\"C\"]\n",
    "h_total= atom_counts[\"H\"]\n",
    "\n",
    "for element, count in atom_counts.items():\n",
    "    print(f\"Element {element}: {count}\")"
   ]
  },
  {
   "cell_type": "markdown",
   "id": "ccc503ee",
   "metadata": {},
   "source": [
    "#### Check these values: Should be zero"
   ]
  },
  {
   "cell_type": "code",
   "execution_count": null,
   "id": "85e10259",
   "metadata": {},
   "outputs": [],
   "source": [
    "check_ox=o_total-(o_total5+round(solution[hydroxyl])/2+round(solution[hydroxyl])/2)\n",
    "print(check_ox)"
   ]
  },
  {
   "cell_type": "markdown",
   "id": "eb75fa3d",
   "metadata": {},
   "source": [
    "### Include Carbonyl Groups"
   ]
  },
  {
   "cell_type": "code",
   "execution_count": null,
   "id": "c394f62d",
   "metadata": {},
   "outputs": [],
   "source": [
    "object_names = list(object_masses.keys())\n",
    "modified_carbonyl = []\n",
    "\n",
    "num_molecules = round(solution[carb])\n",
    "\n",
    "excluded_prefixes = [\"benzo_a_fluorene\", \"benzo_b_fluorene\",\"phenalene\", \"phenanthrene\",\"anthracene\",\"pyrene\",\"benzo_a_pyrene\",\"perylene\",\"chrysene\",\"benzo_b_fluoranthene\",\"N5\"]\n",
    "filtered_object_names = [name for name in object_names if not any(name.startswith(prefix) for prefix in excluded_prefixes)]\n",
    "\n",
    "if num_molecules > len(filtered_object_names):\n",
    "    molecules_to_edit = random.choices(filtered_object_names, k=num_molecules)\n",
    "else:\n",
    "    molecules_to_edit = random.sample(filtered_object_names, num_molecules)\n",
    "\n",
    "\n",
    "for mol_to_edit in molecules_to_edit:\n",
    "    while True:\n",
    "\n",
    "        # Get available carbon types\n",
    "        o_types = builder.examine_main(mol_to_edit)\n",
    "        cmd.select(\"hydro_not_bonded_to_CO\", f\"({mol_to_edit} and elem H and neighbor (elem C) and (not neighbor (elem O)))\")\n",
    "            \n",
    "        # Get the selection of carbon atoms not bonded to oxygen\n",
    "        selection_dict = cmd.get_model(\"hydro_not_bonded_to_CO\")\n",
    "        h_choices = [atom[\"index\"] for atom in selection_dict[\"atom\"] if atom[\"name\"].startswith(\"H\")]\n",
    "        \n",
    "        if len(h_choices)>3 and len(o_types['O_2n'])<round(O_C*40) and len(o_types['O_1n'])<round(O_C*40):\n",
    "            break  # Condition met, proceed to modify the molecule\n",
    "            \n",
    "        # Select a new molecule from the list\n",
    "        mol_to_edit = random.choice(filtered_object_names)\n",
    "\n",
    "    h_types = builder.examine_h(mol_to_edit) \n",
    "\n",
    "    while True:\n",
    "        if len(h_types['Aliphatic_C_inRing'])==0:\n",
    "            h_choice = random.choice(h_types['Aliphatic_C'])\n",
    "        else:\n",
    "            h_choice = random.choice(h_types['Aliphatic_C_inRing'])\n",
    "        if h_choice in h_choices:\n",
    "            break\n",
    "\n",
    "    # Attach Carbonyl group\n",
    "    object_carbonyl = builder.Attach_Carbonyl(mol_to_edit, h_choice)\n",
    "    modified_carbonyl.append(object_carbonyl)"
   ]
  },
  {
   "cell_type": "code",
   "execution_count": null,
   "id": "0b317e28",
   "metadata": {},
   "outputs": [],
   "source": [
    "atom_counts = {}\n",
    "elements = [\"C\", \"H\", \"N\", \"O\", \"S\", \"P\", \"F\"]\n",
    "\n",
    "for element in elements:\n",
    "    count = cmd.select(f\"elem {element}\")\n",
    "    atom_counts[element] = count\n",
    "o_total_new= atom_counts[\"O\"]\n",
    "c_total_new= atom_counts[\"C\"]\n",
    "\n",
    "for element, count in atom_counts.items():\n",
    "    print(f\"Element {element}: {count}\")"
   ]
  },
  {
   "cell_type": "markdown",
   "id": "9f614072",
   "metadata": {},
   "source": [
    "#### Check these values: Should be zero"
   ]
  },
  {
   "cell_type": "code",
   "execution_count": null,
   "id": "74b3cb9c",
   "metadata": {},
   "outputs": [],
   "source": [
    "check_c=c_total_new-(c_total+round(solution[carb]))\n",
    "print(check_c)\n",
    "check_o=o_total_new-(o_total+round(solution[carb]))\n",
    "print(check_o)"
   ]
  },
  {
   "cell_type": "markdown",
   "id": "fa537269",
   "metadata": {},
   "source": [
    "### Include Ester and Carboxyl Groups"
   ]
  },
  {
   "cell_type": "code",
   "execution_count": null,
   "id": "c2c10839",
   "metadata": {},
   "outputs": [],
   "source": [
    "object_names = list(object_masses.keys())\n",
    "modified_ester = []\n",
    "\n",
    "num_molecules = math.floor(solution[ester]*0.9) # 90% as ester groups\n",
    "\n",
    "if num_molecules > len(object_names):\n",
    "    molecules_to_edit = random.choices(object_names, k=num_molecules)\n",
    "else:\n",
    "    molecules_to_edit = random.sample(object_names, num_molecules)\n",
    "\n",
    "for mol_to_edit in molecules_to_edit:\n",
    "    while True:\n",
    "            \n",
    "        # Get available carbon types\n",
    "        o_types = builder.examine_main(mol_to_edit)\n",
    "        cmd.select(\"hydro_not_bonded_to_CO\", f\"({mol_to_edit} and elem H and neighbor (elem C) and (not neighbor (elem O)))\")\n",
    "\n",
    "        # Get the selection of carbon atoms not bonded to oxygen\n",
    "        selection_dict = cmd.get_model(\"hydro_not_bonded_to_CO\")\n",
    "        h_choices = [atom[\"index\"] for atom in selection_dict[\"atom\"] if atom[\"name\"].startswith(\"H\")]\n",
    "        \n",
    "        if Biochar_Temp==700:\n",
    "            if len(h_choices)>3 and len(o_types['O_2n'])<round(O_C*80) and len(o_types['O_1n'])<round(O_C*80):\n",
    "                break  # Condition met, proceed to modify the molecule\n",
    "        else:\n",
    "             if len(h_choices)>3 and len(o_types['O_2n'])<round(O_C*55) and len(o_types['O_1n'])<round(O_C*55):\n",
    "                break  # Condition met, proceed to modify the molecule\n",
    "        \n",
    "        # Select a new molecule from the list\n",
    "        mol_to_edit = random.choice(object_names)\n",
    "\n",
    "    h_types = builder.examine_h(mol_to_edit)\n",
    "\n",
    "    while True:\n",
    "        if len(h_types['Aliphatic_C_inRing']) == 0:\n",
    "            h_choice = random.choice(h_types['Aliphatic_C'])\n",
    "        else:\n",
    "            h_choice = random.choice(h_types['Aliphatic_C_inRing'])\n",
    "        if h_choice in h_choices:\n",
    "            break\n",
    "\n",
    "    # Attach Ester group\n",
    "    object_ester = builder.Attach_Ester(mol_to_edit, h_choice)\n",
    "    modified_ester.append(object_ester)"
   ]
  },
  {
   "cell_type": "code",
   "execution_count": null,
   "id": "edfce29b-854c-4b95-b8a7-7d8b332dafa2",
   "metadata": {},
   "outputs": [],
   "source": [
    "object_names = list(object_masses.keys())\n",
    "modified_carbox = []\n",
    "\n",
    "num_molecules = math.ceil(solution[ester]*0.1) # 10% as carboxylic groups\n",
    "\n",
    "if num_molecules > len(object_names):\n",
    "    molecules_to_edit = random.choices(object_names, k=num_molecules)\n",
    "else:\n",
    "    molecules_to_edit = random.sample(object_names, num_molecules)\n",
    "\n",
    "for mol_to_edit in molecules_to_edit:\n",
    "    while True:\n",
    "            \n",
    "        # Get available carbon types\n",
    "        o_types = builder.examine_main(mol_to_edit)\n",
    "        cmd.select(\"hydro_not_bonded_to_CO\", f\"({mol_to_edit} and elem H and neighbor (elem C) and (not neighbor (elem O)))\")\n",
    "\n",
    "        # Get the selection of carbon atoms not bonded to oxygen\n",
    "        selection_dict = cmd.get_model(\"hydro_not_bonded_to_CO\")\n",
    "        h_choices = [atom[\"index\"] for atom in selection_dict[\"atom\"] if atom[\"name\"].startswith(\"H\")]\n",
    "        \n",
    "        if Biochar_Temp==700:\n",
    "            if len(h_choices)>3 and len(o_types['O_2n'])<round(O_C*80) and len(o_types['O_1n'])<round(O_C*80):\n",
    "                break  # Condition met, proceed to modify the molecule\n",
    "        else:\n",
    "             if len(h_choices)>3 and len(o_types['O_2n'])<round(O_C*55) and len(o_types['O_1n'])<round(O_C*55):\n",
    "                break  # Condition met, proceed to modify the molecule\n",
    "        \n",
    "        # Select a new molecule from the list\n",
    "        mol_to_edit = random.choice(object_names)\n",
    "\n",
    "    h_types = builder.examine_h(mol_to_edit)\n",
    "\n",
    "    while True:\n",
    "        if len(h_types['Aliphatic_C_inRing']) == 0:\n",
    "            h_choice = random.choice(h_types['Aliphatic_C'])\n",
    "        else:\n",
    "            h_choice = random.choice(h_types['Aliphatic_C_inRing'])\n",
    "        if h_choice in h_choices:\n",
    "            break\n",
    "\n",
    "    # Attach Carboxylic group\n",
    "    object_carbox = builder.Attach_Carbox(mol_to_edit, h_choice)\n",
    "    modified_carbox.append(object_carbox)"
   ]
  },
  {
   "cell_type": "code",
   "execution_count": null,
   "id": "421662b4-f037-4592-b5d3-36d9d4e8353a",
   "metadata": {},
   "outputs": [],
   "source": [
    "cmd.do(\"valence guess, all\")\n",
    "def add_hydrogens_excluding_prefixes():\n",
    "    excluded_prefixes = []\n",
    "    \n",
    "    filtered_object_names = [\n",
    "        name for name in object_names\n",
    "        if not any(name.startswith(prefix) for prefix in excluded_prefixes)\n",
    "    ]\n",
    "    \n",
    "    for name in filtered_object_names:\n",
    "        cmd.h_add(name)\n",
    "        \n",
    "add_hydrogens_excluding_prefixes()"
   ]
  },
  {
   "cell_type": "code",
   "execution_count": null,
   "id": "2d7b729f-ea87-4b44-a563-c1c9e6496b70",
   "metadata": {},
   "outputs": [],
   "source": [
    "for obj in object_names:\n",
    "    cmd.do('clean %s' % obj)"
   ]
  },
  {
   "cell_type": "code",
   "execution_count": null,
   "id": "799d7c6c",
   "metadata": {},
   "outputs": [],
   "source": [
    "atom_counts = {}\n",
    "elements = [\"C\", \"H\", \"N\", \"O\", \"S\", \"P\", \"F\"]\n",
    "\n",
    "for element in elements:\n",
    "    count = cmd.select(f\"elem {element}\")\n",
    "    atom_counts[element] = count\n",
    "o_total_new2= atom_counts[\"O\"]\n",
    "c_total_new2= atom_counts[\"C\"]\n",
    "h_total_new2= atom_counts[\"H\"]\n",
    "\n",
    "for element, count in atom_counts.items():\n",
    "    print(f\"Element {element}: {count}\")"
   ]
  },
  {
   "cell_type": "markdown",
   "id": "0d52851d",
   "metadata": {},
   "source": [
    "#### Check these values: Should be zero"
   ]
  },
  {
   "cell_type": "code",
   "execution_count": null,
   "id": "692e940e",
   "metadata": {},
   "outputs": [],
   "source": [
    "check_c=c_total_new2-(c_total_new+round(solution[ester]))\n",
    "print(check_c)\n",
    "check_o=o_total_new2-(o_total_new+round(solution[ester])*2)\n",
    "print(check_o)"
   ]
  },
  {
   "cell_type": "markdown",
   "id": "a6da003d",
   "metadata": {},
   "source": [
    "### Include Methyl Groups"
   ]
  },
  {
   "cell_type": "code",
   "execution_count": null,
   "id": "a30f0c81",
   "metadata": {},
   "outputs": [],
   "source": [
    "object_names = list(object_masses.keys())\n",
    "modified_methyl = []\n",
    "\n",
    "num_molecules = round(solution[methyl])\n",
    "\n",
    "if num_molecules > len(object_names):\n",
    "    molecules_to_edit = random.choices(object_names, k=num_molecules)\n",
    "else:\n",
    "    molecules_to_edit = random.sample(object_names, num_molecules)\n",
    "\n",
    "for mol_to_edit in molecules_to_edit:\n",
    "    while True:  \n",
    "\n",
    "        # Get available hydrogen types\n",
    "        cmd.select(\"hydro_not_bonded_to_CO\", f\"({mol_to_edit} and elem H and neighbor (elem C) and (not neighbor (elem O)))\")\n",
    "\n",
    "        # Get the selection of carbon atoms not bonded to oxygen\n",
    "        selection_dict = cmd.get_model(\"hydro_not_bonded_to_CO\")\n",
    "        h_choices = [atom[\"index\"] for atom in selection_dict[\"atom\"] if atom[\"name\"].startswith(\"H\")]\n",
    "\n",
    "        if len(h_choices)>4:\n",
    "            break  # Condition met, proceed to modify the molecule\n",
    "        \n",
    "        # Select a new molecule from the list\n",
    "        mol_to_edit = random.choice(object_names)\n",
    "\n",
    "    h_types = builder.examine_h(mol_to_edit)\n",
    "\n",
    "    while True:\n",
    "        if len(h_types['Aliphatic_C_inRing'])==0:\n",
    "            h_choice = random.choice(h_types['Aliphatic_C'])\n",
    "        else:\n",
    "            h_choice = random.choice(h_types['Aliphatic_C_inRing'])\n",
    "        if h_choice in h_choices:\n",
    "            break\n",
    "            \n",
    "    # Attach Methyl group \n",
    "    object_methyl = builder.Attach_CH3(mol_to_edit, h_choice)\n",
    "    modified_methyl.append(object_methyl)"
   ]
  },
  {
   "cell_type": "code",
   "execution_count": null,
   "id": "f5956e45",
   "metadata": {},
   "outputs": [],
   "source": [
    "atom_counts = {}\n",
    "elements = [\"C\", \"H\", \"N\", \"O\", \"S\", \"P\", \"F\"]\n",
    "\n",
    "for element in elements:\n",
    "    count = cmd.select(f\"elem {element}\")\n",
    "    atom_counts[element] = count\n",
    "c_total_new= atom_counts[\"C\"]\n",
    "h_total_new= atom_counts[\"H\"]\n",
    "\n",
    "for element, count in atom_counts.items():\n",
    "    print(f\"Element {element}: {count}\")"
   ]
  },
  {
   "cell_type": "markdown",
   "id": "6450594b",
   "metadata": {},
   "source": [
    "#### Check these values: Should be zero"
   ]
  },
  {
   "cell_type": "code",
   "execution_count": null,
   "id": "394643a5",
   "metadata": {},
   "outputs": [],
   "source": [
    "check_c=c_total_new-(c_total_new2+round(solution[methyl]))\n",
    "print(check_c)\n",
    "check_hy=h_total_new-(h_total_new2+round(solution[methyl])*2)\n",
    "print(check_hy)"
   ]
  },
  {
   "cell_type": "markdown",
   "id": "da27879a",
   "metadata": {},
   "source": [
    "### Include CH2CH3 Groups"
   ]
  },
  {
   "cell_type": "code",
   "execution_count": null,
   "id": "8bd27580",
   "metadata": {},
   "outputs": [],
   "source": [
    "object_names = list(object_masses.keys())\n",
    "modified_ali_chain = []\n",
    "\n",
    "num_molecules = round(solution[ali_chain])\n",
    "\n",
    "if num_molecules > len(object_names):\n",
    "    molecules_to_edit = random.choices(object_names, k=num_molecules)\n",
    "else:\n",
    "    molecules_to_edit = random.sample(object_names, num_molecules)\n",
    "\n",
    "for mol_to_edit in molecules_to_edit:     \n",
    "    while True:\n",
    "\n",
    "        # Get available hydrogen types\n",
    "        cmd.select(\"hydro_not_bonded_to_CO\", f\"({mol_to_edit} and elem H and neighbor (elem C) and (not neighbor (elem O)))\")\n",
    "\n",
    "        # Get the selection of carbon atoms not bonded to oxygen\n",
    "        selection_dict = cmd.get_model(\"hydro_not_bonded_to_CO\")\n",
    "        h_choices = [atom[\"index\"] for atom in selection_dict[\"atom\"] if atom[\"name\"].startswith(\"H\")]\n",
    "\n",
    "        if len(h_choices)>8:\n",
    "            break  # Condition met, proceed to modify the molecule\n",
    "        \n",
    "        # Select a new molecule from the list\n",
    "        mol_to_edit = random.choice(object_names)\n",
    "        \n",
    "    h_types = builder.examine_h(mol_to_edit)\n",
    "\n",
    "    while True:\n",
    "        if len(h_types['Aliphatic_C_inRing'])==0:\n",
    "            h_choice = random.choice(h_types['Aliphatic_C'])\n",
    "        else:\n",
    "            h_choice = random.choice(h_types['Aliphatic_C_inRing'])\n",
    "        if h_choice in h_choices:\n",
    "            break\n",
    "\n",
    "    # Attach Aliphatic group           \n",
    "    object_ali_chain = builder.Attach_CH2CH3(mol_to_edit, h_choice)\n",
    "    modified_ali_chain.append(object_ali_chain)"
   ]
  },
  {
   "cell_type": "code",
   "execution_count": null,
   "id": "3633eea1",
   "metadata": {},
   "outputs": [],
   "source": [
    "atom_counts = {}\n",
    "elements = [\"C\", \"H\", \"N\", \"O\"]\n",
    "\n",
    "for element in elements:\n",
    "    count = cmd.select(f\"elem {element}\")\n",
    "    atom_counts[element] = count\n",
    "c_total= atom_counts[\"C\"]\n",
    "h_total= atom_counts[\"H\"]\n",
    "\n",
    "for element, count in atom_counts.items():\n",
    "    print(f\"Element {element}: {count}\")"
   ]
  },
  {
   "cell_type": "markdown",
   "id": "3481f1c7",
   "metadata": {},
   "source": [
    "#### Check these values: Should be zero"
   ]
  },
  {
   "cell_type": "code",
   "execution_count": null,
   "id": "3aca1f11",
   "metadata": {},
   "outputs": [],
   "source": [
    "check_c=c_total-(c_total_new+round(solution[ali_chain])*2)\n",
    "print(check_c)\n",
    "check_hy=h_total-(h_total_new+round(solution[ali_chain])*4)\n",
    "print(check_hy)"
   ]
  },
  {
   "cell_type": "markdown",
   "id": "f156de98-b69a-474b-931c-8d943bf92c05",
   "metadata": {},
   "source": [
    "### Include (CH2)2-CH3 Groups for Biochar at 400°C"
   ]
  },
  {
   "cell_type": "code",
   "execution_count": null,
   "id": "61bda4cf-55cc-4975-a13b-cc52e6abb34d",
   "metadata": {},
   "outputs": [],
   "source": [
    "object_names = list(object_masses.keys())\n",
    "modified_ali_chain_2 = []\n",
    "\n",
    "num_molecules = math.ceil(solution[ali_chain_2]/2)\n",
    "\n",
    "if num_molecules > len(object_names):\n",
    "    molecules_to_edit = random.choices(object_names, k=num_molecules)\n",
    "else:\n",
    "    molecules_to_edit = random.sample(object_names, num_molecules)\n",
    "\n",
    "for mol_to_edit in molecules_to_edit:     \n",
    "    while True:\n",
    "\n",
    "        # Get available hydrogen types\n",
    "        cmd.select(\"hydro_not_bonded_to_CO\", f\"({mol_to_edit} and elem H and neighbor (elem C) and (not neighbor (elem O)))\")\n",
    "\n",
    "        # Get the selection of carbon atoms not bonded to oxygen\n",
    "        selection_dict = cmd.get_model(\"hydro_not_bonded_to_CO\")\n",
    "        h_choices = [atom[\"index\"] for atom in selection_dict[\"atom\"] if atom[\"name\"].startswith(\"H\")]\n",
    "\n",
    "        if len(h_choices)>10:\n",
    "            break  # Condition met, proceed to modify the molecule\n",
    "        \n",
    "        # Select a new molecule from the list\n",
    "        mol_to_edit = random.choice(object_names)\n",
    "        \n",
    "    h_types = builder.examine_h(mol_to_edit)\n",
    "\n",
    "    if len(h_types['Aliphatic_C_inRing'])==0:\n",
    "        h_choice = random.choice(h_types['Aliphatic_C'])\n",
    "    else:\n",
    "        h_choice = random.choice(h_types['Aliphatic_C_inRing'])\n",
    "     \n",
    "    # Attach Aliphatic chain group           \n",
    "    object_ali_chain2 = builder.Attach_C2H4CH3(mol_to_edit, h_choice)\n",
    "    modified_ali_chain_2.append(object_ali_chain2)"
   ]
  },
  {
   "cell_type": "code",
   "execution_count": null,
   "id": "10a9bb36-9081-4d4c-b7eb-6bfb1df2482f",
   "metadata": {},
   "outputs": [],
   "source": [
    "object_names = list(object_masses.keys())\n",
    "modified_ali_chain_2 = []\n",
    "\n",
    "num_molecules = math.ceil(solution[ali_chain_2]/2)\n",
    "\n",
    "if num_molecules > len(object_names):\n",
    "    molecules_to_edit = random.choices(object_names, k=num_molecules)\n",
    "else:\n",
    "    molecules_to_edit = random.sample(object_names, num_molecules)\n",
    "\n",
    "for mol_to_edit in molecules_to_edit:     \n",
    "    while True:\n",
    "\n",
    "        # Get available hydrogen types\n",
    "        cmd.select(\"hydro_not_bonded_to_CO\", f\"({mol_to_edit} and elem H and neighbor (elem C) and (not neighbor (elem O)))\")\n",
    "\n",
    "        # Get the selection of carbon atoms not bonded to oxygen\n",
    "        selection_dict = cmd.get_model(\"hydro_not_bonded_to_CO\")\n",
    "        h_choices = [atom[\"index\"] for atom in selection_dict[\"atom\"] if atom[\"name\"].startswith(\"H\")]\n",
    "\n",
    "        if len(h_choices)>12:\n",
    "            break  # Condition met, proceed to modify the molecule\n",
    "        \n",
    "        # Select a new molecule from the list\n",
    "        mol_to_edit = random.choice(object_names)\n",
    "        \n",
    "    h_types = builder.examine_h(mol_to_edit)\n",
    "\n",
    "    if len(h_types['Aliphatic_C_inRing'])==0:\n",
    "        h_choice = random.choice(h_types['Aliphatic_C'])\n",
    "    else:\n",
    "        h_choice = random.choice(h_types['Aliphatic_C_inRing'])\n",
    "     \n",
    "    # Attach Aliphatic chain group           \n",
    "    object_ali_chain2 = builder.Attach_C2H4CH3(mol_to_edit, h_choice)\n",
    "    modified_ali_chain_2.append(object_ali_chain2)"
   ]
  },
  {
   "cell_type": "code",
   "execution_count": null,
   "id": "9d677d5e-5f0a-480b-ba02-afa599c5ca88",
   "metadata": {},
   "outputs": [],
   "source": [
    "atom_counts = {}\n",
    "elements = [\"C\", \"H\", \"N\", \"O\"]\n",
    "\n",
    "for element in elements:\n",
    "    count = cmd.select(f\"elem {element}\")\n",
    "    atom_counts[element] = count\n",
    "c_total_2= atom_counts[\"C\"]\n",
    "h_total_2= atom_counts[\"H\"]\n",
    "\n",
    "for element, count in atom_counts.items():\n",
    "    print(f\"Element {element}: {count}\")"
   ]
  },
  {
   "cell_type": "markdown",
   "id": "60763b1d-2ce1-40a2-972c-92216d928fe5",
   "metadata": {},
   "source": [
    "#### Check these values: Should be zero"
   ]
  },
  {
   "cell_type": "code",
   "execution_count": null,
   "id": "6db60b41-7f7b-4714-9bc6-90065bb4a57c",
   "metadata": {},
   "outputs": [],
   "source": [
    "check_c=c_total_2-(c_total+math.ceil(solution[ali_chain_2])*3)\n",
    "print(check_c)\n",
    "check_hy=h_total_2-(h_total+math.ceil(solution[ali_chain_2])*6)\n",
    "print(check_hy)"
   ]
  },
  {
   "cell_type": "markdown",
   "id": "e5e4be40",
   "metadata": {},
   "source": [
    "### Include NH3 Groups"
   ]
  },
  {
   "cell_type": "code",
   "execution_count": null,
   "id": "bc2ec6ac",
   "metadata": {},
   "outputs": [],
   "source": [
    "object_names = list(object_masses.keys())\n",
    "modified_Aniline = []\n",
    "\n",
    "num_molecules = round(solution[aniline])\n",
    "\n",
    "excluded_prefixes = [\"defect\"]\n",
    "filtered_object_names = [name for name in object_names if not any(name.startswith(prefix) for prefix in excluded_prefixes)]\n",
    "\n",
    "if num_molecules > len(filtered_object_names):\n",
    "    molecules_to_edit = random.choices(filtered_object_names, k=num_molecules)\n",
    "else:\n",
    "    molecules_to_edit = random.sample(filtered_object_names, num_molecules)\n",
    "\n",
    "for mol_to_edit in molecules_to_edit:           \n",
    "    while True:\n",
    "\n",
    "        # Get available carbon types\n",
    "        n_types = builder.examine_main(mol_to_edit)\n",
    "        cmd.select(\"hydro_not_bonded_to_CO\", f\"({mol_to_edit} and elem H and neighbor (elem C) and (not neighbor (elem O)))\")\n",
    "\n",
    "        # Get the selection of carbon atoms not bonded to oxygen\n",
    "        selection_dict = cmd.get_model(\"hydro_not_bonded_to_CO\")\n",
    "        h_choices = [atom[\"index\"] for atom in selection_dict[\"atom\"] if atom[\"name\"].startswith(\"H\")]\n",
    "\n",
    "        if len(n_types['N_2n'])==0 and len(h_choices)>7 and len(n_types['N_3n']) == 0 and len(n_types['N_1n']) == 0:\n",
    "            break  # Condition met, proceed to modify the molecule\n",
    "        \n",
    "        # Select a new molecule from the list\n",
    "        mol_to_edit = random.choice(filtered_object_names)\n",
    "\n",
    "    h_types = builder.examine_h(mol_to_edit)\n",
    "\n",
    "    while True:\n",
    "        if len(h_types['Aliphatic_C_inRing'])==0:\n",
    "            h_choice = random.choice(h_types['Aliphatic_C'])\n",
    "        else:\n",
    "            h_choice = random.choice(h_types['Aliphatic_C_inRing'])\n",
    "        if h_choice in h_choices:\n",
    "            break\n",
    "\n",
    "    # Attach Aniline group\n",
    "    object_Aniline = builder.Attach_Aniline(mol_to_edit, h_choice)\n",
    "    modified_Aniline.append(object_Aniline)"
   ]
  },
  {
   "cell_type": "code",
   "execution_count": null,
   "id": "3b05d4b3",
   "metadata": {},
   "outputs": [],
   "source": [
    "atom_counts = {}\n",
    "elements = [\"C\", \"H\", \"N\", \"O\"]\n",
    "\n",
    "for element in elements:\n",
    "    count = cmd.select(f\"elem {element}\")\n",
    "    atom_counts[element] = count\n",
    "n_total= atom_counts[\"N\"]\n",
    "h_total_new= atom_counts[\"H\"]\n",
    "\n",
    "for element, count in atom_counts.items():\n",
    "    print(f\"Element {element}: {count}\")"
   ]
  },
  {
   "cell_type": "markdown",
   "id": "685fba3f",
   "metadata": {},
   "source": [
    "#### Check these values: Should be zero"
   ]
  },
  {
   "cell_type": "code",
   "execution_count": null,
   "id": "8c0ef82b",
   "metadata": {},
   "outputs": [],
   "source": [
    "check_n=n_total-(round(solution[aniline])+ math.ceil(solution[pyridin]))\n",
    "print(check_n)\n",
    "check_h=h_total_new-(h_total_2+round(solution[aniline]))\n",
    "print(check_h)"
   ]
  },
  {
   "cell_type": "markdown",
   "id": "cc9e94a4",
   "metadata": {},
   "source": [
    "### Include Quaternary Nitrogen"
   ]
  },
  {
   "cell_type": "code",
   "execution_count": null,
   "id": "b0fda68a",
   "metadata": {},
   "outputs": [],
   "source": [
    "object_names = list(object_masses.keys())\n",
    "modified_quater = []\n",
    "\n",
    "num_molecules = round(solution[quaternaryN])\n",
    "\n",
    "excluded_prefixes = [\"circumcoronene\",\"circumpyrene\",\"pentatriacotaene\", \"circumcircumpyrene\",\"C84\"]\n",
    "filtered_object_names = [name for name in object_names if any(name.startswith(prefix) for prefix in excluded_prefixes)]\n",
    "\n",
    "if num_molecules > len(filtered_object_names):\n",
    "    molecules_to_edit = random.choices(filtered_object_names, k=num_molecules)\n",
    "else:\n",
    "    molecules_to_edit = random.sample(filtered_object_names, num_molecules)\n",
    "\n",
    "for mol_to_edit in molecules_to_edit:\n",
    "    \n",
    "    while True:\n",
    "        # Get available carbon types\n",
    "        n_types = builder.examine_main(mol_to_edit)\n",
    "\n",
    "        if len(n_types['N_2n']) == 0 and len(n_types['N_3n']) == 0 and len(n_types['N_1n']) == 0:\n",
    "            break  # Condition met, proceed to modify the molecule\n",
    "        \n",
    "        # Select a new molecule from the list\n",
    "        mol_to_edit = random.choice(filtered_object_names)\n",
    "            \n",
    "    cmd.select(\"nitrogen_not_bonded_to_nitrogen\", f\"({mol_to_edit} and elem C and not neighbor (elem O))\")\n",
    "\n",
    "    # Get the selection of carbon atoms not bonded to oxygen\n",
    "    selection_dict = cmd.get_model(\"nitrogen_not_bonded_to_nitrogen\")\n",
    "        \n",
    "    n_choices = [atom[\"index\"] for atom in selection_dict[\"atom\"] if atom[\"name\"].startswith(\"C\")]\n",
    "    \n",
    "    while True:\n",
    "        value_n=random.choice(n_types['C_3n'])\n",
    "        if value_n in n_choices:\n",
    "            break\n",
    "    # Change the Carbon selected to Nitrogen\n",
    "    object_quater = builder.Change_Element_CtoN(mol_to_edit,value_n)\n",
    "    modified_quater.append(object_quater)"
   ]
  },
  {
   "cell_type": "code",
   "execution_count": null,
   "id": "e75b14f0",
   "metadata": {},
   "outputs": [],
   "source": [
    "atom_counts = {}\n",
    "elements = [\"C\", \"H\", \"N\", \"O\"]\n",
    "\n",
    "for element in elements:\n",
    "    count = cmd.select(f\"elem {element}\")\n",
    "    atom_counts[element] = count\n",
    "n_total_neww= atom_counts[\"N\"]\n",
    "c_total_neww= atom_counts[\"C\"]\n",
    "\n",
    "for element, count in atom_counts.items():\n",
    "    print(f\"Element {element}: {count}\")"
   ]
  },
  {
   "cell_type": "markdown",
   "id": "df0bdeda",
   "metadata": {},
   "source": [
    "#### Check these values: Should be zero\n"
   ]
  },
  {
   "cell_type": "code",
   "execution_count": null,
   "id": "f8766532",
   "metadata": {},
   "outputs": [],
   "source": [
    "check_cc=c_total_2-(c_total_neww+round(solution[quaternaryN]))\n",
    "print(check_cc)\n",
    "check_n=n_total_neww-(n_total+round(solution[quaternaryN]))\n",
    "print(check_n)"
   ]
  },
  {
   "cell_type": "markdown",
   "id": "0c73c334-939e-421e-bdea-5ed57e1058b9",
   "metadata": {},
   "source": [
    "### Include Phosphate"
   ]
  },
  {
   "cell_type": "code",
   "execution_count": null,
   "id": "c691e275-53f7-417a-a45a-1085f3cc3592",
   "metadata": {},
   "outputs": [],
   "source": [
    "object_names = list(object_masses.keys())\n",
    "modified_phosphate = []\n",
    "\n",
    "num_molecules = round(solution[p1])\n",
    "\n",
    "if num_molecules > len(object_names):\n",
    "    molecules_to_edit = random.choices(object_names, k=num_molecules)\n",
    "else:\n",
    "    molecules_to_edit = random.sample(object_names, num_molecules)\n",
    "\n",
    "for mol_to_edit in molecules_to_edit:\n",
    "    \n",
    "    # Get available hydrogen types\n",
    "    while True:\n",
    "        \n",
    "        # Get available carbon types\n",
    "        f_types = builder.examine_main(mol_to_edit)\n",
    "        h_types = builder.examine_h(mol_to_edit)\n",
    "\n",
    "        # Modify the condition to include the OR logic for Aliphatic carbon types\n",
    "        if len(f_types['P_4n']) <= 2 and (len(h_types['Aliphatic_C_inRing']) >= 1 or len(h_types['Aliphatic_C']) >= 1):\n",
    "            break  # Condition met, proceed to modify the molecule\n",
    "        \n",
    "        mol_to_edit = random.choice(object_names)\n",
    "    \n",
    "    h_types = builder.examine_h(mol_to_edit)\n",
    "    \n",
    "    # Check if the molecule has 'Aliphatic_C_inRing' oxygen type\n",
    "    if len(h_types['Aliphatic_C_inRing']) == 0:\n",
    "        h_choice = random.choice(h_types['Aliphatic_C'])\n",
    "    else: \n",
    "        h_choice = random.choice(h_types['Aliphatic_C_inRing'])\n",
    "\n",
    "    # Attach Phosphate\n",
    "    object_phosphate = builder.Attach_phosphate(mol_to_edit, h_choice)\n",
    "    modified_phosphate.append(object_phosphate)\n"
   ]
  },
  {
   "cell_type": "code",
   "execution_count": null,
   "id": "5bc2cc32-f735-4191-bc79-21ff9c05a1c4",
   "metadata": {},
   "outputs": [],
   "source": [
    "atom_counts = {}\n",
    "elements = [\"C\", \"H\", \"N\", \"O\", \"S\", \"P\", \"F\"]\n",
    "\n",
    "for element in elements:\n",
    "    count = cmd.select(f\"elem {element}\")\n",
    "    atom_counts[element] = count\n",
    "p_total= atom_counts[\"P\"]\n",
    "for element, count in atom_counts.items():\n",
    "    print(f\"Element {element}: {count}\")"
   ]
  },
  {
   "cell_type": "markdown",
   "id": "32781c56-a231-42f3-b7d3-85d49b89e214",
   "metadata": {},
   "source": [
    "#### Check these values: Should be zero"
   ]
  },
  {
   "cell_type": "code",
   "execution_count": null,
   "id": "f64fb88a-6c52-4019-8b27-a9ff0bbed75f",
   "metadata": {},
   "outputs": [],
   "source": [
    "cmd.do('colour')\n",
    "check_p=p_total-round(solution[p1])\n",
    "print(check_p)"
   ]
  },
  {
   "cell_type": "code",
   "execution_count": null,
   "id": "bfc84eae-5cc7-468e-a405-288fcd060b21",
   "metadata": {},
   "outputs": [],
   "source": [
    "cmd.select(\"P_bonded_to_P\", \"elem P and neighbor elem P\")"
   ]
  },
  {
   "cell_type": "markdown",
   "id": "263aa163-e08a-4137-b5ed-402412e1271e",
   "metadata": {},
   "source": [
    "### Include Phosphine"
   ]
  },
  {
   "cell_type": "code",
   "execution_count": null,
   "id": "7bb6c7d6-56b8-4932-8fac-c75edfdb5dad",
   "metadata": {},
   "outputs": [],
   "source": [
    "object_names = list(object_masses.keys())\n",
    "modified_phosphine = []\n",
    "\n",
    "num_molecules = round(solution[p2])\n",
    "\n",
    "if num_molecules > len(object_names):\n",
    "    molecules_to_edit = random.choices(object_names, k=num_molecules)\n",
    "else:\n",
    "    molecules_to_edit = random.sample(object_names, num_molecules)\n",
    "\n",
    "for mol_to_edit in molecules_to_edit:\n",
    "    \n",
    "    # Get available hydrogen types\n",
    "    while True:\n",
    "        \n",
    "        # Get available carbon types\n",
    "        f_types = builder.examine_main(mol_to_edit)\n",
    "        h_types = builder.examine_h(mol_to_edit)\n",
    "\n",
    "        if len(f_types['P_4n'])<=5 and (len(h_types['Aliphatic_C_inRing'])>= 1 or len(h_types['Aliphatic_C'])>=1):\n",
    "            break  # Condition met, proceed to modify the molecule\n",
    "        \n",
    "        mol_to_edit = random.choice(object_names)\n",
    "    \n",
    "    h_types = builder.examine_h(mol_to_edit)\n",
    "    \n",
    "    # Check if the molecule has 'Aliphatic_C_inRing' oxygen type\n",
    "    if len(h_types['Aliphatic_C_inRing']) == 0:\n",
    "        h_choice = random.choice(h_types['Aliphatic_C'])\n",
    "    else: \n",
    "        h_choice = random.choice(h_types['Aliphatic_C_inRing'])\n",
    "\n",
    "        # Attach Phosphine\n",
    "        object_phosphine = builder.Attach_phosphine(mol_to_edit, h_choice)\n",
    "    modified_phosphine.append(object_phosphine)"
   ]
  },
  {
   "cell_type": "code",
   "execution_count": null,
   "id": "8fafd972-35d3-4e45-bacc-c35e2042f22e",
   "metadata": {},
   "outputs": [],
   "source": [
    "def add_hydrogens_excluding_prefixes():\n",
    "    excluded_prefixes = []\n",
    "    \n",
    "    filtered_object_names = [\n",
    "        name for name in object_names\n",
    "        if not any(name.startswith(prefix) for prefix in excluded_prefixes)\n",
    "    ]\n",
    "    \n",
    "    for name in filtered_object_names:\n",
    "        cmd.h_add(name)\n",
    "        \n",
    "add_hydrogens_excluding_prefixes()"
   ]
  },
  {
   "cell_type": "code",
   "execution_count": null,
   "id": "590ee526-949f-4d12-a552-248e810e4a41",
   "metadata": {},
   "outputs": [],
   "source": [
    "atom_counts = {}\n",
    "elements = [\"C\", \"H\", \"N\", \"O\", \"S\", \"P\", \"F\"]\n",
    "\n",
    "for element in elements:\n",
    "    count = cmd.select(f\"elem {element}\")\n",
    "    atom_counts[element] = count\n",
    "p_total2= atom_counts[\"P\"]\n",
    "c_total=atom_counts[\"C\"]\n",
    "for element, count in atom_counts.items():\n",
    "    print(f\"Element {element}: {count}\")"
   ]
  },
  {
   "cell_type": "markdown",
   "id": "c3065bdd-cbf4-4ba0-9175-ff6447f5e65d",
   "metadata": {},
   "source": [
    "#### Check these values: Should be zero"
   ]
  },
  {
   "cell_type": "code",
   "execution_count": null,
   "id": "6d2b8a3a-148a-4de9-a3dc-72d08653058b",
   "metadata": {},
   "outputs": [],
   "source": [
    "cmd.do('colour')\n",
    "check_p=p_total2-round(solution[p1])-round(solution[p2])\n",
    "print(check_p)"
   ]
  },
  {
   "cell_type": "code",
   "execution_count": null,
   "id": "67f148e1-093b-4ca6-923e-1db119c45451",
   "metadata": {},
   "outputs": [],
   "source": [
    "cmd.select(\"P_bonded_to_P\", \"elem P and neighbor elem P\")"
   ]
  },
  {
   "cell_type": "markdown",
   "id": "412ac13f-c7bc-4cc3-aa43-1b38cd49c214",
   "metadata": {},
   "source": [
    "### Include (CH)3-CH2 Groups"
   ]
  },
  {
   "cell_type": "code",
   "execution_count": null,
   "id": "374ad3c3-ad0b-41d2-97f7-c56797f52ed2",
   "metadata": {},
   "outputs": [],
   "source": [
    "object_names = list(object_masses.keys())\n",
    "modified_ali_chain_3 = []\n",
    "\n",
    "num_molecules = round(solution[ali_chain_3]/2)\n",
    "\n",
    "if num_molecules > len(object_names):\n",
    "    molecules_to_edit = random.choices(object_names, k=num_molecules)\n",
    "else:\n",
    "    molecules_to_edit = random.sample(object_names, num_molecules)\n",
    "\n",
    "for mol_to_edit in molecules_to_edit:     \n",
    "    while True:\n",
    "\n",
    "        # Get available hydrogen types\n",
    "        cmd.select(\"hydro_not_bonded_to_CO\", f\"({mol_to_edit} and elem H and neighbor (elem C) and (not neighbor (elem O)))\")\n",
    "\n",
    "        # Get the selection of carbon atoms not bonded to oxygen\n",
    "        selection_dict = cmd.get_model(\"hydro_not_bonded_to_CO\")\n",
    "        h_choices = [atom[\"index\"] for atom in selection_dict[\"atom\"] if atom[\"name\"].startswith(\"H\")]\n",
    "\n",
    "        if len(h_choices)>3:\n",
    "            break  # Condition met, proceed to modify the molecule\n",
    "        \n",
    "        # Select a new molecule from the list\n",
    "        mol_to_edit = random.choice(object_names)\n",
    "        \n",
    "    h_types = builder.examine_h(mol_to_edit)\n",
    "\n",
    "    if len(h_types['Aliphatic_C_inRing'])==0:\n",
    "        h_choice = random.choice(h_types['Aliphatic_C'])\n",
    "    else:\n",
    "        h_choice = random.choice(h_types['Aliphatic_C_inRing'])\n",
    "     \n",
    "    # Attach Aliphatic chain group           \n",
    "    object_ali_chain3 = builder.Attach_C4H4(mol_to_edit, h_choice)\n",
    "    modified_ali_chain_3.append(object_ali_chain3)"
   ]
  },
  {
   "cell_type": "code",
   "execution_count": null,
   "id": "903b31f1-2bb6-4dcd-a8e6-7ed029f993a8",
   "metadata": {},
   "outputs": [],
   "source": [
    "object_names = list(object_masses.keys())\n",
    "modified_ali_chain_3 = []\n",
    "\n",
    "num_molecules = round(solution[ali_chain_3]/2)\n",
    "\n",
    "if num_molecules > len(object_names):\n",
    "    molecules_to_edit = random.choices(object_names, k=num_molecules)\n",
    "else:\n",
    "    molecules_to_edit = random.sample(object_names, num_molecules)\n",
    "\n",
    "for mol_to_edit in molecules_to_edit:     \n",
    "    while True:\n",
    "\n",
    "        # Get available hydrogen types\n",
    "        cmd.select(\"hydro_not_bonded_to_CO\", f\"({mol_to_edit} and elem H and neighbor (elem C) and (not neighbor (elem O)))\")\n",
    "\n",
    "        # Get the selection of carbon atoms not bonded to oxygen\n",
    "        selection_dict = cmd.get_model(\"hydro_not_bonded_to_CO\")\n",
    "        h_choices = [atom[\"index\"] for atom in selection_dict[\"atom\"] if atom[\"name\"].startswith(\"H\")]\n",
    "\n",
    "        if len(h_choices)>3:\n",
    "            break  # Condition met, proceed to modify the molecule\n",
    "        \n",
    "        # Select a new molecule from the list\n",
    "        mol_to_edit = random.choice(object_names)\n",
    "        \n",
    "    h_types = builder.examine_h(mol_to_edit)\n",
    "\n",
    "    if len(h_types['Aliphatic_C_inRing'])==0:\n",
    "        h_choice = random.choice(h_types['Aliphatic_C'])\n",
    "    else:\n",
    "        h_choice = random.choice(h_types['Aliphatic_C_inRing'])\n",
    "     \n",
    "    # Attach Aliphatic chain group           \n",
    "    object_ali_chain3 = builder.Attach_C4H4(mol_to_edit, h_choice)\n",
    "    modified_ali_chain_3.append(object_ali_chain3)"
   ]
  },
  {
   "cell_type": "code",
   "execution_count": null,
   "id": "2f88be70-a849-4d47-9f88-75831e2bdf70",
   "metadata": {},
   "outputs": [],
   "source": [
    "atom_counts = {}\n",
    "elements = [\"C\", \"H\", \"N\", \"O\", \"S\", \"P\", \"F\"]\n",
    "\n",
    "for element in elements:\n",
    "    count = cmd.select(f\"elem {element}\")\n",
    "    atom_counts[element] = count\n",
    "c_total_22= atom_counts[\"C\"]\n",
    "h_total_22= atom_counts[\"H\"]\n",
    "\n",
    "for element, count in atom_counts.items():\n",
    "    print(f\"Element {element}: {count}\")"
   ]
  },
  {
   "cell_type": "markdown",
   "id": "ca256b45-44d5-4de8-aeca-3234b07ccd4f",
   "metadata": {},
   "source": [
    "#### Check these values: Should be zero"
   ]
  },
  {
   "cell_type": "code",
   "execution_count": null,
   "id": "a01354d3-3eda-4ebd-9e84-f299dd7e196c",
   "metadata": {},
   "outputs": [],
   "source": [
    "check_c=c_total_22-(c_total + round(solution[ali_chain_3]/2)*4 + round(solution[ali_chain_3]/2)*4)\n",
    "print(check_c)"
   ]
  },
  {
   "cell_type": "markdown",
   "id": "55b37d80-6a19-4b9a-9fbf-146926c7dd0d",
   "metadata": {},
   "source": [
    "### Correct atom valence and include hydrogens to fix the inclusion of functional groups"
   ]
  },
  {
   "cell_type": "code",
   "execution_count": null,
   "id": "96714849-7aaa-4ff8-9fda-7d6c9fcfad2f",
   "metadata": {},
   "outputs": [],
   "source": [
    "cmd.do('colour')\n",
    "cmd.do('orient')\n",
    "cmd.do('set sphere_scale, 0.2, (all)')\n",
    "cmd.do('set_bond stick_radius, 0.14, (all), (all)')\n",
    "cmd.do('show sticks')\n",
    "cmd.do('show spheres')\n",
    "cmd.bg_color(\"white\")\n",
    "cmd.set(\"ray_shadows\", \"off\")"
   ]
  },
  {
   "cell_type": "code",
   "execution_count": null,
   "id": "c3de2083-560e-4e8c-8ca8-74f4433745ab",
   "metadata": {},
   "outputs": [],
   "source": [
    "atom_counts = {}\n",
    "elements = [\"C\", \"H\", \"N\", \"O\", \"S\", \"P\", \"F\"]\n",
    "\n",
    "for element in elements:\n",
    "    count = cmd.select(f\"elem {element}\")\n",
    "    atom_counts[element] = count\n",
    "FinalC1= atom_counts[\"C\"]\n",
    "FinalO= atom_counts[\"O\"]\n",
    "FinalH= atom_counts[\"H\"]\n",
    "FinalN= atom_counts[\"N\"]\n",
    "FinalS= atom_counts[\"S\"]\n",
    "FinalP= atom_counts[\"P\"]\n",
    "FinalF= atom_counts[\"F\"]\n",
    "\n",
    "for element, count in atom_counts.items():\n",
    "    print(f\"Element {element}: {count}\")"
   ]
  },
  {
   "cell_type": "code",
   "execution_count": null,
   "id": "00ab708d-8705-4020-9aa3-d1ace953a1c5",
   "metadata": {},
   "outputs": [],
   "source": [
    "cmd.do(\"valence guess, all\")"
   ]
  },
  {
   "cell_type": "code",
   "execution_count": null,
   "id": "3e7ddbe1",
   "metadata": {},
   "outputs": [],
   "source": [
    "object_names = list(object_masses.keys())\n",
    "for obj in object_names:\n",
    "    cmd.do('clean %s' % obj)"
   ]
  },
  {
   "cell_type": "code",
   "execution_count": null,
   "id": "db86e57d",
   "metadata": {},
   "outputs": [],
   "source": [
    "builder.clear_label()"
   ]
  },
  {
   "cell_type": "markdown",
   "id": "f4f8f724",
   "metadata": {},
   "source": [
    "## Step 5: Create a cross-linked network to fix H/C ratio"
   ]
  },
  {
   "cell_type": "markdown",
   "id": "e8dee3b3-2384-46a2-b109-6ec10c69fa56",
   "metadata": {},
   "source": [
    "### Obtain the molecular formula of decorated clusters before crosslinking"
   ]
  },
  {
   "cell_type": "code",
   "execution_count": null,
   "id": "aa8d3b38-08af-41f7-b80e-329b8845ce86",
   "metadata": {},
   "outputs": [],
   "source": [
    "object_list = cmd.get_object_list()\n",
    "def get_atom_counts(object_list):\n",
    "    elements = ['C', 'H', 'N', 'O', 'S', 'P', 'F']\n",
    "    counts = [object_list]  # Start with the molecule name\n",
    "    for element in elements:\n",
    "        count = cmd.count_atoms(f'elem {element} and model {object_list}')\n",
    "        counts.append(count)\n",
    "    return counts\n",
    "\n",
    "with open('Molecular_formula_before_crosslinking.txt', 'w') as file:\n",
    "    file.write(\"Molecule,C,H,N,O,S,P,F\\n\")\n",
    "    \n",
    "    for molecule in object_list:\n",
    "        atom_counts = get_atom_counts(molecule)\n",
    "        file.write(\",\".join(map(str, atom_counts)) + '\\n')\n",
    "\n",
    "print(\"Composition analysis complete. Results saved to 'Molecular_formula_before_crosslinking.txt'.\")"
   ]
  },
  {
   "cell_type": "markdown",
   "id": "f7d7efdf",
   "metadata": {},
   "source": [
    "### Check againg cross-links by fixing H/C ratio"
   ]
  },
  {
   "cell_type": "code",
   "execution_count": null,
   "id": "dfcaf024",
   "metadata": {},
   "outputs": [],
   "source": [
    "def calculate_Err_H_C(i):\n",
    "    H_C_mod = i/(FinalC1-Internal_C_to_remove)\n",
    "    Err_H_C = (abs(H_C_mod - H_C) / H_C) * 100\n",
    "    return Err_H_C\n",
    "\n",
    "# Iterate over possible values of i and find the minimum error for H/C ratio\n",
    "min_error = np.inf\n",
    "best_i = None\n",
    "for i in range(10000):  # Adjust the range as needed based on how many carbons you have in the simulation\n",
    "    error = calculate_Err_H_C(i)\n",
    "    if error < min_error:\n",
    "        min_error = error\n",
    "        best_i = i\n",
    "\n",
    "print(\"Best i value:\", best_i)\n",
    "print(\"Minimum Err_H_C:\", round(min_error,3))"
   ]
  },
  {
   "cell_type": "markdown",
   "id": "afe76825",
   "metadata": {},
   "source": [
    "#### The number of cross-links needs to be an even number"
   ]
  },
  {
   "cell_type": "code",
   "execution_count": null,
   "id": "244fcd50",
   "metadata": {},
   "outputs": [],
   "source": [
    "def round_to_lowest_even(number):\n",
    "    divided_number = number / 2\n",
    "    rounded_number = math.floor(divided_number)\n",
    "    lowest_even_number = rounded_number * 2\n",
    "    return lowest_even_number"
   ]
  },
  {
   "cell_type": "code",
   "execution_count": null,
   "id": "31208f6c",
   "metadata": {},
   "outputs": [],
   "source": [
    "Hydrogen_to_remove=round_to_lowest_even(FinalH-best_i)\n",
    "print(\"Hydrogen to be removed:\",Hydrogen_to_remove)\n",
    "crosslinks=round_to_lowest_even(Hydrogen_to_remove/2)\n",
    "print(\"Cross-links needed:\",crosslinks)\n",
    "newhydro=FinalH-Hydrogen_to_remove\n",
    "newMW=(FinalC1-Internal_C_to_remove)* 12.011 + newhydro * 1.00784 + FinalN* 14.0067 + FinalO * 15.999 + FinalS * 32.06 + FinalP * 30.974 + FinalF * 18.998"
   ]
  },
  {
   "cell_type": "code",
   "execution_count": null,
   "id": "da693654-66a5-457f-92f5-5ef70e70cd53",
   "metadata": {},
   "outputs": [],
   "source": [
    "object_list = cmd.get_object_list()\n",
    "num_objects = len(object_list)\n",
    "if crosslinks >= (num_objects*0.75):\n",
    "    crosslinks=round_to_lowest_even(crosslinks*0.65)\n",
    "elif crosslinks <=0 or crosslinks < 20:\n",
    "    crosslinks=round_to_lowest_even(FinalH*0.01)\n",
    "else:\n",
    "    crosslinks=crosslinks\n",
    "print(\"Cross-links needed:\",crosslinks)\n",
    "newhydro=FinalH-crosslinks*2"
   ]
  },
  {
   "cell_type": "code",
   "execution_count": null,
   "id": "1e8f1f6a",
   "metadata": {},
   "outputs": [],
   "source": [
    "HydrogenMoles = (newhydro * 1.00784) / newMW\n",
    "CarbonMoles = ((FinalC1-Internal_C_to_remove) * 12.011) / newMW\n",
    "H_C_mod = (HydrogenMoles * 12.011) / (CarbonMoles * 1.00784)\n",
    "print(\"H/C ratio:\",round(H_C_mod,3))\n",
    "Bridgehead_mod =1- (HydrogenMoles * 12.011) / (CarbonMoles * 1.00784)\n",
    "print(\"Bridgehead Carbon:\",round(Bridgehead_mod,3))"
   ]
  },
  {
   "cell_type": "markdown",
   "id": "4e627100",
   "metadata": {},
   "source": [
    "### This step is divide 6 times to create a diverse distribution"
   ]
  },
  {
   "cell_type": "code",
   "execution_count": null,
   "id": "a86f96c3",
   "metadata": {},
   "outputs": [],
   "source": [
    "object_masses= builder.Get_Object_Masses()\n",
    "object_names_new = list(object_masses.keys())\n",
    "while not object_names_new:\n",
    "    object_masses = builder.Get_Object_Masses()\n",
    "    object_names_new = list(object_masses.keys())"
   ]
  },
  {
   "cell_type": "markdown",
   "id": "26b64fc6",
   "metadata": {},
   "source": [
    "### Step one: 25% of the total cross-links"
   ]
  },
  {
   "cell_type": "code",
   "execution_count": null,
   "id": "04940b1e-5a51-4e46-9dec-4fa61f604645",
   "metadata": {},
   "outputs": [],
   "source": [
    "excluded_prefixes = [\"defect\"]\n",
    "filtered_object_names = [name for name in object_names_new if not any(name.startswith(prefix) for prefix in excluded_prefixes)]\n",
    "molecules_to_edit = random.sample(filtered_object_names, round_to_lowest_even(crosslinks/2))\n",
    "\n",
    "selected_objects = []\n",
    "\n",
    "# Loop over each selected molecule\n",
    "for mol_to_edit in molecules_to_edit:\n",
    "    while True:\n",
    "        # Get available carbon types\n",
    "        h_types = builder.examine_h(mol_to_edit)\n",
    "\n",
    "        if len(h_types['Aliphatic_C_inRing']) >1 and mol_to_edit not in selected_objects:\n",
    "            selected_objects.append(mol_to_edit)  # Condition met, append to selected_objects\n",
    "            break  # Condition met, proceed to modify the molecule\n",
    "        else:\n",
    "            # Select a new molecule from molecules_to_edit\n",
    "            mol_to_edit = random.choice(filtered_object_names)\n",
    "\n",
    "print(len(selected_objects))"
   ]
  },
  {
   "cell_type": "code",
   "execution_count": null,
   "id": "0837f0f9",
   "metadata": {},
   "outputs": [],
   "source": [
    "# Check for repeated elements\n",
    "has_duplicates = len(selected_objects) != len(set(selected_objects))\n",
    "\n",
    "if has_duplicates:\n",
    "    print(\"There are repeated elements in the list.\")\n",
    "else:\n",
    "    print(\"There are no repeated elements in the list.\")"
   ]
  },
  {
   "cell_type": "code",
   "execution_count": null,
   "id": "75dd8462",
   "metadata": {},
   "outputs": [],
   "source": [
    "modified_cross = [None] * round_to_lowest_even(crosslinks/4)\n",
    "mol_to_edit = [None] * round_to_lowest_even(crosslinks/2)\n",
    "h_types = [None] * round_to_lowest_even(crosslinks/2)\n",
    "h_choice = [None] *round_to_lowest_even(crosslinks/2)\n",
    "\n",
    "for i in range(0,  round_to_lowest_even(crosslinks/4)):\n",
    "    mol_to_edit[i]= selected_objects[i]\n",
    "    h_types[i] = builder.examine_h(mol_to_edit[i])\n",
    "    h_choice[i] = random.choice(h_types[i]['Aliphatic_C_inRing'])\n",
    "for j in range(round_to_lowest_even(crosslinks/4), round_to_lowest_even(crosslinks/2)):\n",
    "    mol_to_edit[j] = selected_objects[j]\n",
    "    h_types[j] = builder.examine_h(mol_to_edit[j])\n",
    "    h_choice[j] = random.choice(h_types[j]['Aliphatic_C_inRing'])"
   ]
  },
  {
   "cell_type": "code",
   "execution_count": null,
   "id": "475042c0",
   "metadata": {},
   "outputs": [],
   "source": [
    "for k in range(0, round_to_lowest_even(crosslinks/4)):\n",
    "    modified_cross[k]= builder.Crosslink_mols1(mol_to_edit[k], h_choice[k], mol_to_edit[k+round_to_lowest_even(crosslinks/4)], h_choice[k+round_to_lowest_even(crosslinks/4)])"
   ]
  },
  {
   "cell_type": "code",
   "execution_count": null,
   "id": "6cbb57e1",
   "metadata": {},
   "outputs": [],
   "source": [
    "atom_counts = {}\n",
    "elements = [\"C\", \"H\", \"N\", \"O\"]\n",
    "\n",
    "for element in elements:\n",
    "    count = cmd.select(f\"elem {element}\")\n",
    "    atom_counts[element] = count\n",
    "FinalN= atom_counts[\"N\"]\n",
    "FinalC_1= atom_counts[\"C\"]\n",
    "FinalO= atom_counts[\"O\"]\n",
    "FinalH= atom_counts[\"H\"]\n",
    "\n",
    "for element, count in atom_counts.items():\n",
    "    print(f\"Element {element}: {count}\")"
   ]
  },
  {
   "cell_type": "markdown",
   "id": "c51ef5d7",
   "metadata": {},
   "source": [
    "#### Check this value: Should be zero\n"
   ]
  },
  {
   "cell_type": "code",
   "execution_count": null,
   "id": "848884ec",
   "metadata": {},
   "outputs": [],
   "source": [
    "Totalc=FinalC_1-FinalC1\n",
    "print(Totalc)"
   ]
  },
  {
   "cell_type": "markdown",
   "id": "a7d156b5-3880-44f4-88c0-26ed92cf8d53",
   "metadata": {},
   "source": [
    "### Step two: + 25% of the total cross-links"
   ]
  },
  {
   "cell_type": "code",
   "execution_count": null,
   "id": "e6b9d803-b985-416b-bd59-48353f92839d",
   "metadata": {},
   "outputs": [],
   "source": [
    "object_masses= builder.Get_Object_Masses()\n",
    "object_names_new = list(object_masses.keys())\n",
    "while not object_names_new:\n",
    "    object_masses = builder.Get_Object_Masses()\n",
    "    object_names_new = list(object_masses.keys())"
   ]
  },
  {
   "cell_type": "code",
   "execution_count": null,
   "id": "aee42f80-d856-4fe1-b5ca-dee0aa919584",
   "metadata": {},
   "outputs": [],
   "source": [
    "excluded_prefixes = [\"defect\"]\n",
    "filtered_object_names = [name for name in object_names_new if not any(name.startswith(prefix) for prefix in excluded_prefixes)]\n",
    "molecules_to_edit = random.sample(filtered_object_names, round_to_lowest_even(crosslinks/2))\n",
    "\n",
    "selected_objects = []\n",
    "\n",
    "# Loop over each selected molecule\n",
    "for mol_to_edit in molecules_to_edit:\n",
    "    while True:\n",
    "        # Get available carbon types\n",
    "        h_types = builder.examine_h(mol_to_edit)\n",
    "\n",
    "        if len(h_types['Aliphatic_C_inRing']) >1 and mol_to_edit not in selected_objects:\n",
    "            selected_objects.append(mol_to_edit)  # Condition met, append to selected_objects\n",
    "            break  # Condition met, proceed to modify the molecule\n",
    "        else:\n",
    "            # Select a new molecule from molecules_to_edit\n",
    "            mol_to_edit = random.choice(filtered_object_names)\n",
    "\n",
    "print(len(selected_objects))"
   ]
  },
  {
   "cell_type": "code",
   "execution_count": null,
   "id": "0a2b994c-739e-431a-ab70-d1039006651d",
   "metadata": {},
   "outputs": [],
   "source": [
    "# Check for repeated elements\n",
    "has_duplicates = len(selected_objects) != len(set(selected_objects))\n",
    "\n",
    "if has_duplicates:\n",
    "    print(\"There are repeated elements in the list.\")\n",
    "else:\n",
    "    print(\"There are no repeated elements in the list.\")"
   ]
  },
  {
   "cell_type": "code",
   "execution_count": null,
   "id": "145cfac4-ef7e-4517-ac2e-e3ca681685dd",
   "metadata": {},
   "outputs": [],
   "source": [
    "modified_cross = [None] * round_to_lowest_even(crosslinks/4)\n",
    "mol_to_edit = [None] * round_to_lowest_even(crosslinks/2)\n",
    "h_types = [None] * round_to_lowest_even(crosslinks/2)\n",
    "h_choice = [None] *round_to_lowest_even(crosslinks/2)\n",
    "\n",
    "for i in range(0,  round_to_lowest_even(crosslinks/4)):\n",
    "    mol_to_edit[i]= selected_objects[i]\n",
    "    h_types[i] = builder.examine_h(mol_to_edit[i])\n",
    "    h_choice[i] = random.choice(h_types[i]['Aliphatic_C_inRing'])\n",
    "for j in range(round_to_lowest_even(crosslinks/4), round_to_lowest_even(crosslinks/2)):\n",
    "    mol_to_edit[j] = selected_objects[j]\n",
    "    h_types[j] = builder.examine_h(mol_to_edit[j])\n",
    "    h_choice[j] = random.choice(h_types[j]['Aliphatic_C_inRing'])"
   ]
  },
  {
   "cell_type": "code",
   "execution_count": null,
   "id": "0f4da429-8b3e-4e2f-a018-513c5dd0fd5b",
   "metadata": {},
   "outputs": [],
   "source": [
    "for k in range(0, round_to_lowest_even(crosslinks/4)):\n",
    "    modified_cross[k]= builder.Crosslink_mols2(mol_to_edit[k], h_choice[k], mol_to_edit[k+round_to_lowest_even(crosslinks/4)], h_choice[k+round_to_lowest_even(crosslinks/4)])"
   ]
  },
  {
   "cell_type": "code",
   "execution_count": null,
   "id": "b5f8cd58-6682-417f-850c-365e89c2d9a4",
   "metadata": {},
   "outputs": [],
   "source": [
    "atom_counts = {}\n",
    "elements = [\"C\", \"H\", \"N\", \"O\"]\n",
    "\n",
    "for element in elements:\n",
    "    count = cmd.select(f\"elem {element}\")\n",
    "    atom_counts[element] = count\n",
    "FinalN= atom_counts[\"N\"]\n",
    "FinalC2= atom_counts[\"C\"]\n",
    "FinalO= atom_counts[\"O\"]\n",
    "FinalH= atom_counts[\"H\"]\n",
    "\n",
    "for element, count in atom_counts.items():\n",
    "    print(f\"Element {element}: {count}\")"
   ]
  },
  {
   "cell_type": "markdown",
   "id": "2d4a5cf9-da6b-4537-9fe4-dfb3d7f82af2",
   "metadata": {},
   "source": [
    "#### Check this value: Should be zero"
   ]
  },
  {
   "cell_type": "code",
   "execution_count": null,
   "id": "08732c0d-ac0f-4d71-8833-70c714d5e8a4",
   "metadata": {},
   "outputs": [],
   "source": [
    "Totalc=FinalC2-FinalC1\n",
    "print(Totalc)"
   ]
  },
  {
   "cell_type": "markdown",
   "id": "45967e49",
   "metadata": {},
   "source": [
    "### Step three: + 12.5% of the total cross-links"
   ]
  },
  {
   "cell_type": "code",
   "execution_count": null,
   "id": "4c70ff1f",
   "metadata": {},
   "outputs": [],
   "source": [
    "object_masses= builder.Get_Object_Masses()\n",
    "object_names_new = list(object_masses.keys())\n",
    "while not object_names_new:\n",
    "    object_masses = builder.Get_Object_Masses()\n",
    "    object_names_new = list(object_masses.keys())"
   ]
  },
  {
   "cell_type": "code",
   "execution_count": null,
   "id": "6aa7b2c9",
   "metadata": {},
   "outputs": [],
   "source": [
    "object_names_new = list(object_masses.keys())\n",
    "excluded_prefixes = [\"defect\",\"combined\"]\n",
    "filtered_object_names = [name for name in object_names_new if not any(name.startswith(prefix) for prefix in excluded_prefixes)]\n",
    "molecules_to_edit = random.sample(filtered_object_names,round_to_lowest_even(crosslinks/4))\n",
    "\n",
    "selected_objects = []\n",
    "\n",
    "# Loop over each selected molecule\n",
    "for mol_to_edit in molecules_to_edit:\n",
    "    while True:\n",
    "        # Get available carbon types\n",
    "        h_types = builder.examine_h(mol_to_edit)\n",
    "\n",
    "        if len(h_types['Aliphatic_C_inRing']) >2 and mol_to_edit not in selected_objects:\n",
    "            selected_objects.append(mol_to_edit)  # Condition met, append to selected_objects\n",
    "            break  # Condition met, proceed to modify the molecule\n",
    "        else:\n",
    "            # Select a new molecule from molecules_to_edit\n",
    "            mol_to_edit = random.choice(filtered_object_names)\n",
    "\n",
    "print(len(selected_objects))"
   ]
  },
  {
   "cell_type": "code",
   "execution_count": null,
   "id": "ec24163f",
   "metadata": {},
   "outputs": [],
   "source": [
    "# Check for repeated elements\n",
    "has_duplicates = len(selected_objects) != len(set(selected_objects))\n",
    "\n",
    "if has_duplicates:\n",
    "    print(\"There are repeated elements in the list.\")\n",
    "else:\n",
    "    print(\"There are no repeated elements in the list.\")"
   ]
  },
  {
   "cell_type": "code",
   "execution_count": null,
   "id": "6458a59b",
   "metadata": {},
   "outputs": [],
   "source": [
    "mol_to_edit = [None] * round_to_lowest_even(crosslinks/4)\n",
    "h_types = [None] * round_to_lowest_even(crosslinks/4)\n",
    "h_choice = [None] *round_to_lowest_even(crosslinks/4)\n",
    "for i in range(0, round_to_lowest_even(crosslinks/8)):\n",
    "    mol_to_edit[i]= selected_objects[i]\n",
    "    h_types[i] = builder.examine_h(mol_to_edit[i])\n",
    "    h_choice[i] = random.choice(h_types[i]['Aliphatic_C_inRing'])\n",
    "for j in range(round_to_lowest_even(crosslinks/8), round_to_lowest_even(crosslinks/4)):\n",
    "    mol_to_edit[j] = selected_objects[j]\n",
    "    h_types[j] = builder.examine_h(mol_to_edit[j])\n",
    "    h_choice[j] = random.choice(h_types[j]['Aliphatic_C_inRing'])"
   ]
  },
  {
   "cell_type": "code",
   "execution_count": null,
   "id": "b80ab926",
   "metadata": {},
   "outputs": [],
   "source": [
    "for k in range(0, round_to_lowest_even(crosslinks/8)):\n",
    "    modified_cross[k]= builder.Crosslink_mols3(mol_to_edit[k], h_choice[k], mol_to_edit[k+round_to_lowest_even(crosslinks/8)], h_choice[k+round_to_lowest_even(crosslinks/8)])"
   ]
  },
  {
   "cell_type": "code",
   "execution_count": null,
   "id": "8bb552e8",
   "metadata": {},
   "outputs": [],
   "source": [
    "atom_counts = {}\n",
    "elements = [\"C\", \"H\", \"N\", \"O\"]\n",
    "\n",
    "for element in elements:\n",
    "    count = cmd.select(f\"elem {element}\")\n",
    "    atom_counts[element] = count\n",
    "FinalN= atom_counts[\"N\"]\n",
    "FinalC3= atom_counts[\"C\"]\n",
    "FinalO= atom_counts[\"O\"]\n",
    "FinalH= atom_counts[\"H\"]\n",
    "\n",
    "for element, count in atom_counts.items():\n",
    "    print(f\"Element {element}: {count}\")"
   ]
  },
  {
   "cell_type": "markdown",
   "id": "72793a4c",
   "metadata": {},
   "source": [
    "#### Check this value: Should be zero"
   ]
  },
  {
   "cell_type": "code",
   "execution_count": null,
   "id": "bb89f5c3",
   "metadata": {},
   "outputs": [],
   "source": [
    "Totalc2=FinalC3-FinalC1\n",
    "print(Totalc2)"
   ]
  },
  {
   "cell_type": "markdown",
   "id": "8117f8be",
   "metadata": {},
   "source": [
    "### Step four: + 12.5% of the total cross-links"
   ]
  },
  {
   "cell_type": "code",
   "execution_count": null,
   "id": "db96953c",
   "metadata": {},
   "outputs": [],
   "source": [
    "object_masses= builder.Get_Object_Masses()\n",
    "object_names_new = list(object_masses.keys())\n",
    "while not object_names_new:\n",
    "    object_masses = builder.Get_Object_Masses()\n",
    "    object_names_new = list(object_masses.keys())"
   ]
  },
  {
   "cell_type": "code",
   "execution_count": null,
   "id": "f9ff4e4e",
   "metadata": {},
   "outputs": [],
   "source": [
    "print(len(list(object_masses.keys())))"
   ]
  },
  {
   "cell_type": "code",
   "execution_count": null,
   "id": "1057cddb",
   "metadata": {},
   "outputs": [],
   "source": [
    "object_names_new = list(object_masses.keys())\n",
    "molecules_to_edit = random.sample(object_names_new,round_to_lowest_even(crosslinks/4))\n",
    "\n",
    "selected_objects = []\n",
    "\n",
    "# Loop over each selected molecule\n",
    "for mol_to_edit in molecules_to_edit:\n",
    "    while True:\n",
    "        # Get available carbon types\n",
    "        h_types = builder.examine_h(mol_to_edit)\n",
    "\n",
    "        if len(h_types['Aliphatic_C_inRing']) > 2 and mol_to_edit not in selected_objects:\n",
    "            selected_objects.append(mol_to_edit)  # Condition met, append to selected_objects\n",
    "            break  # Condition met, proceed to modify the molecule\n",
    "        else:\n",
    "            # Select a new molecule from molecules_to_edit\n",
    "            mol_to_edit = random.choice(filtered_object_names)\n",
    "\n",
    "print(len(selected_objects))"
   ]
  },
  {
   "cell_type": "code",
   "execution_count": null,
   "id": "0facf90e",
   "metadata": {},
   "outputs": [],
   "source": [
    "# Check for repeated elements\n",
    "has_duplicates = len(selected_objects) != len(set(selected_objects))\n",
    "\n",
    "if has_duplicates:\n",
    "    print(\"There are repeated elements in the list.\")\n",
    "else:\n",
    "    print(\"There are no repeated elements in the list.\")"
   ]
  },
  {
   "cell_type": "code",
   "execution_count": null,
   "id": "012acdb1",
   "metadata": {},
   "outputs": [],
   "source": [
    "mol_to_edit = [None] * round_to_lowest_even(crosslinks/4)\n",
    "h_types = [None] * round_to_lowest_even(crosslinks/4)\n",
    "h_choice = [None] *round_to_lowest_even(crosslinks/4)\n",
    "for i in range(0, round_to_lowest_even(crosslinks/8)):\n",
    "    mol_to_edit[i]= selected_objects[i]\n",
    "    h_types[i] = builder.examine_h(mol_to_edit[i])\n",
    "    h_choice[i] = random.choice(h_types[i]['Aliphatic_C_inRing'])\n",
    "for j in range(round_to_lowest_even(crosslinks/8), round_to_lowest_even(crosslinks/4)):\n",
    "    mol_to_edit[j] = selected_objects[j]\n",
    "    h_types[j] = builder.examine_h(mol_to_edit[j])\n",
    "    h_choice[j] = random.choice(h_types[j]['Aliphatic_C_inRing'])"
   ]
  },
  {
   "cell_type": "code",
   "execution_count": null,
   "id": "49eca918",
   "metadata": {},
   "outputs": [],
   "source": [
    "for k in range(0, round_to_lowest_even(crosslinks/8)):\n",
    "    modified_cross[k]= builder.Crosslink_mols4(mol_to_edit[k], h_choice[k], mol_to_edit[k+round_to_lowest_even(crosslinks/8)], h_choice[k+round_to_lowest_even(crosslinks/8)])"
   ]
  },
  {
   "cell_type": "code",
   "execution_count": null,
   "id": "a189fe34",
   "metadata": {},
   "outputs": [],
   "source": [
    "atom_counts = {}\n",
    "elements = [\"C\", \"H\", \"N\", \"O\"]\n",
    "\n",
    "for element in elements:\n",
    "    count = cmd.select(f\"elem {element}\")\n",
    "    atom_counts[element] = count\n",
    "FinalN= atom_counts[\"N\"]\n",
    "FinalC4= atom_counts[\"C\"]\n",
    "FinalO= atom_counts[\"O\"]\n",
    "FinalH= atom_counts[\"H\"]\n",
    "\n",
    "for element, count in atom_counts.items():\n",
    "    print(f\"Element {element}: {count}\")"
   ]
  },
  {
   "cell_type": "markdown",
   "id": "56ce8abc",
   "metadata": {},
   "source": [
    "#### Check this value: Should be zero"
   ]
  },
  {
   "cell_type": "code",
   "execution_count": null,
   "id": "8a32a5db",
   "metadata": {},
   "outputs": [],
   "source": [
    "Totalc3=FinalC4-FinalC1\n",
    "print(Totalc3)"
   ]
  },
  {
   "cell_type": "markdown",
   "id": "24a4b153",
   "metadata": {},
   "source": [
    "### Step five: + 12.5% of the total cross-links"
   ]
  },
  {
   "cell_type": "code",
   "execution_count": null,
   "id": "67b5e551",
   "metadata": {},
   "outputs": [],
   "source": [
    "object_masses= builder.Get_Object_Masses()\n",
    "object_names_new = list(object_masses.keys())\n",
    "while not object_names_new:\n",
    "    object_masses = builder.Get_Object_Masses()\n",
    "    object_names_new = list(object_masses.keys())"
   ]
  },
  {
   "cell_type": "code",
   "execution_count": null,
   "id": "5b69321c",
   "metadata": {},
   "outputs": [],
   "source": [
    "print(len(list(object_masses.keys())))"
   ]
  },
  {
   "cell_type": "code",
   "execution_count": null,
   "id": "b4342222",
   "metadata": {},
   "outputs": [],
   "source": [
    "object_names_new = list(object_masses.keys())\n",
    "molecules_to_edit = random.sample(object_names_new,round_to_lowest_even(crosslinks/4))\n",
    "\n",
    "selected_objects = []\n",
    "\n",
    "# Loop over each selected molecule\n",
    "for mol_to_edit in molecules_to_edit:\n",
    "    while True:\n",
    "        # Get available carbon types\n",
    "        h_types = builder.examine_h(mol_to_edit)\n",
    "\n",
    "        if len(h_types['Aliphatic_C_inRing']) > 2 and mol_to_edit not in selected_objects:\n",
    "            selected_objects.append(mol_to_edit)  # Condition met, append to selected_objects\n",
    "            break  # Condition met, proceed to modify the molecule\n",
    "        else:\n",
    "            # Select a new molecule from molecules_to_edit\n",
    "            mol_to_edit = random.choice(filtered_object_names)\n",
    "\n",
    "print(len(selected_objects))"
   ]
  },
  {
   "cell_type": "code",
   "execution_count": null,
   "id": "e042b886",
   "metadata": {},
   "outputs": [],
   "source": [
    "# Check for repeated elements\n",
    "has_duplicates = len(selected_objects) != len(set(selected_objects))\n",
    "\n",
    "if has_duplicates:\n",
    "    print(\"There are repeated elements in the list.\")\n",
    "else:\n",
    "    print(\"There are no repeated elements in the list.\")"
   ]
  },
  {
   "cell_type": "code",
   "execution_count": null,
   "id": "26465201",
   "metadata": {},
   "outputs": [],
   "source": [
    "mol_to_edit = [None] * round_to_lowest_even(crosslinks/4)\n",
    "h_types = [None] * round_to_lowest_even(crosslinks/4)\n",
    "h_choice = [None] *round_to_lowest_even(crosslinks/4)\n",
    "for i in range(0, round_to_lowest_even(crosslinks/8)):\n",
    "    mol_to_edit[i]= selected_objects[i]\n",
    "    h_types[i] = builder.examine_h(mol_to_edit[i])\n",
    "    h_choice[i] = random.choice(h_types[i]['Aliphatic_C_inRing'])\n",
    "for j in range(round_to_lowest_even(crosslinks/8), round_to_lowest_even(crosslinks/4)):\n",
    "    mol_to_edit[j] = selected_objects[j]\n",
    "    h_types[j] = builder.examine_h(mol_to_edit[j])\n",
    "    h_choice[j] = random.choice(h_types[j]['Aliphatic_C_inRing'])"
   ]
  },
  {
   "cell_type": "code",
   "execution_count": null,
   "id": "1d8ec55c",
   "metadata": {},
   "outputs": [],
   "source": [
    "for k in range(0, round_to_lowest_even(crosslinks/8)):\n",
    "    modified_cross[k]= builder.Crosslink_mols5(mol_to_edit[k], h_choice[k], mol_to_edit[k+round_to_lowest_even(crosslinks/8)], h_choice[k+round_to_lowest_even(crosslinks/8)])"
   ]
  },
  {
   "cell_type": "code",
   "execution_count": null,
   "id": "0904ef5e-bbab-43dc-a329-fc7886311ea6",
   "metadata": {},
   "outputs": [],
   "source": [
    "atom_counts = {}\n",
    "elements = [\"C\", \"H\", \"N\", \"O\"]\n",
    "\n",
    "for element in elements:\n",
    "    count = cmd.select(f\"elem {element}\")\n",
    "    atom_counts[element] = count\n",
    "FinalN= atom_counts[\"N\"]\n",
    "FinalC5= atom_counts[\"C\"]\n",
    "FinalO= atom_counts[\"O\"]\n",
    "FinalH= atom_counts[\"H\"]\n",
    "\n",
    "for element, count in atom_counts.items():\n",
    "    print(f\"Element {element}: {count}\")"
   ]
  },
  {
   "cell_type": "markdown",
   "id": "64bd4d22-f811-4343-b862-650343ec2fa1",
   "metadata": {},
   "source": [
    "#### Check this value: Should be zero"
   ]
  },
  {
   "cell_type": "code",
   "execution_count": null,
   "id": "f3f0330b-fb20-4248-b213-6cc9277eadd3",
   "metadata": {},
   "outputs": [],
   "source": [
    "Totalc4=FinalC5-FinalC1\n",
    "print(Totalc4)"
   ]
  },
  {
   "cell_type": "markdown",
   "id": "a724c13d-a174-47ed-b609-8c296d8282d9",
   "metadata": {},
   "source": [
    "### Step six: final 12.5% of the total cross-links"
   ]
  },
  {
   "cell_type": "code",
   "execution_count": null,
   "id": "9e888f61-8711-4b23-8256-c2bea2eae844",
   "metadata": {},
   "outputs": [],
   "source": [
    "object_masses= builder.Get_Object_Masses()\n",
    "object_names_new = list(object_masses.keys())\n",
    "while not object_names_new:\n",
    "    object_masses = builder.Get_Object_Masses()\n",
    "    object_names_new = list(object_masses.keys())"
   ]
  },
  {
   "cell_type": "code",
   "execution_count": null,
   "id": "fdb770d9-fc18-4ba0-b6c9-277702d16075",
   "metadata": {},
   "outputs": [],
   "source": [
    "print(len(list(object_masses.keys())))"
   ]
  },
  {
   "cell_type": "code",
   "execution_count": null,
   "id": "246d9ed6-f473-4a4b-a9f7-25eb664cba74",
   "metadata": {},
   "outputs": [],
   "source": [
    "object_names_new = list(object_masses.keys())\n",
    "molecules_to_edit = random.sample(object_names_new,round_to_lowest_even(crosslinks/4))\n",
    "\n",
    "selected_objects = []\n",
    "\n",
    "# Loop over each selected molecule\n",
    "for mol_to_edit in molecules_to_edit:\n",
    "    while True:\n",
    "        # Get available carbon types\n",
    "        h_types = builder.examine_h(mol_to_edit)\n",
    "\n",
    "        if len(h_types['Aliphatic_C_inRing']) > 2 and mol_to_edit not in selected_objects:\n",
    "            selected_objects.append(mol_to_edit)  # Condition met, append to selected_objects\n",
    "            break  # Condition met, proceed to modify the molecule\n",
    "        else:\n",
    "            # Select a new molecule from molecules_to_edit\n",
    "            mol_to_edit = random.choice(filtered_object_names)\n",
    "\n",
    "print(len(selected_objects))"
   ]
  },
  {
   "cell_type": "code",
   "execution_count": null,
   "id": "83056b47-4237-42db-a444-a49d6cf5be26",
   "metadata": {},
   "outputs": [],
   "source": [
    "# Check for repeated elements\n",
    "has_duplicates = len(selected_objects) != len(set(selected_objects))\n",
    "\n",
    "if has_duplicates:\n",
    "    print(\"There are repeated elements in the list.\")\n",
    "else:\n",
    "    print(\"There are no repeated elements in the list.\")"
   ]
  },
  {
   "cell_type": "code",
   "execution_count": null,
   "id": "898cbde0-f5e8-4cc3-9b71-a6e263b98968",
   "metadata": {},
   "outputs": [],
   "source": [
    "mol_to_edit = [None] * round_to_lowest_even(crosslinks/4)\n",
    "h_types = [None] * round_to_lowest_even(crosslinks/4)\n",
    "h_choice = [None] *round_to_lowest_even(crosslinks/4)\n",
    "for i in range(0, round_to_lowest_even(crosslinks/8)):\n",
    "    mol_to_edit[i]= selected_objects[i]\n",
    "    h_types[i] = builder.examine_h(mol_to_edit[i])\n",
    "    h_choice[i] = random.choice(h_types[i]['Aliphatic_C_inRing'])\n",
    "for j in range(round_to_lowest_even(crosslinks/8), round_to_lowest_even(crosslinks/4)):\n",
    "    mol_to_edit[j] = selected_objects[j]\n",
    "    h_types[j] = builder.examine_h(mol_to_edit[j])\n",
    "    h_choice[j] = random.choice(h_types[j]['Aliphatic_C_inRing'])"
   ]
  },
  {
   "cell_type": "code",
   "execution_count": null,
   "id": "e34f3f1a-1b45-4f53-a42b-746d2e952522",
   "metadata": {},
   "outputs": [],
   "source": [
    "for k in range(0, round_to_lowest_even(crosslinks/8)):\n",
    "    modified_cross[k]= builder.Crosslink_mols6(mol_to_edit[k], h_choice[k], mol_to_edit[k+round_to_lowest_even(crosslinks/8)], h_choice[k+round_to_lowest_even(crosslinks/8)])"
   ]
  },
  {
   "cell_type": "markdown",
   "id": "89c6adc5-aedf-4c65-aaf8-5764bb4d2835",
   "metadata": {},
   "source": [
    "### Create holes: Aromatic structures"
   ]
  },
  {
   "cell_type": "code",
   "execution_count": null,
   "id": "2b77a0a7",
   "metadata": {},
   "outputs": [],
   "source": [
    "object_masses= builder.Get_Object_Masses()\n",
    "object_names_new = list(object_masses.keys())\n",
    "while not object_names_new:\n",
    "    object_masses = builder.Get_Object_Masses()\n",
    "    object_names_new = list(object_masses.keys())"
   ]
  },
  {
   "cell_type": "code",
   "execution_count": null,
   "id": "0b123ead-21ef-40e2-9740-60808301bc9f",
   "metadata": {},
   "outputs": [],
   "source": [
    "atom_counts = {}\n",
    "elements = [\"C\", \"H\", \"N\", \"O\", \"S\", \"P\", \"F\"]\n",
    "\n",
    "for element in elements:\n",
    "    count = cmd.select(f\"elem {element}\")\n",
    "    atom_counts[element] = count\n",
    "Final_C1= atom_counts[\"C\"]\n",
    "\n",
    "for element, count in atom_counts.items():\n",
    "    print(f\"Element {element}: {count}\")"
   ]
  },
  {
   "cell_type": "code",
   "execution_count": null,
   "id": "9294d6d3-6b02-400f-8a52-3942480fce89",
   "metadata": {},
   "outputs": [],
   "source": [
    "modified_hole = []\n",
    "\n",
    "excluded_prefixes = [\"defect\", \"fluorine\", \"phenalene\", \"phenanthrene\", \"anthracene\", \"tetracene\", \"pentacene\", \"pyrene\", \"chrysene\", \"benzo_a_fluorene\", \"benzo_b_fluoranthene\", \"benzo_b_fluorene\", \"coronene\", \"benzo_a_pyrene\", \"benzo_g_h_i_perylene\", \"m\"]\n",
    "filtered_object_names = [name for name in object_names_new if not any(name.startswith(prefix) for prefix in excluded_prefixes)]\n",
    "\n",
    "# Initialize a list to keep track of tried molecules\n",
    "tried_molecules = []\n",
    "\n",
    "while True:\n",
    "    num_molecules = round(Internal_C_to_remove - check_c)\n",
    "    # Reset the list of modified holes and tried molecules for each iteration\n",
    "    modified_hole = []\n",
    "    tried_molecules = []\n",
    "\n",
    "    # Prepare the list of molecules to edit\n",
    "    if num_molecules > len(filtered_object_names):\n",
    "        molecules_to_edit = random.choices(filtered_object_names, k=num_molecules)\n",
    "    else:\n",
    "        molecules_to_edit = random.sample(filtered_object_names, num_molecules)\n",
    "\n",
    "    while molecules_to_edit:\n",
    "        mol_to_edit = molecules_to_edit.pop(0)  # Get the first molecule from the list\n",
    "\n",
    "        if mol_to_edit in tried_molecules:\n",
    "            continue  # Skip if we've already tried this molecule\n",
    "        tried_molecules.append(mol_to_edit)\n",
    "\n",
    "        c_types = builder.examine_main(mol_to_edit)\n",
    "        cmd.select(\"C-C-C\", f\"({mol_to_edit} and elem C and not neighbor (elem H) and not neighbor (elem F) and not neighbor (elem S) and not neighbor (elem P) and not neighbor (elem O) and not neighbor ((elem C) and neighbor (elem H)))\")\n",
    "        \n",
    "        # Get the selection of atoms\n",
    "        selection_dict = cmd.get_model(\"C-C-C\")\n",
    "        c_3n_choices = [atom[\"index\"] for atom in selection_dict[\"atom\"] if atom[\"name\"].startswith(\"C\")]\n",
    "        \n",
    "        if c_3n_choices:  # Check if there are valid C_3n choices\n",
    "            value_c = random.choice(c_types['C_3n'])\n",
    "            if value_c in c_3n_choices:\n",
    "                # Remove the internal carbon atom to create a hole in the structure\n",
    "                object_hole = cmd.remove(f'{mol_to_edit} and index {value_c}')\n",
    "                modified_hole.append(object_hole)\n",
    "                print(f\"Edited molecule: {mol_to_edit} at index {value_c}\")\n",
    "                continue  # Move to the next molecule in the list (if any)\n",
    "\n",
    "        # If there are no valid choices or removal wasn't successful\n",
    "        print(f\"No valid C_3n choices or failed to edit for {mol_to_edit}.\")\n",
    "        \n",
    "    if not modified_hole:\n",
    "        print(\"No molecules were successfully edited.\")\n",
    "    \n",
    "    # Count atoms\n",
    "    atom_counts = {}\n",
    "    elements = [\"C\", \"H\", \"N\", \"O\", \"S\", \"P\", \"F\"]\n",
    "\n",
    "    for element in elements:\n",
    "        count = cmd.select(f\"elem {element}\")\n",
    "        atom_counts[element] = count\n",
    "    Final_N = atom_counts[\"N\"]\n",
    "    Final_C = atom_counts[\"C\"]\n",
    "    Final_O = atom_counts[\"O\"]\n",
    "    Final_H = atom_counts[\"H\"]\n",
    "    Final_S = atom_counts[\"S\"]\n",
    "    Final_P = atom_counts[\"P\"]\n",
    "    Final_F = atom_counts[\"F\"]\n",
    "\n",
    "    for element, count in atom_counts.items():\n",
    "        print(f\"Element {element}: {count}\")\n",
    "\n",
    "    check_c = Final_C - (FinalC1 - Internal_C_to_remove)\n",
    "    print(check_c)\n",
    "\n",
    "    if check_c <= 0:\n",
    "        print(\"Stopping loop as check_c is exactly 0.\")\n",
    "        break\n"
   ]
  },
  {
   "cell_type": "code",
   "execution_count": null,
   "id": "6c87da54-4f5a-43e8-92a2-c222762e1d8e",
   "metadata": {},
   "outputs": [],
   "source": [
    "object_masses= builder.Get_Object_Masses()\n",
    "object_names_new = list(object_masses.keys())\n",
    "while not object_names_new:\n",
    "    object_masses = builder.Get_Object_Masses()\n",
    "    object_names_new = list(object_masses.keys())"
   ]
  },
  {
   "cell_type": "code",
   "execution_count": null,
   "id": "0fbe23ef-9e94-44f8-95a0-2542dffca6ff",
   "metadata": {},
   "outputs": [],
   "source": [
    "atom_counts = {}\n",
    "elements = [\"C\", \"H\", \"N\", \"O\", \"S\", \"P\", \"F\"]\n",
    "\n",
    "for element in elements:\n",
    "    count = cmd.select(f\"elem {element}\")\n",
    "    atom_counts[element] = count\n",
    "Final_N= atom_counts[\"N\"]\n",
    "Final_C= atom_counts[\"C\"]\n",
    "Final_O= atom_counts[\"O\"]\n",
    "Final_H= atom_counts[\"H\"]\n",
    "Final_S= atom_counts[\"S\"]\n",
    "Final_P= atom_counts[\"P\"]\n",
    "Final_F= atom_counts[\"F\"]\n",
    "\n",
    "for element, count in atom_counts.items():\n",
    "    print(f\"Element {element}: {count}\")"
   ]
  },
  {
   "cell_type": "markdown",
   "id": "c63186cb-09b5-498b-a5a7-874b5f5e4241",
   "metadata": {},
   "source": [
    "#### Check this value: Should be zero"
   ]
  },
  {
   "cell_type": "code",
   "execution_count": null,
   "id": "e5b62c21-ae74-4ee6-9bdb-251e59cd2b2b",
   "metadata": {},
   "outputs": [],
   "source": [
    "check_c=Final_C-(FinalC1-Internal_C_to_remove)\n",
    "print(check_c)"
   ]
  },
  {
   "cell_type": "code",
   "execution_count": null,
   "id": "b5a4ac7c-6d16-46b2-b90e-424a1c47bc8c",
   "metadata": {},
   "outputs": [],
   "source": [
    "cmd.do(\"valence guess, all\")"
   ]
  },
  {
   "cell_type": "markdown",
   "id": "91f8701d",
   "metadata": {},
   "source": [
    "## Step 6: Check the final ultimate analysis"
   ]
  },
  {
   "cell_type": "code",
   "execution_count": null,
   "id": "01ed3489",
   "metadata": {},
   "outputs": [],
   "source": [
    "builder.clear_label()"
   ]
  },
  {
   "cell_type": "code",
   "execution_count": null,
   "id": "094bb842",
   "metadata": {},
   "outputs": [],
   "source": [
    "newMW2=Final_C* 12.011 + Final_H * 1.00784 + Final_N* 14.0067 + Final_O * 15.999 +Final_S * 32.06 + Final_P * 30.974 + Final_F * 18.998\n",
    "print(\"MW:\",round(newMW2))"
   ]
  },
  {
   "cell_type": "markdown",
   "id": "68242467-5e41-4f3f-b3b8-4f84a998dd4e",
   "metadata": {},
   "source": [
    "### Ultimate Analysis"
   ]
  },
  {
   "cell_type": "code",
   "execution_count": null,
   "id": "11ad761f",
   "metadata": {},
   "outputs": [],
   "source": [
    "# Carbon\n",
    "Elem_c=(Final_C*12.011)/newMW2\n",
    "print(\"Total C:\",round(Elem_c,4))\n",
    "Err_elemc=(abs(Elem_c-Carbon)/Carbon)*100\n",
    "print(\"Final Error:\",round(Err_elemc,3))"
   ]
  },
  {
   "cell_type": "code",
   "execution_count": null,
   "id": "e1ef9376",
   "metadata": {},
   "outputs": [],
   "source": [
    "# Nitrogen\n",
    "Elem_n=(Final_N*14.0067)/newMW2\n",
    "print(\"Total N:\",round(Elem_n,4))\n",
    "Err_elemn=(abs(Elem_n-Nitrogen)/Nitrogen)*100\n",
    "print(\"Final Error:\",round(Err_elemn,3))"
   ]
  },
  {
   "cell_type": "code",
   "execution_count": null,
   "id": "2bb6b039",
   "metadata": {},
   "outputs": [],
   "source": [
    "# Oxygen\n",
    "Elem_o=(Final_O*15.999)/newMW2\n",
    "print(\"Total O:\",round(Elem_o,4))\n",
    "Err_elemo=(abs(Elem_o-Oxygen)/Oxygen)*100\n",
    "print(\"Final Error:\",round(Err_elemo,3))"
   ]
  },
  {
   "cell_type": "code",
   "execution_count": null,
   "id": "b6b62039",
   "metadata": {},
   "outputs": [],
   "source": [
    "# Hydrogen\n",
    "Elem_h=Final_H*1.00784/newMW2\n",
    "print(\"Total H:\",round(Elem_h,4))\n",
    "Err_elemh=(abs(Elem_h-Hydrogen)/Hydrogen)*100\n",
    "print(\"Final Error:\",round(Err_elemh,3))"
   ]
  },
  {
   "cell_type": "code",
   "execution_count": null,
   "id": "0d731c73-6150-40cf-97ac-f88c9b7ed8ed",
   "metadata": {},
   "outputs": [],
   "source": [
    "# Fluorine\n",
    "Elem_f=(Final_F*18.9984)/newMW2\n",
    "print(\"Total F:\",round(Elem_f,4))\n",
    "if Elem_f==0:\n",
    "    Err_elemf=0\n",
    "else:\n",
    "    Err_elemf=(abs(Elem_f-Fluorine)/Fluorine)*100\n",
    "print(\"Error:\",round(Err_elemf,3))"
   ]
  },
  {
   "cell_type": "code",
   "execution_count": null,
   "id": "6b3688c4-0d82-46da-874a-29052bb3e1b8",
   "metadata": {},
   "outputs": [],
   "source": [
    "# Sulfur\n",
    "Elem_s=(Final_S*32.06)/newMW2\n",
    "print(\"Total S:\",round(Elem_s,4))\n",
    "if Elem_s==0:\n",
    "    Err_elems=0\n",
    "else:\n",
    "    Err_elems=(abs(Elem_s-Sulfur)/Sulfur)*100\n",
    "print(\"Final Error:\",round(Err_elems,3))"
   ]
  },
  {
   "cell_type": "code",
   "execution_count": null,
   "id": "d4ea933a-908e-4af9-b1da-4a81c34007c4",
   "metadata": {},
   "outputs": [],
   "source": [
    "# Phosphorus\n",
    "Elem_p=(Final_P*30.974)/newMW2\n",
    "print(\"Total P:\",round(Elem_p,3))\n",
    "if Elem_p==0:\n",
    "    Err_elemp=0\n",
    "else:\n",
    "    Err_elemp=(abs(Elem_p-Phosphorus)/Phosphorus)*100\n",
    "print(\"Final Error:\",round(Err_elemp,3))"
   ]
  },
  {
   "cell_type": "code",
   "execution_count": null,
   "id": "f052fb03",
   "metadata": {},
   "outputs": [],
   "source": [
    "# H/C ratio\n",
    "CarbonMoles = (Final_C * 12.011) / newMW2\n",
    "HydrogenMoles = (Final_H * 1.00784) / newMW2\n",
    "H_C_mod =(HydrogenMoles * 12.011) / (CarbonMoles * 1.00784)\n",
    "print(\"H/C Ratio:\",round(H_C_mod,4))\n",
    "Err_H_C = (abs(H_C_mod - H_C) / H_C) * 100\n",
    "print(\"Error:\",round(Err_H_C,3))"
   ]
  },
  {
   "cell_type": "code",
   "execution_count": null,
   "id": "5e3aa559",
   "metadata": {},
   "outputs": [],
   "source": [
    "# O/C ratio\n",
    "OxygenMoles = (Final_O * 15.999) / newMW2\n",
    "O_C_mod =1/((CarbonMoles * 15.999)/(OxygenMoles  * 12.011)) \n",
    "print(\"O/C Ratio:\",round(O_C_mod,4))\n",
    "Err_C_O = (abs(O_C_mod- O_C) / O_C) * 100\n",
    "print(\"Error:\",round(Err_C_O,3))"
   ]
  },
  {
   "cell_type": "code",
   "execution_count": null,
   "id": "a493a754",
   "metadata": {},
   "outputs": [],
   "source": [
    "# Bridgehead carbon\n",
    "brigd =1-(HydrogenMoles * 12.011) / (CarbonMoles * 1.00784)\n",
    "print(\"Bridgehead Carbon:\",round(brigd,4))\n",
    "Err_brigd = (abs(brigd - BridgheadCarbon) / BridgheadCarbon) * 100\n",
    "print(\"Error:\",round(Err_brigd,3))"
   ]
  },
  {
   "cell_type": "code",
   "execution_count": null,
   "id": "bbb1c49b",
   "metadata": {},
   "outputs": [],
   "source": [
    "cmd.save(\"biochar.pse\")"
   ]
  },
  {
   "cell_type": "markdown",
   "id": "7aa6c372",
   "metadata": {},
   "source": [
    "## Step 7: Check the final 13C NMR "
   ]
  },
  {
   "cell_type": "markdown",
   "id": "61c3a557-51ea-4383-876c-136f260bbbbc",
   "metadata": {},
   "source": [
    "### CNMR"
   ]
  },
  {
   "cell_type": "code",
   "execution_count": null,
   "id": "b4bfa5b1-9933-4172-986c-ebb85f57e9d4",
   "metadata": {},
   "outputs": [],
   "source": [
    "# Aromatic Carbon\n",
    "Err_C=(abs(((solution[aro]-Internal_C_to_remove_Aro)/Final_C)-Aromatic)/Aromatic)*100\n",
    "print(\"Aromatic Carbon:\",round(((solution[aro]-Internal_C_to_remove_Aro)/(Final_C)),3))\n",
    "print(\"Error:\",round(Err_C,3))"
   ]
  },
  {
   "cell_type": "code",
   "execution_count": null,
   "id": "f4719fcb-3714-42d1-9fd7-d11366dbbd8d",
   "metadata": {},
   "outputs": [],
   "source": [
    "# Carbonyl Carbon\n",
    "Err_Carb=(abs(((solution[carb])/Final_C)-Carbonyl)/Carbonyl)*100\n",
    "print(\"Carbonyl Carbon:\",round(((solution[carb])/(Final_C)),3))\n",
    "print(\"Error:\",round(Err_Carb,3))"
   ]
  },
  {
   "cell_type": "code",
   "execution_count": null,
   "id": "6309f115-9bba-426a-bda0-6b0e512c3467",
   "metadata": {},
   "outputs": [],
   "source": [
    "# Carboxyl/Lactone/Ester Carbon\n",
    "Err_Carbox=(abs(((solution[ester])/Final_C)-Ester)/Ester)*100\n",
    "print(\"Ester Carbon:\",round(((solution[ester])/(Final_C)),3))\n",
    "print(\"Error:\",round(Err_Carbox,3))"
   ]
  },
  {
   "cell_type": "code",
   "execution_count": null,
   "id": "2eaf41cf-ab19-4837-9e85-209f2c7e777e",
   "metadata": {},
   "outputs": [],
   "source": [
    "# Ether Carbon\n",
    "Err_ethh=(abs(((solution[eth]*2)/(Final_C))-Ether)/Ether)*100\n",
    "print(\"Ether Carbon\",round((solution[eth]*2)/(Final_C),3))\n",
    "print(\"Error:\",round(Err_ethh,3))"
   ]
  },
  {
   "cell_type": "code",
   "execution_count": null,
   "id": "234e6ec5-207e-4b73-b313-d833d1b50697",
   "metadata": {},
   "outputs": [],
   "source": [
    "# Aliphatic Carbon\n",
    "Err_ali=(abs(((solution[alip])/(Final_C))-Aliphatic)/Aliphatic)*100\n",
    "print(\"Aliphatic Carbon\",round((solution[alip])/(Final_C),3))\n",
    "print(\"Error:\",round(Err_ali,3))"
   ]
  },
  {
   "cell_type": "code",
   "execution_count": null,
   "id": "3f43cbaa-b36e-47b0-9894-1b94eb6f84aa",
   "metadata": {},
   "outputs": [],
   "source": [
    "# Defective Carbon\n",
    "Err_def=(abs(((solution[defe])/(Final_C))-Defect)/Defect)*100\n",
    "print(\"Defective Carbon\",round((solution[defe])/(Final_C),3))\n",
    "print(\"Error:\",round(Err_def,3))"
   ]
  },
  {
   "cell_type": "markdown",
   "id": "a22fdd43-9302-450f-a689-5c82f26e94fb",
   "metadata": {},
   "source": [
    "### Contribution of various C-X bonds for Aromatic and defective rings carbons (Theoretical value estimated through DFT)"
   ]
  },
  {
   "cell_type": "markdown",
   "id": "0af3fe0c",
   "metadata": {},
   "source": [
    "### C-H "
   ]
  },
  {
   "cell_type": "code",
   "execution_count": null,
   "id": "298c6a36-0a1e-4907-8d5e-1070210a45cb",
   "metadata": {},
   "outputs": [],
   "source": [
    "# Function to count bonds between specified atoms\n",
    "def count_bonds(atom1, atom2):\n",
    "    selection_name = f\"C-H\"\n",
    "    cmd.select(selection_name, f\"({atom1}) within 1.8 of ({atom2})\")\n",
    "    bond_count = cmd.count_atoms(selection_name) - 1  # Subtract 1 to exclude the central atom\n",
    "    return bond_count\n",
    "    \n",
    "carbon_atom = \"elem C\"\n",
    "hydrogen_atom = \"elem H\"\n",
    "\n",
    "carbon_hydrogen_bonds = count_bonds(carbon_atom, hydrogen_atom)\n",
    "print(f\"Number of C-H bonds: {carbon_hydrogen_bonds}\")"
   ]
  },
  {
   "cell_type": "markdown",
   "id": "c20bb7a2",
   "metadata": {},
   "source": [
    "### C-O-H"
   ]
  },
  {
   "cell_type": "code",
   "execution_count": null,
   "id": "5212f006-f932-4014-b40f-47372212a86c",
   "metadata": {},
   "outputs": [],
   "source": [
    "def count_three_atom_bonds(atom1, atom2, atom3):\n",
    "    selection_name = f\"C-O-H\"\n",
    "    cmd.select(selection_name, f\"(({atom1}) within 1.8 of ({atom2})) or (({atom2}) within 1.8 of ({atom3})) or (({atom1}) within 1.8 of ({atom3}))\")\n",
    "    bond_count = cmd.count_atoms(selection_name) - 2  # Subtract 2 to exclude the central atoms\n",
    "    \n",
    "    return bond_count\n",
    "\n",
    "carbon_atom = \"elem C\"\n",
    "oxygen_atom = \"elem O\"\n",
    "hydrogen_atom = \"elem H\"\n",
    "\n",
    "carbon_oxygen_hydrogen_bonds = count_three_atom_bonds(carbon_atom, oxygen_atom, hydrogen_atom)\n",
    "print(f\"Number of C–O–H bonds: {carbon_oxygen_hydrogen_bonds}\")"
   ]
  },
  {
   "cell_type": "markdown",
   "id": "8f27d80e",
   "metadata": {},
   "source": [
    "## Step 8: Organize the grid again and proceed to fix the helium density in LAMMPS"
   ]
  },
  {
   "cell_type": "code",
   "execution_count": null,
   "id": "514c4168-3d97-47cf-80f3-c7a2a33f9f82",
   "metadata": {},
   "outputs": [],
   "source": [
    "object_masses= builder.Get_Object_Masses()\n",
    "object_names_new = list(object_masses.keys())\n",
    "while not object_names_new:\n",
    "    object_masses = builder.Get_Object_Masses()\n",
    "    object_names_new = list(object_masses.keys())"
   ]
  },
  {
   "cell_type": "code",
   "execution_count": null,
   "id": "7ede0e37-0dee-44b9-86b9-6d8ab5e155a9",
   "metadata": {},
   "outputs": [],
   "source": [
    "min_angle = 1\n",
    "max_angle = 359.0\n",
    "\n",
    "num_objects = len(object_names_new)\n",
    "\n",
    "positions = []\n",
    "used_positions = set()\n",
    "angles = []\n",
    "xmin, xmax = 0, round(system_size*0.007)\n",
    "ymin, ymax = -round(system_size*0.007), 0\n",
    "zmin, zmax = 0, round(system_size*0.007)\n",
    "\n",
    "# Minimum distance between any two positions to avoid overlap\n",
    "min_distance = round(system_size*0.001)\n",
    "grid_divisions = int(math.ceil(num_objects ** (1 / 3)))\n",
    "\n",
    "grid_size_x = min_distance\n",
    "grid_size_y = min_distance\n",
    "grid_size_z = min_distance\n",
    "\n",
    "# Generate all possible grid positions\n",
    "all_positions = [\n",
    "    (xmin + i * grid_size_x, ymin + j * grid_size_y, zmin + k * grid_size_z)\n",
    "    for i in range(grid_divisions)\n",
    "    for j in range(grid_divisions)\n",
    "    for k in range(grid_divisions)\n",
    "]\n",
    "\n",
    "random.shuffle(all_positions)\n",
    "assert len(all_positions) >= num_objects, \"Not enough positions for all objects.\"\n",
    "\n",
    "# Assign positions to objects\n",
    "for idx, name in enumerate(object_names_new):\n",
    "    x, y, z = all_positions[idx]\n",
    "    positions.append((x, y, z))\n",
    "\n",
    "    rotation_angles = [random.uniform(min_angle, max_angle) for _ in range(3)]\n",
    "    angles.append((rotation_angles, name))\n",
    "\n",
    "    for axis, angle in zip(['x', 'y', 'z'], rotation_angles):\n",
    "        rotation_command = \"rotate {0}, {1}, {2}\".format(axis, angle, name)\n",
    "        cmd.do(rotation_command)\n",
    "\n",
    "    # Translate the object to the new position\n",
    "    cmd.translate((x, y, z), name)\n",
    "\n",
    "cmd.refresh()\n",
    "\n",
    "object_list = cmd.get_object_list()\n",
    "num_objects = len(object_list)\n",
    "print(\"Number of objects:\", num_objects)"
   ]
  },
  {
   "cell_type": "code",
   "execution_count": null,
   "id": "09eb1dbe-ea79-4006-b0a5-6660c7f2c743",
   "metadata": {},
   "outputs": [],
   "source": [
    "# Obtain molecular weight distribution\n",
    "object_masses = builder.Get_Object_Masses()\n",
    "while not object_masses:\n",
    "    object_masses = builder.Get_Object_Masses()"
   ]
  },
  {
   "cell_type": "markdown",
   "id": "aaf92707-794d-4350-b0e4-9a320e6a1489",
   "metadata": {},
   "source": [
    "### Obtain molecular formula of the decorated clusters"
   ]
  },
  {
   "cell_type": "code",
   "execution_count": null,
   "id": "f96c9c33-5aa2-4992-b7ee-5491b4a7f532",
   "metadata": {},
   "outputs": [],
   "source": [
    "def get_atom_counts(object_names_new):\n",
    "    elements = ['C', 'H', 'N', 'O']\n",
    "    counts = [object_names_new]  # Start with the molecule name\n",
    "    for element in elements:\n",
    "        count = cmd.count_atoms(f'elem {element} and model {object_names_new}')\n",
    "        counts.append(count)\n",
    "    return counts\n",
    "\n",
    "with open('Final_molecular_formula.txt', 'w') as file:\n",
    "    file.write(\"Molecule,C,H,N,O,S,Cl,Si\\n\")\n",
    "    \n",
    "    for molecule in object_names_new:\n",
    "        atom_counts = get_atom_counts(molecule)\n",
    "        file.write(\",\".join(map(str, atom_counts)) + '\\n')\n",
    "\n",
    "print(\"Composition analysis complete. Results saved to 'Final_molecular_formula.txt'.\")"
   ]
  },
  {
   "cell_type": "markdown",
   "id": "aa233836",
   "metadata": {},
   "source": [
    "### Export the molecules as PDB file"
   ]
  },
  {
   "cell_type": "code",
   "execution_count": null,
   "id": "2832642b",
   "metadata": {},
   "outputs": [],
   "source": [
    "# Select all atoms\n",
    "cmd.select('all_atoms', 'all')\n",
    "\n",
    "# Export the selection as a multi-file PDB\n",
    "n_states = cmd.count_states('all_atoms')\n",
    "pdb_files = []\n",
    "for state in range(1, n_states + 1):\n",
    "    cmd.frame(state)\n",
    "    pdb_file = f'exported_molecule_{state}.pdb'\n",
    "    cmd.save(pdb_file, 'all_atoms')\n",
    "    pdb_files.append(pdb_file)\n",
    "\n",
    "# Merge the multi-file PDB into a single file\n",
    "merged_file = 'merged_molecule.pdb'\n",
    "with open(merged_file, 'w') as outfile:\n",
    "    for pdb_file in pdb_files:\n",
    "        with open(pdb_file, 'r') as infile:\n",
    "            outfile.write(infile.read())\n",
    "\n",
    "# Save the merged molecule\n",
    "cmd.load(merged_file, 'merged_molecule')\n",
    "cmd.save('final_molecule.pdb', 'merged_molecule')\n",
    "\n",
    "# Clean up the intermediate files\n",
    "for pdb_file in pdb_files:\n",
    "    os.remove(pdb_file)\n",
    "os.remove(merged_file)"
   ]
  },
  {
   "cell_type": "code",
   "execution_count": null,
   "id": "1f7d5db0",
   "metadata": {},
   "outputs": [],
   "source": [
    "# Call the PyMOL aliases\n",
    "cmd.do('colour')\n",
    "cmd.do('orient')\n",
    "# Change colors ans appereance\n",
    "cmd.do('set sphere_scale, 0.2, (all)')\n",
    "cmd.do('set_bond stick_radius, 0.14, (all), (all)')\n",
    "cmd.do('show sticks')\n",
    "cmd.do('show spheres')"
   ]
  },
  {
   "cell_type": "markdown",
   "id": "b16216cf",
   "metadata": {},
   "source": [
    "## Step 9: Convert the PDB file to Lammps data using OVITO"
   ]
  },
  {
   "cell_type": "markdown",
   "id": "afdd3dee",
   "metadata": {},
   "source": [
    "#### To define the x, y, z values use the following code:"
   ]
  },
  {
   "cell_type": "code",
   "execution_count": null,
   "id": "f1b2e9f9",
   "metadata": {},
   "outputs": [],
   "source": [
    "HeliumDensity = float(input(\"Enter the value for Helium Density: \"))  # kg/m3"
   ]
  },
  {
   "cell_type": "code",
   "execution_count": null,
   "id": "ecc077fe",
   "metadata": {},
   "outputs": [],
   "source": [
    "Temperature=298                             # K\n",
    "Pressure=1                                  # atm\n",
    "Density=(HeliumDensity*1000)/(10**(27))     # g/Å3\n",
    "NA=6.022*10**(23)                           # molecules per mol\n",
    "BoxVolume=1/((Density/newMW2)*NA)           # Å3\n",
    "BoxLength=(BoxVolume)**(1/3)                # Å\n",
    "print(\" x, y, z:\",round(BoxLength,3))\n"
   ]
  },
  {
   "cell_type": "markdown",
   "id": "1cd4f12e",
   "metadata": {},
   "source": [
    "#### Open the PDB file in VMD, and in the console put the following commands:"
   ]
  },
  {
   "cell_type": "markdown",
   "id": "ea8149e5",
   "metadata": {},
   "source": [
    "cd Desktop"
   ]
  },
  {
   "cell_type": "markdown",
   "id": "13620bd4",
   "metadata": {},
   "source": [
    "pbc set {x y z} -all\n"
   ]
  },
  {
   "cell_type": "markdown",
   "id": "00a45660",
   "metadata": {},
   "source": [
    "pbc box -center all"
   ]
  },
  {
   "cell_type": "markdown",
   "id": "3246c2f9",
   "metadata": {},
   "source": [
    "topo writelammpsdata biochar.data charge"
   ]
  },
  {
   "cell_type": "markdown",
   "id": "8af841a3-7bc1-423f-bd43-eb9507faf94d",
   "metadata": {},
   "source": [
    "You can also convert it directly using OVITO, just open the file and export it as LAMMPS data using charge"
   ]
  }
 ],
 "metadata": {
  "kernelspec": {
   "display_name": "Python 3 (ipykernel)",
   "language": "python",
   "name": "python3"
  },
  "language_info": {
   "codemirror_mode": {
    "name": "ipython",
    "version": 3
   },
   "file_extension": ".py",
   "mimetype": "text/x-python",
   "name": "python",
   "nbconvert_exporter": "python",
   "pygments_lexer": "ipython3",
   "version": "3.10.13"
  }
 },
 "nbformat": 4,
 "nbformat_minor": 5
}
